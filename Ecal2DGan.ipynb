{
 "cells": [
  {
   "cell_type": "markdown",
   "metadata": {},
   "source": [
    "# Example of a Generative Adversarial Network\n",
    "\n",
    "\n",
    "This notebook provides an example on how to build and train an adversarial generative network (GAN) for fast simulation of shower images produced by a high energy physics calorimeter detector. \n",
    "\n",
    "For this example we are using 2d projection in the transverse and longitudinal plane of 3d shower profiles of an high granularity electromagnetic calorimeter. The calorimeter is a prototype detector which has been studied for for a future linear collider experiment (CLIC).   \n",
    "\n",
    "Using as input data obtained from full simulation of the detector we train a GAN with the aim to perform a fast simulation of the calorimeter. \n",
    "\n",
    "A detailed explanation on the original study using GAN for fast  is available in this publication:\n",
    "\n",
    "*F. Carminati, A. Gheata, K. Gulrukh, P. Mendez Lorenzo, S. Sharan, S. Vallecorsa, Three dimensional Generative Adversarial Networks for fast simulation. Journal of Physics: Conference Series. 1085. 032016. 10.1088/1742-6596/1085/3/032016*\n",
    "\n",
    "Here for simplicity and faster numerical computation, we are using a 2d propjection of the data and train a GAN consisting of 2d convolutional layer to re-generate this data. \n",
    "\n",
    "We provide in the notebook an example how to train the GAN, then how to generate events using a trained network model and we show also the comparison of the obtained showers with the original full simulated ones \n",
    "\n",
    "\n"
   ]
  },
  {
   "cell_type": "code",
   "execution_count": 1,
   "metadata": {},
   "outputs": [
    {
     "name": "stderr",
     "output_type": "stream",
     "text": [
      "Using TensorFlow backend.\n"
     ]
    }
   ],
   "source": [
    "import keras.backend as K\n",
    "\n",
    "import h5py \n",
    "import numpy as np\n",
    "\n",
    "import matplotlib.pyplot as plt\n",
    "%matplotlib inline\n",
    "\n",
    "\n",
    "#options for GPU running\n",
    "import tensorflow as tf\n",
    "session_config = tf.ConfigProto(log_device_placement=True)\n",
    "session_config.gpu_options.allow_growth=True\n",
    "session = tf.Session(config=session_config)\n",
    "K.set_session(session)\n",
    "\n",
    "#use theano (th) like image ordering :   color x width x height \n",
    "K.set_image_dim_ordering('th')\n",
    "\n",
    "from keras.models import Model\n",
    "from keras.optimizers import Adadelta, Adam, RMSprop\n",
    "from keras.utils.generic_utils import Progbar\n",
    "from sklearn.model_selection import train_test_split\n",
    "\n",
    "from keras.layers import (Input, InputLayer, Dense, Reshape, Flatten, Lambda, merge,\n",
    "                          Dropout, BatchNormalization, Activation, Embedding)\n",
    "from keras.layers.advanced_activations import LeakyReLU\n",
    "from keras.layers.convolutional import (UpSampling2D, Conv2D, ZeroPadding2D,\n",
    "                                        AveragePooling2D)\n",
    "\n",
    "from keras.models import Model, Sequential\n",
    " "
   ]
  },
  {
   "cell_type": "markdown",
   "metadata": {},
   "source": [
    "### Define common parameters"
   ]
  },
  {
   "cell_type": "markdown",
   "metadata": {},
   "source": [
    "We define here some gloabl parameter for the example such as: \n",
    "\n",
    "* number of epochs used for training\n",
    "* batch size\n",
    "* size of the latent input (i.e. the input random data used for generating then the images)\n",
    "* total number of events used for training"
   ]
  },
  {
   "cell_type": "code",
   "execution_count": 2,
   "metadata": {},
   "outputs": [],
   "source": [
    "nb_epochs = 10\n",
    "batch_size = 1000\n",
    "latent_size = 100\n",
    "nevt = 10000  # number of events used for (training and testing)\n",
    "train_event_rate = 0.9    # rate of all events used for training, the rest will be used for testing the model\n",
    "\n",
    "seed = None      #seed used for splitting the data (use None for having different one)\n",
    "flip_rate = 0.05  #  rate used to flip  fake/real simulated data labels in the discriminator\n",
    "\n",
    "\n",
    "load_initial_weights = True # start training from an initial set of weights\n",
    "# input name for the weights used for loading the initial model configuration when load_initial_weigts=True \n",
    "input_weights = \"weights_epoch_100\"\n",
    "    "
   ]
  },
  {
   "cell_type": "markdown",
   "metadata": {},
   "source": [
    "## Build GAN model\n",
    "\n",
    "We build now the different components (discriminator and generator) for a generative adversarial model"
   ]
  },
  {
   "cell_type": "markdown",
   "metadata": {},
   "source": [
    "### Create discriminator model\n",
    "\n",
    "We create first the discriminator model using Keras sequential model building.\n",
    "The model consists of 4 convolutional layer followd by a pooling layer and then a dense layer with a single output to discriminate real images from fake ones"
   ]
  },
  {
   "cell_type": "code",
   "execution_count": 3,
   "metadata": {},
   "outputs": [
    {
     "name": "stdout",
     "output_type": "stream",
     "text": [
      "_________________________________________________________________\n",
      "Layer (type)                 Output Shape              Param #   \n",
      "=================================================================\n",
      "conv2d_1 (Conv2D)            (None, 32, 25, 25)        832       \n",
      "_________________________________________________________________\n",
      "leaky_re_lu_1 (LeakyReLU)    (None, 32, 25, 25)        0         \n",
      "_________________________________________________________________\n",
      "zero_padding2d_1 (ZeroPaddin (None, 32, 29, 29)        0         \n",
      "_________________________________________________________________\n",
      "conv2d_2 (Conv2D)            (None, 8, 25, 25)         6408      \n",
      "_________________________________________________________________\n",
      "leaky_re_lu_2 (LeakyReLU)    (None, 8, 25, 25)         0         \n",
      "_________________________________________________________________\n",
      "batch_normalization_1 (Batch (None, 8, 25, 25)         100       \n",
      "_________________________________________________________________\n",
      "zero_padding2d_2 (ZeroPaddin (None, 8, 29, 29)         0         \n",
      "_________________________________________________________________\n",
      "conv2d_3 (Conv2D)            (None, 8, 25, 25)         1608      \n",
      "_________________________________________________________________\n",
      "leaky_re_lu_3 (LeakyReLU)    (None, 8, 25, 25)         0         \n",
      "_________________________________________________________________\n",
      "batch_normalization_2 (Batch (None, 8, 25, 25)         100       \n",
      "_________________________________________________________________\n",
      "zero_padding2d_3 (ZeroPaddin (None, 8, 27, 27)         0         \n",
      "_________________________________________________________________\n",
      "conv2d_4 (Conv2D)            (None, 8, 23, 23)         1608      \n",
      "_________________________________________________________________\n",
      "leaky_re_lu_4 (LeakyReLU)    (None, 8, 23, 23)         0         \n",
      "_________________________________________________________________\n",
      "batch_normalization_3 (Batch (None, 8, 23, 23)         92        \n",
      "_________________________________________________________________\n",
      "average_pooling2d_1 (Average (None, 8, 11, 11)         0         \n",
      "_________________________________________________________________\n",
      "flatten_1 (Flatten)          (None, 968)               0         \n",
      "_________________________________________________________________\n",
      "dense_1 (Dense)              (None, 1)                 969       \n",
      "=================================================================\n",
      "Total params: 11,717\n",
      "Trainable params: 11,571\n",
      "Non-trainable params: 146\n",
      "_________________________________________________________________\n"
     ]
    }
   ],
   "source": [
    "d = Sequential(name='discriminator')\n",
    "\n",
    "d.add(Conv2D(32, (5,5), data_format='channels_first', padding='same', input_shape=(1,25,25) ) ) \n",
    "d.add(LeakyReLU())\n",
    "d.add(ZeroPadding2D((2,2)) )\n",
    "\n",
    "d.add(Conv2D(8, (5, 5), data_format='channels_first', padding='valid'))\n",
    "d.add(LeakyReLU())\n",
    "d.add(BatchNormalization())      \n",
    "d.add(ZeroPadding2D((2, 2)))\n",
    "\n",
    "d.add(Conv2D(8, (5,5), data_format='channels_first', padding='valid'))\n",
    "d.add(LeakyReLU())\n",
    "d.add(BatchNormalization())\n",
    "d.add(ZeroPadding2D((1, 1)))\n",
    "\n",
    "d.add(Conv2D(8, (5, 5), data_format='channels_first', padding='valid'))\n",
    "d.add(LeakyReLU())\n",
    "d.add(BatchNormalization())\n",
    "d.add(AveragePooling2D((2, 2)))\n",
    "d.add(Flatten())\n",
    "\n",
    "d.add(Dense(1, activation='sigmoid'))\n",
    "\n",
    "discriminator = d\n",
    "d.summary()\n",
    "      "
   ]
  },
  {
   "cell_type": "markdown",
   "metadata": {},
   "source": [
    "### Create generator model\n",
    "\n",
    "We create then the generator model. The model takes as input a vector of size `latent_size` and then a combination of convolutional layers and upsampling to get at the end an output image of 25x25 size. "
   ]
  },
  {
   "cell_type": "code",
   "execution_count": 4,
   "metadata": {},
   "outputs": [
    {
     "name": "stdout",
     "output_type": "stream",
     "text": [
      "_________________________________________________________________\n",
      "Layer (type)                 Output Shape              Param #   \n",
      "=================================================================\n",
      "dense_2 (Dense)              (None, 448)               45248     \n",
      "_________________________________________________________________\n",
      "reshape_1 (Reshape)          (None, 8, 7, 8)           0         \n",
      "_________________________________________________________________\n",
      "conv2d_5 (Conv2D)            (None, 64, 7, 8)          24640     \n",
      "_________________________________________________________________\n",
      "leaky_re_lu_5 (LeakyReLU)    (None, 64, 7, 8)          0         \n",
      "_________________________________________________________________\n",
      "batch_normalization_4 (Batch (None, 64, 7, 8)          32        \n",
      "_________________________________________________________________\n",
      "up_sampling2d_1 (UpSampling2 (None, 64, 14, 16)        0         \n",
      "_________________________________________________________________\n",
      "zero_padding2d_4 (ZeroPaddin (None, 64, 18, 16)        0         \n",
      "_________________________________________________________________\n",
      "conv2d_6 (Conv2D)            (None, 6, 14, 9)          15366     \n",
      "_________________________________________________________________\n",
      "leaky_re_lu_6 (LeakyReLU)    (None, 6, 14, 9)          0         \n",
      "_________________________________________________________________\n",
      "batch_normalization_5 (Batch (None, 6, 14, 9)          36        \n",
      "_________________________________________________________________\n",
      "up_sampling2d_2 (UpSampling2 (None, 6, 28, 27)         0         \n",
      "_________________________________________________________________\n",
      "zero_padding2d_5 (ZeroPaddin (None, 6, 28, 33)         0         \n",
      "_________________________________________________________________\n",
      "conv2d_7 (Conv2D)            (None, 6, 26, 26)         870       \n",
      "_________________________________________________________________\n",
      "leaky_re_lu_7 (LeakyReLU)    (None, 6, 26, 26)         0         \n",
      "_________________________________________________________________\n",
      "conv2d_8 (Conv2D)            (None, 1, 25, 25)         24        \n",
      "_________________________________________________________________\n",
      "activation_1 (Activation)    (None, 1, 25, 25)         0         \n",
      "=================================================================\n",
      "Total params: 86,216\n",
      "Trainable params: 86,182\n",
      "Non-trainable params: 34\n",
      "_________________________________________________________________\n"
     ]
    }
   ],
   "source": [
    "gen = Sequential(name='generator')\n",
    "\n",
    "gen.add(Dense(64 * 7, input_dim=latent_size))\n",
    "gen.add(Reshape((8, 7,8)))\n",
    "\n",
    "gen.add(Conv2D(64, (6, 8), data_format='channels_first', padding='same', kernel_initializer='he_uniform'))\n",
    "gen.add(LeakyReLU())\n",
    "gen.add(BatchNormalization())\n",
    "\n",
    "gen.add(UpSampling2D(size=(2, 2)))\n",
    "gen.add(ZeroPadding2D((2, 0)))\n",
    "\n",
    "gen.add(Conv2D(6, (5, 8), data_format='channels_first', kernel_initializer='he_uniform'))\n",
    "gen.add(LeakyReLU())\n",
    "gen.add(BatchNormalization())\n",
    "\n",
    "gen.add(UpSampling2D(size=(2, 3)))\n",
    "gen.add(ZeroPadding2D((0,3)))\n",
    "\n",
    "gen.add(Conv2D(6, (3, 8), data_format='channels_first', kernel_initializer='he_uniform'))\n",
    "gen.add(LeakyReLU())\n",
    "\n",
    "gen.add(Conv2D(1, (2, 2), data_format='channels_first', use_bias=False, kernel_initializer='glorot_normal'))\n",
    "gen.add(Activation('relu'))\n",
    "    \n",
    "generator = gen\n",
    "generator.summary()"
   ]
  },
  {
   "cell_type": "markdown",
   "metadata": {},
   "source": [
    "### Load initial weights\n",
    "\n",
    "Optionally we can load a initial set of weights for both discriminator and generator"
   ]
  },
  {
   "cell_type": "code",
   "execution_count": 5,
   "metadata": {},
   "outputs": [
    {
     "name": "stdout",
     "output_type": "stream",
     "text": [
      "loading weight files: weights/generator_weights_epoch_100.h5 weights/discriminator_weights_epoch_100.h5\n"
     ]
    }
   ],
   "source": [
    "#in case we what to start an initial configuration\n",
    "if (load_initial_weights):\n",
    "    generator_weights = 'weights/generator_' + input_weights + '.h5'\n",
    "    discriminator_weights = 'weights/discriminator_' + input_weights + '.h5'\n",
    "    print('loading weight files:',generator_weights,discriminator_weights)\n",
    "    generator.load_weights(generator_weights)\n",
    "    discriminator.load_weights(discriminator_weights)\n",
    "    "
   ]
  },
  {
   "cell_type": "markdown",
   "metadata": {},
   "source": [
    "### Compile models\n",
    "\n",
    "Now we compile the previously defined models and we set the loss functions"
   ]
  },
  {
   "cell_type": "code",
   "execution_count": 6,
   "metadata": {},
   "outputs": [],
   "source": [
    "discriminator.compile(optimizer=RMSprop(), loss='binary_crossentropy')\n",
    "\n",
    "generator.compile( optimizer=RMSprop(), loss='binary_crossentropy')\n"
   ]
  },
  {
   "cell_type": "markdown",
   "metadata": {},
   "source": [
    "### Make combined model\n",
    "\n",
    "Now we make the combined GAN model. It is a combination of the generator and the discriminator, since the input data are the random fake data which are processed first by the generator and then by the discriminator. In this combined model the discrimionator weights are considered fixed. \n",
    "For making the combined model we use the Keras Functional model building, since we use as input to the discriminator the output of the generator. "
   ]
  },
  {
   "cell_type": "code",
   "execution_count": 7,
   "metadata": {},
   "outputs": [
    {
     "name": "stdout",
     "output_type": "stream",
     "text": [
      "_________________________________________________________________\n",
      "Layer (type)                 Output Shape              Param #   \n",
      "=================================================================\n",
      "latent_input (InputLayer)    (None, 100)               0         \n",
      "_________________________________________________________________\n",
      "generator (Sequential)       (None, 1, 25, 25)         86216     \n",
      "_________________________________________________________________\n",
      "discriminator (Sequential)   (None, 1)                 11717     \n",
      "=================================================================\n",
      "Total params: 97,933\n",
      "Trainable params: 86,182\n",
      "Non-trainable params: 11,751\n",
      "_________________________________________________________________\n"
     ]
    }
   ],
   "source": [
    "latent = Input(shape=(latent_size, ), name='latent_input')\n",
    "\n",
    "fake_image = generator( latent)\n",
    "\n",
    "discriminator.trainable = False\n",
    "fake_disc_out = discriminator(fake_image)\n",
    "combined = Model(inputs=[latent], outputs=[fake_disc_out], name='combined_model')\n",
    "\n",
    "combined.compile( optimizer=RMSprop(), loss='binary_crossentropy')\n",
    "combined.summary()"
   ]
  },
  {
   "cell_type": "markdown",
   "metadata": {},
   "source": [
    "##  Get input data\n",
    "\n",
    "We retrive now the input full simulated image data. The data consists of 2D 200,000 images with size 25x25. \n",
    "They are the x-z (transverse and longitudinal) projection of original 3D showers generated with full simulation (Geant4) of a high granumarity electromagnetic calorimteter detector prototype for CLIC, a future linear collider project. \n",
    "\n",
    "A reduced data set is available in the GitHub repository. The full dataset is available in CERNBox and if it cannot be accessed it can be downlowded from this link: https://cernbox.cern.ch/index.php/s/agKs8jEeYmPSPos\n",
    "\n",
    "A detailed explanation on the orifinal data is available in this publication, \n",
    "*F. Carminati, A. Gheata, K. Gulrukh, P. Mendez Lorenzo, S. Sharan, S. Vallecorsa, Three dimensional Generative Adversarial Networks for fast simulation. Journal of Physics: Conference Series. 1085. 032016. 10.1088/1742-6596/1085/3/032016*\n",
    "\n"
   ]
  },
  {
   "cell_type": "code",
   "execution_count": 8,
   "metadata": {},
   "outputs": [
    {
     "name": "stdout",
     "output_type": "stream",
     "text": [
      "(10000, 1, 25, 25)\n",
      "Number of events in file 10000\n",
      "image size is : 25  x  25\n"
     ]
    }
   ],
   "source": [
    "### small data set is 10000 evts\n",
    "d=h5py.File(\"data/Electron2D_data.h5\",'r')\n",
    "\n",
    "# path to full data (200k events ~1Gb)\n",
    "#d = h5py.File(\"/eos/user/m/moneta/ml-data/Electron2D_data.h5\",'r')\n",
    "\n",
    "# the data consists of two items, the ECAL shower profile which is 200k x 1 x 25 x 25 and \n",
    "# the initial electron energy (name = 'target') that is a uniform distribution between [0,500] GeV. \n",
    "# we use only the ECAL shower profile and not the energy as input \n",
    "\n",
    "\n",
    "xd = d.get('ECAL')\n",
    "print(xd.shape)\n",
    "#e=d.get('target')\n",
    "#print(e.shape)\n",
    "\n",
    "\n",
    "print ('Number of events in file',xd.shape[0])\n",
    "\n",
    "nx = xd.shape[2]\n",
    "ny = xd.shape[3]\n",
    "print('image size is :',nx,' x ',ny)"
   ]
  },
  {
   "cell_type": "code",
   "execution_count": 9,
   "metadata": {},
   "outputs": [
    {
     "name": "stdout",
     "output_type": "stream",
     "text": [
      "*** Input data shape ***\n",
      "(10000, 1, 25, 25)\n"
     ]
    }
   ],
   "source": [
    "#convert in input Numpy array\n",
    "# the shape of the input should be a 4-th array \n",
    "# as   nevents x 1 x width x depth\n",
    "X=np.array(xd[:nevt,:,:])\n",
    "\n",
    "print('*** Input data shape ***')\n",
    "print(X.shape)"
   ]
  },
  {
   "cell_type": "markdown",
   "metadata": {},
   "source": [
    "### Define Training and Test data\n",
    "\n",
    "we split here the input data in trainig and test sets"
   ]
  },
  {
   "cell_type": "code",
   "execution_count": 10,
   "metadata": {},
   "outputs": [
    {
     "name": "stdout",
     "output_type": "stream",
     "text": [
      "(9000, 1, 25, 25)\n",
      "(1000, 1, 25, 25)\n",
      "split input data in  9000 train events and  1000 test events\n"
     ]
    },
    {
     "name": "stderr",
     "output_type": "stream",
     "text": [
      "/cvmfs/sft.cern.ch/lcg/views/LCG_95apython3/x86_64-centos7-gcc7-opt/lib/python3.6/site-packages/sklearn/model_selection/_split.py:2026: FutureWarning: From version 0.21, test_size will always complement train_size unless both are specified.\n",
      "  FutureWarning)\n"
     ]
    }
   ],
   "source": [
    "# remove unphysical values\n",
    "X[X < 1e-6] = 0\n",
    "\n",
    "# split in train and test data using the train_test_split function from sklearn\n",
    "X_train, X_test  = train_test_split(X, train_size= train_event_rate, random_state=seed)\n",
    "\n",
    "print(X_train.shape)\n",
    "print(X_test.shape)\n",
    "\n",
    "nb_train, nb_test = X_train.shape[0], X_test.shape[0]\n",
    "\n",
    "print('split input data in ',nb_train, 'train events and ',nb_test,'test events')\n",
    "\n",
    "#convert to float32\n",
    "\n",
    "X_train = X_train.astype(np.float32)  \n",
    "X_test = X_test.astype(np.float32)\n",
    "\n",
    "\n",
    "tot_epoch_done = 0"
   ]
  },
  {
   "cell_type": "markdown",
   "metadata": {},
   "source": [
    "## GAN Training\n",
    "\n",
    "For the training of the GAN we define first some convenient functions that we will use later. \n",
    "The functions we define are: \n",
    "\n",
    "*  **generate_random_data** to generate the input data for the generator. We generate data from a normal distribution with  zero mean and a sigma that varies for each event with the value drawn from a uniform distribution in the range [1,5]\n",
    "\n",
    "*  **train_GAN_on batch** is a function performing a weights update using a batch of events (e.g. 100 events). It takes as input the original true data (the full simulated images) and using random data as input for the generator, it computes the loss functions first for the discriminator and then for the generator and update the weights using a gradient descent optimization algorithm.  \n",
    "\n",
    "*  **test_GAN** is a function that using the current update weights of the generator network returns the generated image data and also coputes the test loss functions using the statistically independent test input data set.\n",
    "\n",
    "* **train_GAN** is the function performing the full GAN training on the given number of epochs. It calls for each batch of events in an apoch the *train_GAN_on batch* function and then for each epoch tests the model state with the  *test_GAN* function. \n",
    "\n",
    "We also define a function **bit_flip** that is used to flip randomly some of the labels (e.g. 5%) for the discriminator. This is useful to avoid that the discriminator gets stuck (vanishing gradients) and its weights are  not updated anymore \n"
   ]
  },
  {
   "cell_type": "markdown",
   "metadata": {},
   "source": [
    "### Function *generate_random_data*"
   ]
  },
  {
   "cell_type": "code",
   "execution_count": 11,
   "metadata": {},
   "outputs": [],
   "source": [
    "# generate an array of n x input_size  random events for the generator input \n",
    "# we generate from a N(0,s) where s is from a uniform distribution in [1,5] \n",
    "def generate_random_data(n): \n",
    "    noise = np.random.normal(0, 1, (n, latent_size) ) \n",
    "    sampled_energies = np.random.uniform(1, 5, (n,1) )\n",
    "    random_data = np.multiply(sampled_energies, noise)\n",
    "    return random_data"
   ]
  },
  {
   "cell_type": "markdown",
   "metadata": {},
   "source": [
    "#### Function **bit_flip** "
   ]
  },
  {
   "cell_type": "code",
   "execution_count": 12,
   "metadata": {},
   "outputs": [],
   "source": [
    "def bit_flip(x, prob=flip_rate):\n",
    "    \"\"\" flips a int array's values with some probability \"\"\"\n",
    "    x = np.array(x)\n",
    "    selection = np.random.uniform(0, 1, x.shape) < prob\n",
    "    x[selection] = 1 * np.logical_not(x[selection])\n",
    "    return x"
   ]
  },
  {
   "cell_type": "markdown",
   "metadata": {},
   "source": [
    "### Function *train_GAN_on_batch* \n",
    "\n",
    "Training of the GAN on a single batch. Please note the following tricks used commonly in order to better stabilize the training: \n",
    "\n",
    "*  The loss function for the generator to optimize is *max(log (D))* instead of *min(log (1-D))*. This formulation suffer less from vanishing gradients. \n",
    "*  Some of the labels are randomly flip with a low probability ( ~ 1%) when training the discriminator\n",
    "*  Train the discriminator on separate batches for real and fake data"
   ]
  },
  {
   "cell_type": "code",
   "execution_count": 13,
   "metadata": {},
   "outputs": [],
   "source": [
    "def train_GAN_on_batch(image_batch): \n",
    "    \n",
    "        #generate input random data for generator \n",
    "        generator_input = generate_random_data(batch_size)\n",
    "        \n",
    "        # perform generator prediction\n",
    "        generated_images = generator.predict(generator_input, verbose=False)\n",
    "\n",
    "        # train discriminator on real batch and fake batch \n",
    "        # important to do separatly\n",
    "        # real batch will have label 1 and fake label 0\n",
    "        # we use also a trick to flip randomly some small percentage of labels\n",
    "        \n",
    "        real_batch_loss = discriminator.train_on_batch(image_batch, bit_flip(np.ones(batch_size))) \n",
    "        fake_batch_loss = discriminator.train_on_batch(generated_images, bit_flip(np.zeros(batch_size))) \n",
    "  \n",
    "        # compute total discriminator loss \n",
    "        discriminator_loss = (real_batch_loss + fake_batch_loss)/2\n",
    "        \n",
    "        #x = np.concatenate((image_batch, generated_images))\n",
    "        #y = np.concatenate(( bit_flip(np.ones(batch_size) ), bit_flip(np.zeros(batch_size))  ) )\n",
    "        #discriminator_loss =  discriminator.train_on_batch(x, y )\n",
    "        \n",
    "        # do 2 training iteration on the generator\n",
    "        # to compensate we have trained discriminator two times\n",
    "        \n",
    "        gen_losses = []                                                       \n",
    "        for _   in range(2) :                                                    \n",
    "            #generate input random to generator\n",
    "            generator_input = generate_random_data(batch_size)\n",
    "\n",
    "            # train generator and compute its loss\n",
    "            gloss = combined.train_on_batch( generator_input, np.ones(batch_size))\n",
    "            gen_losses.append(gloss)\n",
    "        \n",
    "        #compute mean generator loss of all the losses we have obtained\n",
    "        generator_loss = np.mean(gen_losses)\n",
    "\n",
    "        return discriminator_loss, generator_loss\n",
    "                              \n",
    "  \n",
    "    "
   ]
  },
  {
   "cell_type": "markdown",
   "metadata": {},
   "source": [
    "### Function *test_GAN*"
   ]
  },
  {
   "cell_type": "code",
   "execution_count": 14,
   "metadata": {},
   "outputs": [],
   "source": [
    "#function definining test of GAN that will be run for each single epoch\n",
    "def test_GAN(): \n",
    "    \n",
    "    # generate test random data for giving as input to the generator and \n",
    "    # use after to compute the discriminator loss\n",
    "    generator_input = generate_random_data(nb_test)\n",
    "    \n",
    "    # generate 'fake' images with generator\n",
    "    generated_images = generator.predict(generator_input, verbose=False)\n",
    "    #print('shape generated images',generated_images.shape)\n",
    "\n",
    "    # compute now discriminator loss from fake (label = 0) vs true (label = 1) images\n",
    "                              \n",
    "    X = np.concatenate((X_test, generated_images))\n",
    "    y = np.array([1] * nb_test + [0] * nb_test)                              \n",
    "    discriminator_test_loss = discriminator.evaluate(X, y, verbose=False, batch_size=batch_size)\n",
    "\n",
    "     \n",
    "    # we generate also some other random input data for computing the loss function for the generator\n",
    "    #  use 2 x data_size to have same statistics as for discriminator\n",
    "    generator_input = generate_random_data(2 * nb_test)  \n",
    "    # as labels we use 1 the value we input when training \n",
    "    y = np.ones(2 * nb_test)\n",
    "\n",
    "    generator_test_loss = combined.evaluate(generator_input, y, verbose=False, batch_size=batch_size)\n",
    "    \n",
    "    return discriminator_test_loss, generator_test_loss, generated_images\n"
   ]
  },
  {
   "cell_type": "markdown",
   "metadata": {},
   "source": [
    "### Function train_GAN"
   ]
  },
  {
   "cell_type": "code",
   "execution_count": 15,
   "metadata": {},
   "outputs": [],
   "source": [
    "def train_GAN(nepochs, fig_epoch): \n",
    "    #loop on number of epochs\n",
    "    for epoch in range(nepochs):\n",
    "        print('Epoch ',epoch + 1,' of ', nepochs)\n",
    "\n",
    "        nb_batches = int(X_train.shape[0] / batch_size)\n",
    "        \n",
    "        #use Keras progress bar for displaying progress in training\n",
    "        progress_bar = Progbar(target=nb_batches)\n",
    "\n",
    "        epoch_gen_loss = []\n",
    "        epoch_disc_loss = []\n",
    "        \n",
    "        #loop on the batches \n",
    "        for index in range(nb_batches):\n",
    "            progress_bar.update(index)\n",
    "                   \n",
    "            image_batch = X_train[index * batch_size:(index + 1) * batch_size]\n",
    "                    \n",
    "            discrim_loss, generator_loss = train_GAN_on_batch(image_batch)\n",
    "\n",
    "            # we save the losses\n",
    "            epoch_disc_loss.append(discrim_loss)\n",
    "            epoch_gen_loss.append( generator_loss )\n",
    "                              \n",
    "                          \n",
    "\n",
    "        # after all batch we compute mean of train losses\n",
    "    \n",
    "        discriminator_train_loss = np.mean(np.array(epoch_disc_loss), axis=0)\n",
    "        generator_train_loss = np.mean(np.array(epoch_gen_loss), axis=0)\n",
    "    \n",
    "        #### TESTING   \n",
    "        print('\\nTesting for epoch :' , epoch + 1)\n",
    "\n",
    "        discriminator_test_loss, generator_test_loss, X_gen = test_GAN()\n",
    "\n",
    "        print('generator  train and test loss', generator_train_loss, generator_test_loss)\n",
    "        print('discrimin. train and test loss', discriminator_train_loss, discriminator_test_loss)\n",
    "\n",
    "        train_loss.append([discriminator_train_loss, generator_train_loss])\n",
    "        test_loss.append([discriminator_test_loss, generator_test_loss])\n",
    "    \n",
    "\n",
    "        xdata.append(epoch+1)\n",
    "    \n",
    "        plot1.set_xdata(xdata)\n",
    "        plot2.set_xdata(xdata)\n",
    "        plot3.set_xdata(xdata)\n",
    "        plot4.set_xdata(xdata)\n",
    "    \n",
    "        plot1.set_ydata(np.array(train_loss)[:,0])\n",
    "        plot2.set_ydata(np.array(test_loss)[:,0])\n",
    "        plot3.set_ydata(np.array(train_loss)[:,1])\n",
    "        plot4.set_ydata(np.array(test_loss)[:,1])\n",
    "        \n",
    "        ax3.clear()\n",
    "        ax3.hist(np.sum(X_test,axis=(1,2,3)),50,range=(0,15))\n",
    "        ax3.hist(np.sum(X_gen,axis=(1,2,3)),50,range=(0,15))\n",
    "    \n",
    "        fig_epoch.canvas.draw()\n",
    "        \n",
    "        \n",
    "        \n",
    "        #end loop on epochs\n",
    "        \n",
    "    # return the generated images for testing\n",
    "    return X_gen"
   ]
  },
  {
   "cell_type": "markdown",
   "metadata": {},
   "source": [
    "### Perform the GAN training \n",
    "\n",
    "before training we define some plots to monitor the training process (e.g. looking at the loss functions)"
   ]
  },
  {
   "cell_type": "code",
   "execution_count": 16,
   "metadata": {},
   "outputs": [
    {
     "data": {
      "image/png": "[encoded data removed]",
      "text/plain": [
       "<Figure size 720x432 with 3 Axes>"
      ]
     },
     "metadata": {},
     "output_type": "display_data"
    }
   ],
   "source": [
    "# for having interactive plots\n",
    "\n",
    "#for interactive plotting in matplotlib\n",
    "plt.ion()\n",
    "fig_epoch = plt.figure(1,figsize=(10,6))\n",
    "ax1 = fig_epoch.add_subplot(311)\n",
    "ax2 = fig_epoch.add_subplot(312)\n",
    "ax3 = fig_epoch.add_subplot(313)\n",
    "\n",
    "xdata =[]\n",
    "yy=[]\n",
    "ax1.set_xlim(0,nb_epochs+1)\n",
    "ax2.set_xlim(0,nb_epochs+1)\n",
    "ax1.set_ylim(0,5)\n",
    "ax2.set_ylim(0,5)\n",
    "plot1, = ax1.plot(xdata,yy,label=\"discriminator training loss\")\n",
    "plot2, = ax1.plot(xdata,yy,label=\"discriminator test loss\")\n",
    "ax1.legend()\n",
    "plot3, = ax2.plot(xdata,yy,label=\"generator training loss\")\n",
    "plot4, = ax2.plot(xdata,yy,label=\"generator test loss\")\n",
    "ax2.legend()\n",
    "\n",
    "\n",
    "ax3.hist(np.sum(X_test,axis=(1,2,3)),50,range=(0,15))\n",
    "\n",
    "plt.show()  \n",
    "\n",
    "train_loss = []\n",
    "test_loss = []\n"
   ]
  },
  {
   "cell_type": "markdown",
   "metadata": {},
   "source": [
    "### Train the GAN\n",
    "\n",
    "Here we do the actual training. It might take some time if not using a GPU, be patient...."
   ]
  },
  {
   "cell_type": "code",
   "execution_count": null,
   "metadata": {},
   "outputs": [],
   "source": [
    "## Here we perform the actual training by calling the train_GAN function\n",
    "###nb_epochs = 10\n",
    "X_gen = train_GAN(nb_epochs, fig_epoch)\n",
    "#update total number of epochs done for training\n",
    "tot_epoch_done = tot_epoch_done + nb_epochs\n",
    "training_done = True\n",
    "plt.show()"
   ]
  },
  {
   "cell_type": "markdown",
   "metadata": {},
   "source": [
    "### Save the weights of the trained model\n",
    "\n",
    "we save the weights for the generator and the discriminator and counting the total number of epochs we have been used for training"
   ]
  },
  {
   "cell_type": "code",
   "execution_count": null,
   "metadata": {},
   "outputs": [],
   "source": [
    "# save weights for discriminator and generator\n",
    "##tot_epoch_done = 999\n",
    "if training_done :\n",
    "    generator_weights_file = 'weights/generator_weights_epoch_'+ str(tot_epoch_done)+'.h5'\n",
    "    discriminator_weights_file = 'weights/discriminator_weights_epoch_'+ str(tot_epoch_done)+'.h5'\n",
    "\n",
    "    generator.save_weights(generator_weights_file, overwrite=True)\n",
    "    discriminator.save_weights(discriminator_weights_file, overwrite=True)\n",
    "\n",
    "    print('save weights of generator and discriminator in',generator_weights_file,'and',discriminator_weights_file)"
   ]
  },
  {
   "cell_type": "code",
   "execution_count": null,
   "metadata": {},
   "outputs": [],
   "source": [
    "#save also the loss function values\n",
    "if training_done:\n",
    "    loss_file = 'loss_function_values_epoch_' + str(tot_epoch_done) + '.npy'\n",
    "    np.save(loss_file, np.concatenate((np.array(train_loss),np.array(test_loss)),axis=1) )"
   ]
  },
  {
   "cell_type": "markdown",
   "metadata": {},
   "source": [
    "## Load model  and generate images\n",
    "\n",
    "Here we generate new images data using the generator network (optionally we cn load a weights file)"
   ]
  },
  {
   "cell_type": "code",
   "execution_count": 17,
   "metadata": {},
   "outputs": [],
   "source": [
    "#generator_weights_file = 'weights/generator_weights_epoch_90.h5'\n",
    "\n",
    "#load the generator weights from a file\n",
    "#generator.load_weights(generator_weights_file)\n",
    "\n",
    "#print('loaded generator weights file:',generator_weights_file)\n",
    "\n",
    "X_gen = generator.predict(generate_random_data(nb_test), verbose=False)"
   ]
  },
  {
   "cell_type": "markdown",
   "metadata": {},
   "source": [
    "## Analysis of the generated images\n",
    "\n",
    "Here we look at the generated images and we make some coomparison with the original (true) images of the same type \n",
    "that we have provided as input for the GAN. \n",
    "\n",
    "We make sample plot of the single and average image profile, and we look at their distributions in the two coordinates and also at the mean and spread (standard deviation) that we obtain\n",
    "\n",
    "As comparison we visualize the results either using matplotlib or (in case you have it installed) using the CERN data analysis software package, ROOT"
   ]
  },
  {
   "cell_type": "markdown",
   "metadata": {},
   "source": [
    "### Display a single original (true) and a generated image"
   ]
  },
  {
   "cell_type": "code",
   "execution_count": 18,
   "metadata": {},
   "outputs": [
    {
     "name": "stdout",
     "output_type": "stream",
     "text": [
      "shape of test data (1000, 1, 25, 25)\n",
      "image shape  (25, 25)\n",
      "shape of gen data (1000, 1, 25, 25)\n"
     ]
    },
    {
     "data": {
      "image/png": "[encoded data removed]",
      "text/plain": [
       "<Figure size 720x360 with 2 Axes>"
      ]
     },
     "metadata": {},
     "output_type": "display_data"
    },
    {
     "name": "stdout",
     "output_type": "stream",
     "text": [
      "central image values true:\n",
      " [[0.01662354 0.00759275 0.01555061]\n",
      " [0.08590523 0.06968281 0.08149435]\n",
      " [0.01427546 0.01150409 0.0137876 ]] \n",
      " generated:\n",
      " [[0.02915826 0.01312862 0.02271365]\n",
      " [0.18989296 0.17189348 0.20570481]\n",
      " [0.02760231 0.03508314 0.03325686]]\n"
     ]
    }
   ],
   "source": [
    "#make plot of generated images comparinig with true images\n",
    "# X_gen is generated X_test is true\n",
    "plt.figure(2,figsize=(10,5))\n",
    "plt.subplot(121)\n",
    "print('shape of test data',X_test.shape)\n",
    "nx = X_test.shape[2]\n",
    "ny = X_test.shape[3]\n",
    "image_true = X_test[1,:].reshape(nx,ny)\n",
    "print('image shape ', image_true.shape)\n",
    "#plot images - note matplotlib uses matrix convention x axis matrix columnx, y axis matrix rowx\n",
    "\n",
    "plt.imshow(image_true, origin='lower',cmap=plt.cm.gist_ncar)\n",
    "\n",
    "\n",
    "plt.subplot(122)\n",
    "print('shape of gen data',X_gen.shape)\n",
    "image_gen = X_gen[1,:].reshape(nx,ny)\n",
    "\n",
    "plt.imshow(image_gen, origin='lower',cmap=plt.cm.gist_ncar)\n",
    "\n",
    "plt.show()\n",
    "\n",
    "print('central image values true:\\n',image_true[11:14,11:14], '\\n generated:\\n',image_gen[11:14,11:14] )"
   ]
  },
  {
   "cell_type": "markdown",
   "metadata": {},
   "source": [
    "### Display average of the profile of all true and generated images"
   ]
  },
  {
   "cell_type": "code",
   "execution_count": 19,
   "metadata": {},
   "outputs": [
    {
     "data": {
      "image/png": "[encoded data removed]",
      "text/plain": [
       "<Figure size 720x360 with 2 Axes>"
      ]
     },
     "metadata": {},
     "output_type": "display_data"
    },
    {
     "name": "stdout",
     "output_type": "stream",
     "text": [
      "central image values true:\n",
      " [[0.03831246 0.04320867 0.04687784]\n",
      " [0.23346756 0.24469052 0.24896576]\n",
      " [0.03800397 0.04302822 0.04693818]] \n",
      " generated:\n",
      " [[0.03685799 0.03977687 0.04387631]\n",
      " [0.23292752 0.24292853 0.24933314]\n",
      " [0.03539413 0.04047745 0.04534876]]\n"
     ]
    }
   ],
   "source": [
    "#make plot of generated images comparinig with true images\n",
    "# X_gen is generated X_test is true\n",
    "plt.figure(3,figsize=(10,5))\n",
    "plt.subplot(121)\n",
    "average_image_true = np.mean(X_test,axis=0).reshape(nx,ny)\n",
    "\n",
    "plt.imshow(average_image_true, origin='lower',cmap=plt.cm.gist_ncar)\n",
    "plt.ylabel('Transverse')\n",
    "plt.xlabel('Longitudinal')\n",
    "\n",
    "plt.subplot(122)\n",
    "average_image_gen = np.mean(X_gen,axis=0).reshape(nx,ny)\n",
    "plt.imshow(average_image_gen, interpolation='none',origin='lower',cmap=plt.cm.gist_ncar)\n",
    "plt.ylabel('Transverse')\n",
    "plt.xlabel('Longitudinal')\n",
    "plt.show()\n",
    "\n",
    "print('central image values true:\\n',average_image_true[11:14,11:14], '\\n generated:\\n',average_image_gen[11:14,11:14] )\n"
   ]
  },
  {
   "cell_type": "markdown",
   "metadata": {},
   "source": [
    "### Display image profiles in the transverse and longitudinal planes"
   ]
  },
  {
   "cell_type": "code",
   "execution_count": 20,
   "metadata": {},
   "outputs": [
    {
     "data": {
      "image/png": "[encoded data removed]",
      "text/plain": [
       "<Figure size 720x504 with 2 Axes>"
      ]
     },
     "metadata": {},
     "output_type": "display_data"
    }
   ],
   "source": [
    "#compute projections summing on other axis (y for px and x for py)\n",
    "px_true = np.sum(X_test[:,0,:,:],axis=2)\n",
    "py_true = np.sum(X_test[:,0,:,:],axis=1)\n",
    "\n",
    "px_gen = np.sum(X_gen[:,0,:,:],axis=2)\n",
    "py_gen = np.sum(X_gen[:,0,:,:],axis=1)\n",
    "\n",
    "nevt = X_test.shape[0]\n",
    "nx = X_test.shape[2]\n",
    "ny = X_test.shape[3]\n",
    "xpos = np.array(range(0,nx))\n",
    "#make a vector of (nevt x nx) for positions \n",
    "vpos = np.tile(xpos,(nevt,1))\n",
    "\n",
    "n = nevt * nx\n",
    "plt.figure(5,figsize=(10,7))\n",
    "plt.subplot(211)\n",
    "plt.hist(vpos.reshape(nevt*nx),bins=nx,weights=px_true.reshape(nevt*nx),label=\"real transverse\")\n",
    "plt.hist(vpos.reshape(nevt*nx),bins=nx,weights=px_gen.reshape(nevt*nx),label=\"gen transverse\")\n",
    "plt.legend()\n",
    "\n",
    "plt.subplot(212)\n",
    "plt.hist(vpos.reshape(nevt*ny),bins=ny,weights=py_true.reshape(nevt*ny),label=\"real longitudinal\")\n",
    "plt.hist(vpos.reshape(nevt*ny),bins=ny,weights=py_gen.reshape(nevt*ny),label=\"gen longitudinal\")\n",
    "plt.legend()\n",
    "plt.show()\n"
   ]
  },
  {
   "cell_type": "markdown",
   "metadata": {},
   "source": [
    "### Display total Energy for original and generated images "
   ]
  },
  {
   "cell_type": "code",
   "execution_count": 21,
   "metadata": {},
   "outputs": [
    {
     "data": {
      "image/png": "[encoded data removed]",
      "text/plain": [
       "<Figure size 720x360 with 1 Axes>"
      ]
     },
     "metadata": {},
     "output_type": "display_data"
    }
   ],
   "source": [
    "# by summing the obtained projections we get the total values\n",
    "etot_true = np.sum(px_true, axis=1)\n",
    "etot_gen = np.sum(px_gen, axis=1)\n",
    "\n",
    "plt.figure(6,figsize=(10,5))\n",
    "\n",
    "plt.hist(etot_true,50,range=(0,12),label=\"real energy\")\n",
    "\n",
    "#plt.subplot(212)\n",
    "plt.hist(etot_gen,50,range=(0,12),label=\"generated energy\")\n",
    "plt.legend()\n",
    "plt.show()"
   ]
  },
  {
   "cell_type": "markdown",
   "metadata": {},
   "source": [
    "## Analysis using ROOT \n",
    "\n",
    "We visualize the image and their statistics using histograms from the CERN data analysis software package, ROOT\n",
    "\n",
    "First we book and fill histograms for the orginal (true) images"
   ]
  },
  {
   "cell_type": "code",
   "execution_count": 24,
   "metadata": {},
   "outputs": [
    {
     "name": "stdout",
     "output_type": "stream",
     "text": [
      "Welcome to JupyROOT 6.16/00\n",
      "(625,) [0.5 0.5 0.5 0.5 0.5 0.5 0.5 0.5 0.5 0.5 0.5 0.5 0.5 0.5 0.5 0.5 0.5 0.5\n",
      " 0.5 0.5 0.5 0.5 0.5 0.5 1.5 1.5 1.5 1.5 1.5 1.5 1.5 1.5 1.5 1.5 1.5 1.5\n",
      " 1.5 1.5 1.5 1.5 1.5 1.5 1.5 1.5 1.5 1.5 1.5 1.5 1.5]\n",
      "(625,) [ 1.5  2.5  3.5  4.5  5.5  6.5  7.5  8.5  9.5 10.5 11.5 12.5 13.5 14.5\n",
      " 15.5 16.5 17.5 18.5 19.5 20.5 21.5 22.5 23.5 24.5  0.5  1.5  2.5  3.5\n",
      "  4.5  5.5  6.5  7.5  8.5  9.5 10.5 11.5 12.5 13.5 14.5 15.5 16.5 17.5\n",
      " 18.5 19.5 20.5 21.5 22.5 23.5 24.5]\n",
      "(625000,) (625000,) (625000,)\n",
      "(1000,)\n"
     ]
    }
   ],
   "source": [
    "import ROOT\n",
    "\n",
    "htrueXY = ROOT.TH2D(\"htrue\",\"real shower profile\",25,0,25,25,0,25)\n",
    "htrueX = ROOT.TH1D(\"htruex\",\"real images\",25,0,25)\n",
    "htrueY = ROOT.TH1D(\"htruey\",\"real images\",25,0,25)\n",
    "htrueE = ROOT.TH1D(\"htrueE\",\"real energy\",50,0,12)\n",
    "\n",
    "#prepare the arrays for filling the histograms\n",
    "# note that we do using arrays to avoid performing loops in Python that is very slow\n",
    "\n",
    "xpos = np.array(range(0,25))\n",
    "xpos = xpos + 0.5\n",
    "xvec = np.tile(xpos,(25,1)).T\n",
    "xvec = xvec.reshape(25*25)\n",
    "print(xvec.shape,xvec[1:50])\n",
    "\n",
    "yvec = np.tile(xpos,(1,25))\n",
    "yvec = yvec.reshape(25*25)\n",
    "print(yvec.shape,yvec[1:50])\n",
    "\n",
    "nevts = X_test.shape[0]\n",
    "xvec = np.tile(xvec,(1,nevts))\n",
    "yvec = np.tile(yvec,(1,nevts))\n",
    "\n",
    "n = nevts * 25 * 25\n",
    "weights = np.array( X_test.reshape( n), dtype = np.float64)\n",
    "  \n",
    "xvec = xvec.reshape(n)\n",
    "yvec = yvec.reshape(n)\n",
    "\n",
    "\n",
    "print(weights.shape, xvec.shape, yvec.shape)\n",
    "\n",
    "# have transverse  vs longitudinal \n",
    "htrueXY.FillN(n,yvec, xvec, weights)\n",
    "htrueX.FillN(n, xvec, weights)\n",
    "htrueY.FillN(n, yvec, weights)\n",
    "\n",
    "etot = np.array( np.sum( X_test, axis=(2,3)), dtype = np.float64)\n",
    "etot_true = etot.reshape(nevts)\n",
    "print (etot_true.shape)\n",
    "weights = np.ones(nevts)\n",
    "htrueE.FillN(nevts, etot_true, weights)\n",
    "        \n"
   ]
  },
  {
   "cell_type": "markdown",
   "metadata": {},
   "source": [
    "### Book and fill histograms for the generated images "
   ]
  },
  {
   "cell_type": "code",
   "execution_count": 25,
   "metadata": {},
   "outputs": [
    {
     "name": "stdout",
     "output_type": "stream",
     "text": [
      "(1000,)\n",
      "batch_normalization_3/sub/y: (Const): /job:localhost/replica:0/task:0/device:CPU:0\n",
      "discriminator/batch_normalization_3/AssignMovingAvg/decay: (Const): /job:localhost/replica:0/task:0/device:CPU:0\n",
      "discriminator/batch_normalization_3/AssignMovingAvg/batch_normalization_3/moving_mean/zeros: (Const): /job:localhost/replica:0/task:0/device:CPU:0\n",
      "batch_normalization_3/moving_mean/local_step_1/Initializer/zeros: (Const): /job:localhost/replica:0/task:0/device:CPU:0\n",
      "discriminator/batch_normalization_3/AssignMovingAvg/batch_normalization_3/moving_mean/AssignAdd/value: (Const): /job:localhost/replica:0/task:0/device:CPU:0\n",
      "discriminator/batch_normalization_3/AssignMovingAvg/batch_normalization_3/moving_mean/sub_1/x: (Const): /job:localhost/replica:0/task:0/device:CPU:0\n",
      "discriminator/batch_normalization_3/AssignMovingAvg/batch_normalization_3/moving_mean/sub_2/x: (Const): /job:localhost/replica:0/task:0/device:CPU:0\n",
      "discriminator/batch_normalization_3/AssignMovingAvg_1/decay: (Const): /job:localhost/replica:0/task:0/device:CPU:0\n",
      "discriminator/batch_normalization_3/AssignMovingAvg_1/batch_normalization_3/moving_variance/zeros: (Const): /job:localhost/replica:0/task:0/device:CPU:0\n",
      "batch_normalization_3/moving_variance/local_step_1/Initializer/zeros: (Const): /job:localhost/replica:0/task:0/device:CPU:0\n",
      "discriminator/batch_normalization_3/AssignMovingAvg_1/batch_normalization_3/moving_variance/AssignAdd/value: (Const): /job:localhost/replica:0/task:0/device:CPU:0\n",
      "discriminator/batch_normalization_3/AssignMovingAvg_1/batch_normalization_3/moving_variance/sub_1/x: (Const): /job:localhost/replica:0/task:0/device:CPU:0\n",
      "discriminator/batch_normalization_3/AssignMovingAvg_1/batch_normalization_3/moving_variance/sub_2/x: (Const): /job:localhost/replica:0/task:0/device:CPU:0\n",
      "discriminator/batch_normalization_3/cond/batchnorm/add/y: (Const): /job:localhost/replica:0/task:0/device:CPU:0\n",
      "discriminator/average_pooling2d_1/transpose/perm: (Const): /job:localhost/replica:0/task:0/device:CPU:0\n",
      "discriminator/average_pooling2d_1/transpose_1/perm: (Const): /job:localhost/replica:0/task:0/device:CPU:0\n",
      "discriminator/flatten_1/transpose/perm: (Const): /job:localhost/replica:0/task:0/device:CPU:0\n",
      "discriminator/flatten_1/strided_slice/stack: (Const): /job:localhost/replica:0/task:0/device:CPU:0\n",
      "discriminator/flatten_1/strided_slice/stack_1: (Const): /job:localhost/replica:0/task:0/device:CPU:0\n",
      "discriminator/flatten_1/strided_slice/stack_2: (Const): /job:localhost/replica:0/task:0/device:CPU:0\n",
      "discriminator/flatten_1/Const: (Const): /job:localhost/replica:0/task:0/device:CPU:0\n",
      "discriminator/flatten_1/stack/0: (Const): /job:localhost/replica:0/task:0/device:CPU:0\n",
      "RMSprop_2/lr/initial_value: (Const): /job:localhost/replica:0/task:0/device:CPU:0\n",
      "RMSprop_2/rho/initial_value: (Const): /job:localhost/replica:0/task:0/device:CPU:0\n",
      "RMSprop_2/decay/initial_value: (Const): /job:localhost/replica:0/task:0/device:CPU:0\n",
      "RMSprop_2/iterations/initial_value: (Const): /job:localhost/replica:0/task:0/device:CPU:0\n",
      "discriminator_target: (Placeholder): /job:localhost/replica:0/task:0/device:CPU:0\n",
      "discriminator_sample_weights: (Placeholder): /job:localhost/replica:0/task:0/device:CPU:0\n",
      "loss_2/discriminator_loss/Const: (Const): /job:localhost/replica:0/task:0/device:CPU:0\n",
      "loss_2/discriminator_loss/sub/x: (Const): /job:localhost/replica:0/task:0/device:CPU:0\n",
      "loss_2/discriminator_loss/sub_1/x: (Const): /job:localhost/replica:0/task:0/device:CPU:0\n",
      "loss_2/discriminator_loss/Mean/reduction_indices: (Const): /job:localhost/replica:0/task:0/device:CPU:0\n",
      "loss_2/discriminator_loss/Mean_1/reduction_indices: (Const): /job:localhost/replica:0/task:0/device:CPU:0\n",
      "loss_2/discriminator_loss/NotEqual/y: (Const): /job:localhost/replica:0/task:0/device:CPU:0\n",
      "loss_2/discriminator_loss/Const_1: (Const): /job:localhost/replica:0/task:0/device:CPU:0\n",
      "loss_2/discriminator_loss/Const_2: (Const): /job:localhost/replica:0/task:0/device:CPU:0\n",
      "loss_2/mul/x: (Const): /job:localhost/replica:0/task:0/device:CPU:0\n"
     ]
    },
    {
     "name": "stderr",
     "output_type": "stream",
     "text": [
      "Warning in <TROOT::Append>: Replacing existing TH1: htrue (Potential memory leak).\n",
      "Warning in <TROOT::Append>: Replacing existing TH1: htruex (Potential memory leak).\n",
      "Warning in <TROOT::Append>: Replacing existing TH1: htruey (Potential memory leak).\n",
      "Warning in <TROOT::Append>: Replacing existing TH1: htrueE (Potential memory leak).\n"
     ]
    }
   ],
   "source": [
    "hgenXY = ROOT.TH2D(\"htrue\",\"generated shower profile\",25,0,25,25,0,25)\n",
    "hgenX = ROOT.TH1D(\"htruex\",\"generated images\",25,0,25)\n",
    "hgenY = ROOT.TH1D(\"htruey\",\"generated images\",25,0,25)\n",
    "hgenE = ROOT.TH1D(\"htrueE\",\"generated energy\",50,0,12)\n",
    "\n",
    "\n",
    "weights = np.array( X_gen.reshape( n), dtype = np.float64)\n",
    "\n",
    "xvec = xvec.reshape(n)\n",
    "yvec = yvec.reshape(n)\n",
    "\n",
    "# have transverse  vs longitudinal \n",
    "hgenXY.FillN (n,yvec, xvec, weights)\n",
    "hgenX.FillN(n, xvec, weights)\n",
    "hgenY.FillN(n, yvec, weights)\n",
    "\n",
    "etot = np.array( np.sum( X_gen, axis=(2,3)), dtype = np.float64)\n",
    "etot_gen = etot.reshape(nevts)\n",
    "print (etot_gen.shape)\n",
    "weights = np.ones(nevts)\n",
    "hgenE.FillN(nevts, etot_gen, weights)\n"
   ]
  },
  {
   "cell_type": "code",
   "execution_count": 26,
   "metadata": {},
   "outputs": [],
   "source": [
    "# for the Javascript visualization of ROOT histogram \n",
    "%jsroot on"
   ]
  },
  {
   "cell_type": "markdown",
   "metadata": {},
   "source": [
    "### DIsplay image profile for all events"
   ]
  },
  {
   "cell_type": "code",
   "execution_count": 27,
   "metadata": {
    "scrolled": false
   },
   "outputs": [
    {
     "data": {
      "text/html": [
       "\n",
       "<div id=\"root_plot_1\"\n",
       "     style=\"width: 996px; height: 472px\">\n",
       "</div>\n",
       "\n",
       "<script>\n",
       " requirejs.config({\n",
       "     paths: {\n",
       "       'JSRootCore' : 'https://root.cern.ch/js/notebook//scripts/JSRootCore',\n",
       "     }\n",
       "   });\n",
       " require(['JSRootCore'],\n",
       "     function(Core) {\n",
       "       var obj = Core.JSONR_unref({\"_typename\":\"TCanvas\",\"fUniqueID\":0,\"fBits\":53673992,\"fLineColor\":1,\"fLineStyle\":1,\"fLineWidth\":1,\"fFillColor\":0,\"fFillStyle\":1001,\"fLeftMargin\":0.1,\"fRightMargin\":0.1,\"fBottomMargin\":0.1,\"fTopMargin\":0.1,\"fXfile\":2,\"fYfile\":2,\"fAfile\":1,\"fXstat\":0.99,\"fYstat\":0.99,\"fAstat\":2,\"fFrameFillColor\":0,\"fFrameLineColor\":1,\"fFrameFillStyle\":1001,\"fFrameLineStyle\":1,\"fFrameLineWidth\":1,\"fFrameBorderSize\":1,\"fFrameBorderMode\":0,\"fX1\":0,\"fY1\":0,\"fX2\":1,\"fY2\":1,\"fXtoAbsPixelk\":5e-5,\"fXtoPixelk\":5e-5,\"fXtoPixel\":996,\"fYtoAbsPixelk\":472.00005,\"fYtoPixelk\":472.00005,\"fYtoPixel\":-472,\"fUtoAbsPixelk\":5e-5,\"fUtoPixelk\":5e-5,\"fUtoPixel\":996,\"fVtoAbsPixelk\":472.00005,\"fVtoPixelk\":472,\"fVtoPixel\":-472,\"fAbsPixeltoXk\":0,\"fPixeltoXk\":0,\"fPixeltoX\":0.00100401606425703,\"fAbsPixeltoYk\":1,\"fPixeltoYk\":0,\"fPixeltoY\":-0.00211864406779661,\"fXlowNDC\":0,\"fYlowNDC\":0,\"fXUpNDC\":0,\"fYUpNDC\":0,\"fWNDC\":1,\"fHNDC\":1,\"fAbsXlowNDC\":0,\"fAbsYlowNDC\":0,\"fAbsWNDC\":1,\"fAbsHNDC\":1,\"fUxmin\":0,\"fUymin\":0,\"fUxmax\":1,\"fUymax\":1,\"fTheta\":30,\"fPhi\":30,\"fAspectRatio\":0,\"fNumber\":0,\"fTickx\":0,\"fTicky\":0,\"fLogx\":0,\"fLogy\":0,\"fLogz\":0,\"fPadPaint\":0,\"fCrosshair\":0,\"fCrosshairPos\":0,\"fBorderSize\":2,\"fBorderMode\":0,\"fModified\":false,\"fGridx\":false,\"fGridy\":false,\"fAbsCoord\":false,\"fEditable\":true,\"fFixedAspectRatio\":false,\"fPrimitives\":{\"_typename\":\"TList\",\"name\":\"TList\",\"arr\":[{\"_typename\":\"TPad\",\"fUniqueID\":0,\"fBits\":50331657,\"fLineColor\":1,\"fLineStyle\":1,\"fLineWidth\":1,\"fFillColor\":0,\"fFillStyle\":1001,\"fLeftMargin\":0.1,\"fRightMargin\":0.1,\"fBottomMargin\":0.1,\"fTopMargin\":0.1,\"fXfile\":2,\"fYfile\":2,\"fAfile\":1,\"fXstat\":0.99,\"fYstat\":0.99,\"fAstat\":2,\"fFrameFillColor\":0,\"fFrameLineColor\":1,\"fFrameFillStyle\":1001,\"fFrameLineStyle\":1,\"fFrameLineWidth\":1,\"fFrameBorderSize\":1,\"fFrameBorderMode\":0,\"fX1\":-3.12500023283066,\"fY1\":-3.12500023283066,\"fX2\":28.1250002328307,\"fY2\":28.1250002328307,\"fXtoAbsPixelk\":57.7680526714803,\"fXtoPixelk\":47.8080528941037,\"fXtoPixel\":15.2985597862816,\"fYtoAbsPixelk\":421.024047327328,\"fYtoPixelk\":416.304047432828,\"fYtoPixel\":-14.8019197861862,\"fUtoAbsPixelk\":9.96004977737665,\"fUtoPixelk\":5e-5,\"fUtoPixel\":478.080000445247,\"fVtoAbsPixelk\":467.2800501055,\"fVtoPixelk\":462.560000211,\"fVtoPixel\":-462.560000211,\"fAbsPixeltoXk\":-3.77604189404036,\"fPixeltoXk\":-3.12500023283066,\"fPixeltoX\":0.0653656300965476,\"fAbsPixeltoYk\":28.4438777813298,\"fPixeltoYk\":-3.12500023283066,\"fPixeltoY\":-0.0675588041581771,\"fXlowNDC\":0.00999999977648258,\"fYlowNDC\":0.00999999977648258,\"fXUpNDC\":0,\"fYUpNDC\":0,\"fWNDC\":0.480000000447035,\"fHNDC\":0.980000000447035,\"fAbsXlowNDC\":0.00999999977648258,\"fAbsYlowNDC\":0.00999999977648258,\"fAbsWNDC\":0.480000000447035,\"fAbsHNDC\":0.980000000447035,\"fUxmin\":0,\"fUymin\":0,\"fUxmax\":25,\"fUymax\":25,\"fTheta\":30,\"fPhi\":30,\"fAspectRatio\":0,\"fNumber\":1,\"fTickx\":0,\"fTicky\":0,\"fLogx\":0,\"fLogy\":0,\"fLogz\":0,\"fPadPaint\":0,\"fCrosshair\":0,\"fCrosshairPos\":0,\"fBorderSize\":2,\"fBorderMode\":0,\"fModified\":false,\"fGridx\":false,\"fGridy\":false,\"fAbsCoord\":false,\"fEditable\":true,\"fFixedAspectRatio\":false,\"fPrimitives\":{\"_typename\":\"TList\",\"name\":\"TList\",\"arr\":[{\"_typename\":\"TFrame\",\"fUniqueID\":0,\"fBits\":50331656,\"fLineColor\":1,\"fLineStyle\":1,\"fLineWidth\":1,\"fFillColor\":0,\"fFillStyle\":1001,\"fX1\":0,\"fY1\":0,\"fX2\":25,\"fY2\":25,\"fBorderSize\":1,\"fBorderMode\":0},{\"_typename\":\"TH2D\",\"fUniqueID\":0,\"fBits\":50331656,\"fName\":\"htrue\",\"fTitle\":\"real shower profile\",\"fLineColor\":602,\"fLineStyle\":1,\"fLineWidth\":1,\"fFillColor\":0,\"fFillStyle\":1001,\"fMarkerColor\":1,\"fMarkerStyle\":1,\"fMarkerSize\":1,\"fNcells\":729,\"fXaxis\":{\"_typename\":\"TAxis\",\"fUniqueID\":0,\"fBits\":50331648,\"fName\":\"xaxis\",\"fTitle\":\"\",\"fNdivisions\":510,\"fAxisColor\":1,\"fLabelColor\":1,\"fLabelFont\":42,\"fLabelOffset\":0.005,\"fLabelSize\":0.035,\"fTickLength\":0.03,\"fTitleOffset\":1,\"fTitleSize\":0.035,\"fTitleColor\":1,\"fTitleFont\":42,\"fNbins\":25,\"fXmin\":0,\"fXmax\":25,\"fXbins\":[],\"fFirst\":0,\"fLast\":0,\"fBits2\":0,\"fTimeDisplay\":false,\"fTimeFormat\":\"\",\"fLabels\":null,\"fModLabs\":null},\"fYaxis\":{\"_typename\":\"TAxis\",\"fUniqueID\":0,\"fBits\":50331648,\"fName\":\"yaxis\",\"fTitle\":\"\",\"fNdivisions\":510,\"fAxisColor\":1,\"fLabelColor\":1,\"fLabelFont\":42,\"fLabelOffset\":0.005,\"fLabelSize\":0.035,\"fTickLength\":0.03,\"fTitleOffset\":0,\"fTitleSize\":0.035,\"fTitleColor\":1,\"fTitleFont\":42,\"fNbins\":25,\"fXmin\":0,\"fXmax\":25,\"fXbins\":[],\"fFirst\":0,\"fLast\":0,\"fBits2\":0,\"fTimeDisplay\":false,\"fTimeFormat\":\"\",\"fLabels\":null,\"fModLabs\":null},\"fZaxis\":{\"_typename\":\"TAxis\",\"fUniqueID\":0,\"fBits\":50331648,\"fName\":\"zaxis\",\"fTitle\":\"\",\"fNdivisions\":510,\"fAxisColor\":1,\"fLabelColor\":1,\"fLabelFont\":42,\"fLabelOffset\":0.005,\"fLabelSize\":0.035,\"fTickLength\":0.03,\"fTitleOffset\":1,\"fTitleSize\":0.035,\"fTitleColor\":1,\"fTitleFont\":42,\"fNbins\":1,\"fXmin\":0,\"fXmax\":1,\"fXbins\":[],\"fFirst\":0,\"fLast\":0,\"fBits2\":0,\"fTimeDisplay\":false,\"fTimeFormat\":\"\",\"fLabels\":null,\"fModLabs\":null},\"fBarOffset\":0,\"fBarWidth\":1000,\"fEntries\":625000,\"fTsumw\":4943.9154123056,\"fTsumw2\":849.413754992999,\"fTsumwx\":70619.5833989839,\"fTsumwx2\":1115742.02997168,\"fMaximum\":249.333115259185,\"fMinimum\":-1111,\"fNormFactor\":0,\"fContour\":[0.0102189662972023,12.4763637809416,24.942508595586,37.4086534102304,49.8747982248749,62.3409430395193,74.8070878541637,87.2732326688081,99.7393774834525,112.205522298097,124.671667112741,137.137811927386,149.60395674203,162.070101556675,174.536246371319,187.002391185963,199.468536000608,211.934680815252,224.400825629897,236.866970444541],\"fSumw2\":[0,0,0,0,0,0,0,0,0,0,0,0,0,0,0,0,0,0,0,0,0,0,0,0,0,0,0,0,5.48052735125228e-6,8.56012888035619e-6,1.47694725384418e-5,9.29135537984152e-6,1.08183055101046e-5,1.65926822704425e-5,1.55137737649756e-5,2.52096508706022e-5,2.48120758288245e-5,3.77243872584713e-5,5.84155871331117e-5,6.19559588579218e-5,6.77016097136844e-5,5.64434321016702e-5,6.69973306097282e-5,6.763143628984e-5,5.75721332448757e-5,6.6045652362438e-5,7.64527151446978e-5,6.18765679679721e-5,6.33619362510819e-5,6.26090670057012e-5,3.5706251978831e-5,3.79363642162213e-5,9.89458383924293e-5,0,0,2.89056468295878e-5,4.65465747671153e-6,1.04396891625263e-5,2.03144660284602e-5,1.7991918662481e-5,2.4338328927202e-5,3.60706476927916e-5,3.59579233237251e-5,3.550220457534e-5,4.59223736353552e-5,5.24808750594477e-5,7.30918278203916e-5,7.11889812916878e-5,1.07815580647537e-4,9.69213173421798e-5,9.68922510844069e-5,9.39576944527524e-5,1.16574114915027e-4,9.28730252653807e-5,1.0930046987643e-4,2.61254303329721e-4,8.47900355389476e-5,8.19360596912372e-5,6.62552469963964e-5,1.23542029820895e-4,0,0,9.9899767590184e-6,1.68563894476477e-5,1.37024166112721e-5,1.73578570230637e-5,2.38246350712808e-5,3.87287036634172e-5,3.94332225585074e-5,6.73486495646609e-5,1.58479868759812e-4,7.81472245236318e-5,1.01048367792073e-4,1.01480067507534e-4,1.05363008157327e-4,1.23320346082629e-4,1.82609200867828e-4,1.61057997930778e-4,1.66502033138676e-4,1.70726940105608e-4,1.67200404126733e-4,1.12724156971728e-4,1.26672346115721e-4,1.26009060893725e-4,1.33793070475705e-4,1.00069316700939e-4,2.08912014560685e-4,0,0,1.01448549024085e-5,1.55724814516544e-5,1.01027862199109e-5,2.67800354403276e-5,2.70413032952402e-5,4.18803392588868e-5,5.19950069282405e-5,9.22395100317357e-5,8.34370617684631e-5,1.47290838330455e-4,1.46344633892056e-4,1.52541081332186e-4,1.83287856403671e-4,1.90790372877107e-4,1.55273517508088e-4,2.18687481217049e-4,2.69732050377194e-4,2.79132754518352e-4,2.89876977089747e-4,2.279535908067e-4,1.83959664555236e-4,2.17546619514738e-4,1.73416913237837e-4,1.22392467595554e-4,3.53601086762744e-4,0,0,1.32793919171563e-5,3.37653336730446e-5,3.09680564559871e-5,4.76402965128141e-5,4.00838541746018e-5,5.7171670854558e-5,7.29042867931757e-5,1.20908095561902e-4,1.3484951017295e-4,2.00560707632595e-4,2.83953553390933e-4,2.70791152934466e-4,3.59548969749227e-4,3.04893238181867e-4,3.3117992912679e-4,4.63304237881345e-4,4.49893582840127e-4,5.2883327109542e-4,4.39422603399806e-4,4.16669872385933e-4,3.94190837249777e-4,3.320373536164e-4,3.16956534843281e-4,2.34192795219981e-4,5.63727205273974e-4,0,0,1.95352208878183e-5,3.44034723641114e-5,3.2414736367579e-5,4.11775985492714e-5,1.39875324009873e-4,7.3405784964011e-5,1.26444756652531e-4,1.61139182169992e-4,2.06318479464917e-4,2.490035044548e-4,3.29891462584159e-4,4.30162263130679e-4,4.7516412003873e-4,5.89240840099463e-4,8.24536426545296e-4,6.87160338350857e-4,8.48972284535287e-4,7.52703536208664e-4,7.73917879781045e-4,7.05860481562278e-4,6.60229878369132e-4,6.41772189307257e-4,5.23938210692644e-4,4.26971181791869e-4,0.00103492289721047,0,0,3.14479958896708e-5,3.67402010831023e-5,6.24230106426683e-5,7.64490837654467e-5,1.08555134358019e-4,1.31951015508381e-4,1.83771825959782e-4,2.27100433026758e-4,3.19593063725272e-4,4.91397026997684e-4,6.33741089592243e-4,9.34199024703454e-4,9.44418798408865e-4,0.00124919650349554,0.00128867310029675,0.00153500906604756,0.00161282449842795,0.00171137849424402,0.00139852160659951,0.00130908759403661,0.00116876119252585,0.00116009110176123,0.001028271525892,7.81245563525166e-4,0.00186061222535338,0,0,5.69510801981559e-5,4.05928214006731e-5,7.13685800496339e-5,7.99528767191784e-5,0.00294532805171009,2.11971860551667e-4,3.20564043692464e-4,4.2462618304612e-4,5.61640949050648e-4,8.68147173319228e-4,0.00120884498352945,0.00161083175940906,0.00239778594596552,0.00221809050654073,0.0030319460570005,0.00324885251826664,0.00354539292572966,0.00404741353433552,0.00365950807619601,0.00351035599640533,0.00305902433914954,0.0024907273280349,0.00205980274190754,0.0015355425189838,0.00375529061559378,0,0,4.02835144554483e-5,5.93993030537049e-5,1.22839905186343e-4,1.62770951553413e-4,2.52777145494268e-4,3.71260019930377e-4,5.82599916641951e-4,8.3749035873589e-4,0.00137599213725117,0.00205612544129493,0.00295654073320353,0.00393188680415717,0.00538818514984727,0.00625386525108887,0.00830900610823545,0.00890473426417846,0.0103716096240328,0.0110423568989307,0.0106158149319385,0.00880762819354661,0.00845496681645436,0.00690068884870442,0.00529332356129081,0.00396058857239417,0.00890197362640468,0,0,3.60867562975354e-5,6.10150058972883e-5,1.19792788909644e-4,2.13249683438999e-4,4.71646285655343e-4,9.22288320144771e-4,0.00168162074358842,0.00279050911622317,0.00490033382290131,0.00737307326427042,0.0114794919887129,0.0140112272013405,0.0204552247412792,0.0271913567227152,0.0327411822702375,0.0379740200005429,0.0434487705419425,0.0392115584754088,0.03663035616367,0.0330401411435669,0.0279441886190229,0.0226061016397747,0.0147989078442532,0.0109541363952238,0.0208948774870729,0,0,8.68909951896514e-5,7.7302863239697e-5,2.31276818500264e-4,6.10844715431892e-4,0.00164239801807152,0.00399006976700345,0.00823274839321542,0.0158744649462228,0.0309719418138441,0.0521935319067207,0.076893201210368,0.111066358064446,0.142745835880351,0.179484448987465,0.216122634284755,0.245365156082821,0.262355758600436,0.23918551526557,0.210657626621969,0.179057457567497,0.137190759461593,0.0955716779274531,0.0633425543179815,0.0432527412089497,0.0579150827496675,0,0,7.05430965546975e-5,2.99269150885959e-4,0.00167864151199287,0.00648263634191716,0.023113431515897,0.0625274493457833,0.151773147172134,0.324018846097745,0.585346596789013,0.968211272121143,1.45816109125238,1.96545432770864,2.48479171455728,2.92929935879922,3.31525520869255,3.48370175304576,3.54041684344458,3.08500176814583,2.44365371677609,1.83687627782575,1.24500134749849,0.768364820664986,0.445456139531968,0.251327097632457,0.231208980280211,0,0,0.00152329384468858,0.0166339222578132,0.124457959519689,0.580591343488217,1.96894515980515,5.23126476145785,11.2685007264464,20.5943121198182,32.9542744342553,46.5954417796822,59.8981128496336,71.4001780038765,79.0209928790664,82.5238438029904,81.3381479580611,76.1137422977919,68.7467243945198,55.2695098627529,37.4548611710768,23.3095895721497,13.352889709829,7.08960645201377,3.60341382525449,1.73775254780908,1.03577172032526,0,0,8.32006794560248e-4,3.65983588505463e-4,0.00118083013200679,0.00464458805875192,0.0160066663424753,0.0509239769169052,0.134396086031109,0.2834510049911,0.538959782467608,0.908234310235514,1.37312378501149,1.88908243359685,2.42858534072901,2.89024529953888,3.2389301234612,3.44893995290671,3.41588706133368,2.97626020633522,2.38425900980397,1.77189141551142,1.20603140422674,0.754550136557659,0.444034479378218,0.255617741185398,0.216464837253942,0,0,5.15539472535152e-5,9.4267379370886e-5,2.68478192170711e-4,5.05031891073406e-4,0.00159567255274108,0.00373019088640444,0.00852970768411474,0.0167490044784423,0.0276987005877595,0.0504117039719739,0.0740212407156735,0.102736647856614,0.13762782704526,0.178441082261927,0.217836957444015,0.238442979232298,0.257501871411524,0.235131948106669,0.213778735426362,0.171612332448258,0.129782243176144,0.0952470949063329,0.0634650566807195,0.043002014070143,0.0587982810367158,0,0,4.81326552627222e-5,9.94644612262625e-5,1.03367576284967e-4,2.07606629032842e-4,4.78040725411925e-4,0.00100358058507322,0.00165374818440338,0.00278635694028119,0.00499938431056562,0.00812812693207856,0.0109413728684218,0.0146286679381982,0.020132328757656,0.026764638801377,0.0321037968462555,0.0375705502940601,0.0405549585683897,0.0386582816324967,0.0383645677225494,0.0316220682436547,0.0278678092152003,0.0214814516228202,0.0153163766944261,0.0115018327086649,0.0217514912757328,0,0,2.85641414430839e-5,5.91103220148231e-5,6.90130172490675e-5,1.77924897543405e-4,2.27016087139969e-4,3.93572187373578e-4,5.47074392438211e-4,0.00195922622465724,0.00156152254278297,0.00211921217006458,0.00332073464413706,0.00420008166928976,0.00521691936186668,0.00695117136547854,0.00760793605165883,0.00961636774830747,0.0107440152736162,0.0106151742137981,0.0102726007897778,0.00919219378221957,0.00768754119575545,0.00677157883535654,0.00563735945183924,0.00401466189815797,0.00851462369225434,0,0,3.57655421074877e-5,4.08533893952896e-5,6.92090845218532e-5,9.8113905043125e-5,1.42211708392548e-4,1.91180210073992e-4,3.12984828505098e-4,8.19794129326375e-4,7.02525923573405e-4,7.92707865456838e-4,0.00108226358558841,0.00155976139911194,0.00201387263707494,0.00267095619702752,0.00297716824151745,0.00356242790697608,0.00379605434768392,0.00400693307664131,0.00413960767992604,0.00320715328854318,0.00295562084125045,0.00250807405173441,0.00202341886943991,0.00153378030854316,0.00391466374411681,0,0,2.99297519425836e-5,4.75410267625319e-5,5.61135074324088e-5,9.43728434807627e-5,9.66547000040284e-5,1.28260852805879e-4,2.22686369872088e-4,6.03291530252341e-4,3.55263489818016e-4,4.82183964180088e-4,5.7863814347542e-4,7.37132612458179e-4,8.82960255487758e-4,0.00138393230211496,0.001760743645085,0.00150929668672653,0.00162457279142251,0.00161827283777168,0.00136059685242795,0.00139342724001406,0.00127467400659164,0.00125986129067791,8.81896988134955e-4,8.13341305156252e-4,0.00178144648484752,0,0,2.41719282545196e-5,2.43102768450115e-5,3.52846631965667e-5,6.04715737142887e-5,6.67123718457446e-5,8.28933548282735e-5,1.73777351492056e-4,1.52925548956429e-4,2.50107033712025e-4,2.83692647960892e-4,3.18203307382912e-4,4.38838904888291e-4,5.78619175594352e-4,6.56859243822372e-4,8.70253963260352e-4,7.29902425537732e-4,7.6717091969741e-4,6.9045282045147e-4,7.02034623214649e-4,7.10031522737709e-4,7.24477571371922e-4,6.45993607476914e-4,5.14969192575105e-4,4.20760554896664e-4,9.31203462807723e-4,0,0,2.38189028322475e-5,2.6912183476043e-5,3.02268517967662e-5,2.86892289368653e-5,4.60970368182272e-4,5.36851922790196e-5,1.18221237800096e-4,1.03609914598073e-4,1.05773063990908e-4,1.60293403094701e-4,2.06489113357371e-4,1.8948834120927e-4,2.86547212676824e-4,3.54243755908913e-4,3.56016416104583e-4,3.73031862885226e-4,4.07338981254675e-4,4.17631962337188e-4,4.09223361830988e-4,3.615918537646e-4,3.7327250395028e-4,3.1386533172428e-4,5.33214346266654e-4,2.85390626975596e-4,5.36191194819025e-4,0,0,1.73387749008711e-5,1.5083997180944e-5,2.85413849923741e-5,2.59343528730141e-5,3.1840257801137e-5,3.19432848735483e-5,6.34234685122642e-5,7.28745464409227e-5,7.91218115955304e-5,1.0290979607036e-4,1.41889811617873e-4,1.6793079687714e-4,8.83223389079927e-4,2.22265310424862e-4,2.78762882697573e-4,2.22833203407484e-4,3.46933312937857e-4,2.19581051400289e-4,2.49755937771678e-4,2.18165078021344e-4,1.78381235373705e-4,1.69251725567768e-4,1.44897838559379e-4,1.32577855757912e-4,3.32584256571917e-4,0,0,1.11919178257784e-5,1.91690946481978e-5,1.51874572675614e-5,1.79567475739827e-5,2.28277520667694e-5,3.50361206234589e-5,4.79510062919202e-5,6.16974237223704e-5,7.84255842333957e-5,7.09796053836117e-5,7.89976508657581e-5,1.181927831277e-4,1.11246579766761e-4,1.30021876941951e-4,1.59032397424028e-4,3.39447304050444e-4,1.92209810565054e-4,1.52757257867419e-4,1.50551434743826e-4,1.39184146250221e-4,1.23554043324402e-4,1.05297308684282e-4,1.02651984219816e-4,1.0638628940883e-4,2.51706674012815e-4,0,0,9.71024092717045e-6,1.35070622257714e-5,1.20588727784912e-5,2.15395830370716e-5,2.13950322715029e-5,1.90952207902741e-5,2.87653920743981e-5,3.13341754676421e-5,6.52872585916119e-5,5.79997842915955e-5,8.48294359696778e-5,8.25162436423327e-5,9.94636678633383e-5,9.04344815769426e-5,9.67587413359655e-5,1.00978484647737e-4,1.04997780116307e-4,1.05421889374739e-4,8.77972903930226e-5,7.67630657707776e-5,6.93768568166991e-5,6.03113894653387e-5,1.02614042568481e-4,6.64801162653099e-5,1.00312274134278e-4,0,0,5.90437850615215e-6,9.04697739384564e-6,5.56382884653567e-6,1.3491224808985e-5,1.91017728464736e-5,2.36406558548606e-5,1.82337005591316e-5,2.72026054149376e-5,3.52182324673983e-5,3.50409387257254e-5,4.14278515616062e-5,2.96821545742914e-5,5.65632141657576e-5,6.07306271200039e-5,6.94396632085545e-5,6.78468701371264e-5,7.25407224049814e-5,7.73443771632857e-5,8.46059509477049e-5,5.14410513667541e-5,6.22681384800299e-5,4.48577886639683e-5,5.19446842227527e-5,4.21652997570618e-5,1.88256046023568e-4,0,0,0,0,0,0,0,0,0,0,0,0,0,0,0,0,0,0,0,0,0,0,0,0,0,0,0,0],\"fOption\":\"\",\"fFunctions\":{\"_typename\":\"TList\",\"name\":\"TList\",\"arr\":[{\"_typename\":\"TPaletteAxis\",\"fUniqueID\":0,\"fBits\":50331648,\"fLineColor\":1,\"fLineStyle\":1,\"fLineWidth\":1,\"fFillColor\":1178,\"fFillStyle\":1001,\"fX1\":25.1562500023283,\"fY1\":0,\"fX2\":26.5625000232831,\"fY2\":25,\"fX1NDC\":0.904999994039535,\"fY1NDC\":0.100000005960465,\"fX2NDC\":0.949999994039535,\"fY2NDC\":0.899999994039535,\"fBorderSize\":4,\"fInit\":1,\"fShadowColor\":1,\"fCornerRadius\":0,\"fOption\":\"br\",\"fName\":\"TPave\",\"fAxis\":{\"_typename\":\"TGaxis\",\"fUniqueID\":0,\"fBits\":50331648,\"fLineColor\":1,\"fLineStyle\":1,\"fLineWidth\":1,\"fX1\":0,\"fY1\":0,\"fX2\":0,\"fY2\":0,\"fTextAngle\":0,\"fTextSize\":0.04,\"fTextAlign\":11,\"fTextColor\":1,\"fTextFont\":42,\"fWmin\":0,\"fWmax\":0,\"fGridLength\":0,\"fTickSize\":0.03,\"fLabelOffset\":0.005,\"fLabelSize\":0.035,\"fTitleOffset\":1,\"fTitleSize\":0.035,\"fNdiv\":0,\"fLabelColor\":1,\"fLabelFont\":42,\"fNModLabs\":0,\"fChopt\":\"\",\"fName\":\"\",\"fTitle\":\"\",\"fTimeFormat\":\"\",\"fFunctionName\":\"\",\"fModLabs\":null},\"fName\":\"palette\"},{\"_typename\":\"TPaveStats\",\"fUniqueID\":0,\"fBits\":50331657,\"fLineColor\":1,\"fLineStyle\":1,\"fLineWidth\":1,\"fFillColor\":0,\"fFillStyle\":1001,\"fX1\":21.2500006332994,\"fY1\":18.5937503329478,\"fX2\":27.5000008195639,\"fY2\":26.0937502770685,\"fX1NDC\":0.780000016093254,\"fY1NDC\":0.695000007748604,\"fX2NDC\":0.980000019073486,\"fY2NDC\":0.935000002384186,\"fBorderSize\":1,\"fInit\":1,\"fShadowColor\":1,\"fCornerRadius\":0,\"fOption\":\"brNDC\",\"fName\":\"stats\",\"fTextAngle\":0,\"fTextSize\":0,\"fTextAlign\":12,\"fTextColor\":1,\"fTextFont\":42,\"fLabel\":\"\",\"fLongest\":18,\"fMargin\":0.05,\"fLines\":{\"_typename\":\"TList\",\"name\":\"TList\",\"arr\":[{\"_typename\":\"TLatex\",\"fUniqueID\":0,\"fBits\":50331648,\"fName\":\"\",\"fTitle\":\"htrue\",\"fTextAngle\":0,\"fTextSize\":0.0368,\"fTextAlign\":0,\"fTextColor\":0,\"fTextFont\":0,\"fX\":0,\"fY\":0,\"fLineColor\":1,\"fLineStyle\":1,\"fLineWidth\":2,\"fLimitFactorSize\":3,\"fOriginSize\":0.0368000008165836},{\"_typename\":\"TLatex\",\"fUniqueID\":0,\"fBits\":50331648,\"fName\":\"\",\"fTitle\":\"Entries = 625000 \",\"fTextAngle\":0,\"fTextSize\":0,\"fTextAlign\":0,\"fTextColor\":0,\"fTextFont\":0,\"fX\":0,\"fY\":0,\"fLineColor\":1,\"fLineStyle\":1,\"fLineWidth\":2,\"fLimitFactorSize\":3,\"fOriginSize\":0.04},{\"_typename\":\"TLatex\",\"fUniqueID\":0,\"fBits\":50331648,\"fName\":\"\",\"fTitle\":\"Mean x =  14.28\",\"fTextAngle\":0,\"fTextSize\":0,\"fTextAlign\":0,\"fTextColor\":0,\"fTextFont\":0,\"fX\":0,\"fY\":0,\"fLineColor\":1,\"fLineStyle\":1,\"fLineWidth\":2,\"fLimitFactorSize\":3,\"fOriginSize\":0.04},{\"_typename\":\"TLatex\",\"fUniqueID\":0,\"fBits\":50331648,\"fName\":\"\",\"fTitle\":\"Mean y =   12.5\",\"fTextAngle\":0,\"fTextSize\":0,\"fTextAlign\":0,\"fTextColor\":0,\"fTextFont\":0,\"fX\":0,\"fY\":0,\"fLineColor\":1,\"fLineStyle\":1,\"fLineWidth\":2,\"fLimitFactorSize\":3,\"fOriginSize\":0.04},{\"_typename\":\"TLatex\",\"fUniqueID\":0,\"fBits\":50331648,\"fName\":\"\",\"fTitle\":\"Std Dev x =  4.652\",\"fTextAngle\":0,\"fTextSize\":0,\"fTextAlign\":0,\"fTextColor\":0,\"fTextFont\":0,\"fX\":0,\"fY\":0,\"fLineColor\":1,\"fLineStyle\":1,\"fLineWidth\":2,\"fLimitFactorSize\":3,\"fOriginSize\":0.04},{\"_typename\":\"TLatex\",\"fUniqueID\":0,\"fBits\":50331648,\"fName\":\"\",\"fTitle\":\"Std Dev y =  1.453\",\"fTextAngle\":0,\"fTextSize\":0,\"fTextAlign\":0,\"fTextColor\":0,\"fTextFont\":0,\"fX\":0,\"fY\":0,\"fLineColor\":1,\"fLineStyle\":1,\"fLineWidth\":2,\"fLimitFactorSize\":3,\"fOriginSize\":0.04}],\"opt\":[\"\",\"\",\"\",\"\",\"\",\"\"]},\"fOptFit\":0,\"fOptStat\":1111,\"fFitFormat\":\"5.4g\",\"fStatFormat\":\"6.4g\",\"fParent\":{\"$ref\":5}}],\"opt\":[\"br\",\"brNDC\"]},\"fBufferSize\":0,\"fBuffer\":[],\"fBinStatErrOpt\":0,\"fStatOverflows\":2,\"fScalefactor\":1,\"fTsumwy\":61790.9662708362,\"fTsumwy2\":782730.260805427,\"fTsumwxy\":882596.938716034,\"fArray\":[0,0,0,0,0,0,0,0,0,0,0,0,0,0,0,0,0,0,0,0,0,0,0,0,0,0,0,0,0.0102189662972023,0.0158344249565516,0.016420922537236,0.0174255525223543,0.0203162646075725,0.0264984890518463,0.0273964843158865,0.0376536849264539,0.0432981905067891,0.0548167387921694,0.0713852802393831,0.0770716833353617,0.0828290798048101,0.080994346768307,0.0958936514673496,0.0907807498498414,0.0867121499081804,0.0895533924201573,0.0841995079740627,0.0771565176332842,0.0702304163086183,0.0781617174408211,0.0607575874133772,0.057154106925509,0.0917371856756972,0,0,0.0233551477056153,0.0117288928786365,0.017313370805482,0.0281171367792012,0.0323314713315312,0.0340726996855665,0.0455635126761536,0.0565107956307429,0.055143310532344,0.0720172531581511,0.0805641089120854,0.0952086346668466,0.0988523144508235,0.121073169258693,0.117015858816671,0.119965952891903,0.119338361595055,0.1312369716494,0.117156404349771,0.117619986587215,0.0977114943251536,0.102230378514037,0.0966901152764876,0.0757150233832817,0.125895622431699,0,0,0.0181551918522018,0.0261074291375962,0.0235278438706246,0.0265741665236874,0.039430140523109,0.0546863426303617,0.0623212893201526,0.0803277403772427,0.0937732521274484,0.106947341922819,0.119977447003976,0.124201665707233,0.140623070083393,0.158368972871472,0.182603203718713,0.184713616595104,0.188197645077821,0.177835957316915,0.180175894903073,0.141991335498346,0.147186405321463,0.145189905079633,0.144136855088163,0.117616697236599,0.190851687084205,0,0,0.0171940707629119,0.0277337387767602,0.0234657114390302,0.039801612811516,0.0458466251299114,0.0608775588763137,0.0742515884746808,0.108869024273986,0.110609447456227,0.140761779127615,0.157579807118282,0.174040532121353,0.210147015801681,0.202718980384361,0.198579601309575,0.235584939223372,0.27288332089779,0.263929658329062,0.263965179614843,0.225965091584499,0.205526717924386,0.210844091914623,0.185279436092515,0.152005051124206,0.274989351099975,0,0,0.0232717763765322,0.0378081608357661,0.0435371735781018,0.0589772773789718,0.0625779464326115,0.0811712529592796,0.091600587028779,0.14297254448752,0.168712147962765,0.208592195644087,0.258165423294145,0.259483193793471,0.303040049865331,0.290041940717856,0.330082553443845,0.385962153870423,0.389064768811977,0.378381731977015,0.3681021970865,0.364242312192005,0.3293141451868,0.310101171171482,0.286784073323133,0.243519242172624,0.385091202461126,0,0,0.0312583032421117,0.045203716682181,0.0506032793413169,0.0626661756176645,0.0896083714717406,0.102799599772311,0.145336747036254,0.184105251064125,0.217162379002048,0.258426491364844,0.314297194213054,0.340971061835035,0.414169485345155,0.452571038140718,0.532746944127894,0.52594458979911,0.560450837675944,0.55490966804814,0.554347871037521,0.510248686312366,0.502752452953018,0.457897170552997,0.411930398816139,0.351764242493118,0.576383686607187,0,0,0.047906603501815,0.055910199901291,0.0738760618947936,0.0989894485139757,0.122039738720218,0.163047820440283,0.200000640684266,0.247776043227077,0.304764596228438,0.394060605262894,0.470568448715426,0.548220492417158,0.623745074620501,0.730600635065571,0.765827847614219,0.839597809775341,0.854980871529278,0.899341421579379,0.814773545547723,0.786292923088126,0.729616570726876,0.698078963812804,0.65060071903838,0.53525954557017,0.878567205680383,0,0,0.0531895819078727,0.0643491910163903,0.0831141059704805,0.118093021088839,0.195776928992473,0.215861058380256,0.287312044848591,0.38573043437043,0.448941917352272,0.61172831457452,0.728689173376551,0.862042470592542,1.05778480029971,1.0857153320685,1.27895069924216,1.34986663663267,1.40566591553579,1.47441162439191,1.42416363292659,1.38079527639161,1.26954798085148,1.13201230124378,0.984153307218889,0.834958334263888,1.3123332151531,0,0,0.0622595140283693,0.0849348377001888,0.112019978743774,0.182639634635734,0.241526230054205,0.33027542504442,0.456584046259422,0.580585619487238,0.78875811096043,0.998168888167129,1.26223077358554,1.48314119223312,1.79550751838917,1.95311464611973,2.26534203078063,2.37768709067859,2.54583519865537,2.61659073472367,2.55059460830307,2.32030585182383,2.2615117770124,1.96205762244506,1.69002000495834,1.43443196592489,2.10618208862581,0,0,0.063256827495934,0.086525445642792,0.157691963175921,0.235512113352911,0.373694595706525,0.592560704545235,0.840113672355074,1.21718677005697,1.62768784338232,2.11589704254254,2.66690564021883,3.05728022719859,3.71892982529607,4.27704309628098,4.74691891600651,5.15607527278189,5.41434908904819,5.17506461929975,4.9671005440573,4.69550257204719,4.24484495143543,3.77298207160038,2.97705362267197,2.48217839019685,3.36870183133942,0,0,0.0953576177402056,0.111901169419639,0.233626594755833,0.446475002096804,0.816321175425401,1.38834800395125,2.16590507832348,3.15665845992078,4.52695540777177,5.94422327360166,7.35435215714097,8.8078733793991,10.1924154232911,11.4703169536006,12.5085317736266,13.3755408450597,13.8343216983558,13.0716370815244,12.1902691484684,11.1038091325427,9.56636446997891,7.84713725096628,6.30538608836105,5.00934340029903,5.73949779487884,0,0,0.101592191527516,0.262053942559987,0.70379030739457,1.62442903315423,3.30893558192111,5.93211827421146,9.74799343539053,14.8606512899569,20.3293863955405,26.4651597366901,32.693835418846,38.3124549668573,43.2086927242344,46.8778368209314,49.8666151954967,50.9111357993388,51.0604987749903,47.2499021894837,41.6682519332926,35.494573544318,28.7022980430211,22.1068483628187,16.5013815119887,12.0344141944888,11.1187130029448,0,0,0.909911635833851,3.30094256979646,9.45338239941157,20.8438283846626,38.7605750302682,63.4357419813168,93.2665221297939,126.166546096356,159.493343538663,189.922854175325,214.48802817578,233.467652615975,244.690456668439,248.966000324828,245.684968809364,235.990433673956,222.36658375003,195.949746387691,158.581705571443,121.834210599227,89.5749166260775,63.3895099174624,43.7088472013509,29.1526033749706,21.7543112164849,0,0,0.127333391658226,0.260882727790886,0.642115988901878,1.51255239976399,3.170742542874,5.88789950199134,9.76233270355078,14.5171823051787,20.1426205642056,26.2943166166078,32.505836632532,38.0039752714511,43.0282074654824,46.9381344672001,49.4468811630213,50.8397039050469,50.5521956754528,46.5753084245034,41.2680045555899,34.7932608190749,28.2988860277474,21.9463248156717,16.4519316850165,12.132585195699,10.8812892599049,0,0,0.0802669312140551,0.119538716454144,0.232742740229583,0.404013451520314,0.818685298639366,1.36690669157065,2.19779158552365,3.28384497654042,4.35762040041664,5.91129821835784,7.20248548705968,8.59546883047005,10.0760411940358,11.4391445707993,12.5550527551613,13.2132824126807,13.7326689254896,12.9949472574244,12.2855975346902,10.8736314784219,9.30039093653704,7.80368610886944,6.24398870722234,5.02700058872642,5.67397329918674,0,0,0.0728520508329211,0.107125116919747,0.137532593095216,0.226319397723842,0.380301398235815,0.59746130056817,0.835292854565751,1.19126282999582,1.68199065699991,2.1869482494908,2.6637719875107,3.09662367875171,3.6692593090811,4.24952303217106,4.67951567622185,5.05293346574035,5.25579369390653,5.17316095383649,5.07948547589876,4.5940423037664,4.2351264455956,3.65402254914989,3.00540217849993,2.52800904176775,3.40307299490553,0,0,0.0511976909566556,0.0857212504731706,0.0982424682055125,0.16157700602696,0.229995388836414,0.317946925992828,0.447661791017367,0.652545488538067,0.813219513296076,1.02131570027973,1.33005437192014,1.53983414443928,1.74431193302235,2.03545569012181,2.1439679328073,2.40854991687047,2.60474212473309,2.57884199867476,2.5285763603224,2.36852586604846,2.13417859690344,1.9590371119466,1.72679615285051,1.42115489852677,2.08522051348473,0,0,0.0460214683558888,0.062917740759417,0.0902112837804907,0.11788570093222,0.159344861215118,0.21658334672145,0.297059662923289,0.403848047817519,0.479782595310098,0.576974018290571,0.711845743174763,0.86533350077184,0.986098096428577,1.17394378883046,1.2733802665482,1.37554238690745,1.47172729983254,1.50216224320866,1.48267405603929,1.31295719424679,1.24311618780416,1.11487134911431,0.985891511162095,0.816310922018602,1.32640638535167,0,0,0.0401188359815023,0.0606426125810913,0.0736348563711999,0.103207176998467,0.114224383620808,0.164770818302259,0.206349228725344,0.309449815265225,0.332533607839309,0.405171139959975,0.463929128090967,0.541764229942601,0.59952147808292,0.743290634789105,0.808999314942298,0.847869773094544,0.878133812619581,0.860747654568058,0.810601800900713,0.798341889562266,0.756459072672442,0.731944670345456,0.582026395905814,0.538551530318273,0.862824301614182,0,0,0.035592581156493,0.0390903040213288,0.0559058601477318,0.0758291372416124,0.0874399640063075,0.111697694106056,0.153701316860406,0.183406993611243,0.257162534398617,0.271377536249474,0.29971254358054,0.384287575128951,0.419686394500559,0.477622549583771,0.538600342471909,0.525898521603949,0.54725201119345,0.521860041077616,0.536094918001936,0.519647982628271,0.498060133421518,0.484180896031262,0.391805543835289,0.370547638490507,0.573629535013083,0,0,0.0334498342210736,0.0335007265928198,0.0464805676166407,0.0490070072214621,0.0795416101556157,0.0849073263771061,0.127809080294128,0.120624137193658,0.14654891905866,0.187404305940504,0.215138611590078,0.221478060010554,0.277407264583189,0.330312531067193,0.32762960507182,0.34956889542002,0.359320733686786,0.364625674948911,0.365307809907222,0.335007454855599,0.335997243810652,0.283250979866693,0.310767204593049,0.269157907646786,0.390254040258696,0,0,0.0241801210471522,0.027749481056162,0.0276876537870976,0.0419661813980383,0.0515377433289359,0.0595850009533478,0.085069695385755,0.09516937629121,0.099283336661756,0.128019556821641,0.164137496355465,0.180601467477231,0.234100375888147,0.213361042413453,0.258878866668056,0.246303738292454,0.290743912305743,0.247183200821382,0.242827985669692,0.220797348996825,0.206309788959175,0.191622183446043,0.174840147019268,0.151437945041266,0.274041660575904,0,0,0.0192679588747069,0.0270969525259943,0.0252130449032393,0.029160241503746,0.034429374403544,0.047850157461653,0.0672602016472865,0.0742197326289897,0.0878148627612063,0.101584781684096,0.113620082177704,0.136607032200573,0.137268127638436,0.161739531056469,0.180199588261758,0.182975843572649,0.199789661858176,0.178784297405969,0.187003197379568,0.157783200986614,0.141724689918419,0.138340862768814,0.119297564899171,0.127082750764998,0.19051080458712,0,0,0.015456328586879,0.0244670639908691,0.0163050647021237,0.0320616312606035,0.0342507543954298,0.0337932289415903,0.0446356944535182,0.0469705309482151,0.0589590529187944,0.0814120609368274,0.0951145208589423,0.104726875905499,0.113637607525106,0.111265216972356,0.119983209183602,0.122022178567249,0.134165650512841,0.12697847896527,0.118855135671652,0.104003569539827,0.0894444006820549,0.0896010893120547,0.094755328524684,0.0861679563930693,0.111499011230194,0,0,0.0121593619708165,0.012509570314819,0.0122107419059603,0.0223744115496629,0.0263628196264563,0.031151747350691,0.029069088587562,0.0450881006153168,0.0490453438990244,0.0533016653834011,0.0632589626391109,0.0516200230294999,0.0750255546263361,0.0792206748867557,0.0912861701494876,0.0903392008897299,0.0939758883400827,0.0921863844508835,0.0972251203157839,0.0721560710030644,0.0734670228391678,0.0610059073499087,0.0648648320650409,0.0561231507529101,0.0993367754206247,0,0,0,0,0,0,0,0,0,0,0,0,0,0,0,0,0,0,0,0,0,0,0,0,0,0,0,0]},{\"_typename\":\"TPaveText\",\"fUniqueID\":0,\"fBits\":50331657,\"fLineColor\":1,\"fLineStyle\":1,\"fLineWidth\":1,\"fFillColor\":0,\"fFillStyle\":0,\"fX1\":5.22606039006107,\"fY1\":26.0230568197585,\"fX2\":19.7739396099389,\"fY2\":27.968750379514,\"fX1NDC\":0.267233935950439,\"fY1NDC\":0.932737811783975,\"fX2NDC\":0.732766064049561,\"fY2NDC\":0.995000004768372,\"fBorderSize\":0,\"fInit\":1,\"fShadowColor\":1,\"fCornerRadius\":0,\"fOption\":\"blNDC\",\"fName\":\"title\",\"fTextAngle\":0,\"fTextSize\":0,\"fTextAlign\":22,\"fTextColor\":1,\"fTextFont\":42,\"fLabel\":\"\",\"fLongest\":19,\"fMargin\":0.05,\"fLines\":{\"_typename\":\"TList\",\"name\":\"TList\",\"arr\":[{\"_typename\":\"TLatex\",\"fUniqueID\":0,\"fBits\":50331648,\"fName\":\"\",\"fTitle\":\"real shower profile\",\"fTextAngle\":0,\"fTextSize\":0,\"fTextAlign\":0,\"fTextColor\":0,\"fTextFont\":0,\"fX\":0,\"fY\":0,\"fLineColor\":1,\"fLineStyle\":1,\"fLineWidth\":2,\"fLimitFactorSize\":3,\"fOriginSize\":0.0529228635132313}],\"opt\":[\"\"]}}],\"opt\":[\"\",\"COLZ\",\"blNDC\"]},\"fExecs\":{\"_typename\":\"TList\",\"name\":\"TList\",\"arr\":[],\"opt\":[]},\"fName\":\"c1_1\",\"fTitle\":\"c1_1\",\"fNumPaletteColor\":0,\"fNextPaletteColor\":0},{\"_typename\":\"TPad\",\"fUniqueID\":0,\"fBits\":50331657,\"fLineColor\":1,\"fLineStyle\":1,\"fLineWidth\":1,\"fFillColor\":0,\"fFillStyle\":1001,\"fLeftMargin\":0.1,\"fRightMargin\":0.1,\"fBottomMargin\":0.1,\"fTopMargin\":0.1,\"fXfile\":2,\"fYfile\":2,\"fAfile\":1,\"fXstat\":0.99,\"fYstat\":0.99,\"fAstat\":2,\"fFrameFillColor\":0,\"fFrameLineColor\":1,\"fFrameFillStyle\":1001,\"fFrameLineStyle\":1,\"fFrameLineWidth\":1,\"fFrameBorderSize\":1,\"fFrameBorderMode\":0,\"fX1\":-3.12500023283066,\"fY1\":-3.12500023283066,\"fX2\":28.1250002328307,\"fY2\":28.1250002328307,\"fXtoAbsPixelk\":555.76805267148,\"fXtoPixelk\":47.8080528941037,\"fXtoPixel\":15.2985597862816,\"fYtoAbsPixelk\":421.024047327328,\"fYtoPixelk\":416.304047432828,\"fYtoPixel\":-14.8019197861862,\"fUtoAbsPixelk\":507.960049777377,\"fUtoPixelk\":5e-5,\"fUtoPixel\":478.080000445247,\"fVtoAbsPixelk\":467.2800501055,\"fVtoPixelk\":462.560000211,\"fVtoPixel\":-462.560000211,\"fAbsPixeltoXk\":-36.3281256821211,\"fPixeltoXk\":-3.12500023283066,\"fPixeltoX\":0.0653656300965476,\"fAbsPixeltoYk\":28.4438777813298,\"fPixeltoYk\":-3.12500023283066,\"fPixeltoY\":-0.0675588041581771,\"fXlowNDC\":0.509999999776483,\"fYlowNDC\":0.00999999977648258,\"fXUpNDC\":0,\"fYUpNDC\":0,\"fWNDC\":0.480000000447035,\"fHNDC\":0.980000000447035,\"fAbsXlowNDC\":0.509999999776483,\"fAbsYlowNDC\":0.00999999977648258,\"fAbsWNDC\":0.480000000447035,\"fAbsHNDC\":0.980000000447035,\"fUxmin\":0,\"fUymin\":0,\"fUxmax\":25,\"fUymax\":25,\"fTheta\":30,\"fPhi\":30,\"fAspectRatio\":0,\"fNumber\":2,\"fTickx\":0,\"fTicky\":0,\"fLogx\":0,\"fLogy\":0,\"fLogz\":0,\"fPadPaint\":0,\"fCrosshair\":0,\"fCrosshairPos\":0,\"fBorderSize\":2,\"fBorderMode\":0,\"fModified\":false,\"fGridx\":false,\"fGridy\":false,\"fAbsCoord\":false,\"fEditable\":true,\"fFixedAspectRatio\":false,\"fPrimitives\":{\"_typename\":\"TList\",\"name\":\"TList\",\"arr\":[{\"_typename\":\"TFrame\",\"fUniqueID\":0,\"fBits\":50331656,\"fLineColor\":1,\"fLineStyle\":1,\"fLineWidth\":1,\"fFillColor\":0,\"fFillStyle\":1001,\"fX1\":0,\"fY1\":0,\"fX2\":25,\"fY2\":25,\"fBorderSize\":1,\"fBorderMode\":0},{\"_typename\":\"TH2D\",\"fUniqueID\":0,\"fBits\":50331656,\"fName\":\"htrue\",\"fTitle\":\"generated shower profile\",\"fLineColor\":602,\"fLineStyle\":1,\"fLineWidth\":1,\"fFillColor\":0,\"fFillStyle\":1001,\"fMarkerColor\":1,\"fMarkerStyle\":1,\"fMarkerSize\":1,\"fNcells\":729,\"fXaxis\":{\"_typename\":\"TAxis\",\"fUniqueID\":0,\"fBits\":50331648,\"fName\":\"xaxis\",\"fTitle\":\"\",\"fNdivisions\":510,\"fAxisColor\":1,\"fLabelColor\":1,\"fLabelFont\":42,\"fLabelOffset\":0.005,\"fLabelSize\":0.035,\"fTickLength\":0.03,\"fTitleOffset\":1,\"fTitleSize\":0.035,\"fTitleColor\":1,\"fTitleFont\":42,\"fNbins\":25,\"fXmin\":0,\"fXmax\":25,\"fXbins\":[],\"fFirst\":0,\"fLast\":0,\"fBits2\":0,\"fTimeDisplay\":false,\"fTimeFormat\":\"\",\"fLabels\":null,\"fModLabs\":null},\"fYaxis\":{\"_typename\":\"TAxis\",\"fUniqueID\":0,\"fBits\":50331648,\"fName\":\"yaxis\",\"fTitle\":\"\",\"fNdivisions\":510,\"fAxisColor\":1,\"fLabelColor\":1,\"fLabelFont\":42,\"fLabelOffset\":0.005,\"fLabelSize\":0.035,\"fTickLength\":0.03,\"fTitleOffset\":0,\"fTitleSize\":0.035,\"fTitleColor\":1,\"fTitleFont\":42,\"fNbins\":25,\"fXmin\":0,\"fXmax\":25,\"fXbins\":[],\"fFirst\":0,\"fLast\":0,\"fBits2\":0,\"fTimeDisplay\":false,\"fTimeFormat\":\"\",\"fLabels\":null,\"fModLabs\":null},\"fZaxis\":{\"_typename\":\"TAxis\",\"fUniqueID\":0,\"fBits\":50331648,\"fName\":\"zaxis\",\"fTitle\":\"\",\"fNdivisions\":510,\"fAxisColor\":1,\"fLabelColor\":1,\"fLabelFont\":42,\"fLabelOffset\":0.005,\"fLabelSize\":0.035,\"fTickLength\":0.03,\"fTitleOffset\":1,\"fTitleSize\":0.035,\"fTitleColor\":1,\"fTitleFont\":42,\"fNbins\":1,\"fXmin\":0,\"fXmax\":1,\"fXbins\":[],\"fFirst\":0,\"fLast\":0,\"fBits2\":0,\"fTimeDisplay\":false,\"fTimeFormat\":\"\",\"fLabels\":null,\"fModLabs\":null},\"fBarOffset\":0,\"fBarWidth\":1000,\"fEntries\":625000,\"fTsumw\":4817.95285708446,\"fTsumw2\":833.836529046446,\"fTsumwx\":69183.5385064042,\"fTsumwx2\":1096966.98579863,\"fMaximum\":249.333115259185,\"fMinimum\":-1111,\"fNormFactor\":0,\"fContour\":[0,12.4666557629593,24.9333115259185,37.3999672888778,49.8666230518371,62.3332788147964,74.7999345777556,87.2665903407149,99.7332461036742,112.199901866633,124.666557629593,137.133213392552,149.599869155511,162.066524918471,174.53318068143,186.999836444389,199.466492207348,211.933147970308,224.399803733267,236.866459496226],\"fSumw2\":[0,0,0,0,0,0,0,0,0,0,0,0,0,0,0,0,0,0,0,0,0,0,0,0,0,0,0,0,1.45076684347898e-4,0,6.57643414525566e-4,0,0,0,0,0,0,0,0,0,0,0,0,0,0,0,0,0,3.6453295283595e-6,1.53631089840123e-4,4.43053123204452e-5,8.69189846705062e-4,6.68445757695275e-4,0,0,2.20905885770027e-4,0,9.34192949837709e-6,0,0,2.61727841381749e-4,2.94589105927758e-4,0,0.0014734172602828,0,1.81905024979057e-5,6.80168775747739e-4,3.83499902552209e-4,0.0102873106535837,0.00201421023933625,0.00614612781476022,0.00377657059683871,1.51844483813973e-4,7.99497244999697e-5,0.00861925158845842,4.76139140635594e-5,1.40448208618693e-11,0,0,2.33990450586655e-6,0,0,4.41278844536694e-4,0,0,0,0,7.51140414894658e-5,0,2.14604963189036e-7,1.60219979261255e-4,0,0,0,0,8.54722208043432e-4,1.51034519527207e-4,0.0084920017476805,0.0025666721894429,8.15775456418366e-5,4.03060660495343e-5,0,5.41093954569763e-4,6.0350838213925e-4,0,5.50026881751941e-5,2.26741036536693e-6,0,0,0,6.35775869204519e-7,7.69628186864414e-5,7.79548269037728e-5,0,6.10891440827321e-5,4.46355036602996e-5,9.02120067536316e-7,2.1927854395622e-4,0,3.8351386214958e-4,6.64901103607507e-5,2.8182788215915e-4,6.04515150300619e-4,1.28508908718683e-4,0.0204096326908058,4.93194220963389e-4,5.93892868948599e-4,0,0.0134179367632306,0.00219070542635468,0,7.09928349762814e-6,1.26292392367021e-4,0.00391480907565263,0,0,0,1.52432971853265e-5,0,1.53753679992819e-5,2.63836474210521e-5,0,6.92693758385321e-4,0,7.46315561999528e-5,0,1.92759932770112e-4,0,0.00561843110456773,3.49447266297584e-4,2.59916260378846e-4,0.0158962874997668,0.00148521638567619,3.16002689635445e-4,1.03819925340622e-5,0.00800458681065375,0,5.71502222944588e-4,0.00188906197443495,7.09911877703695e-4,0.00678234826599326,0,0,0,0.00393239855937773,0,7.03079887229563e-5,1.1743313907181e-4,0,4.72428146745837e-4,5.88295040850151e-4,0.00596525607268941,0,0.00461888980538494,1.15906580458458e-7,0.0033194506262784,4.40242936233931e-5,1.01220721218237e-5,0.00281867147880789,4.69208081144781e-4,0.0125237035743437,0.0119646862007996,3.69363376193296e-5,0.00867937279284577,2.78561650540861e-4,2.53158875083218e-5,7.65960702305175e-5,0.002697049719558,0,0,9.51992240427746e-6,5.97075519193175e-4,1.6201127328308e-6,8.54259696228848e-4,4.91612813952359e-5,3.36052329655837e-4,3.93095964761812e-4,6.38755322775762e-4,4.62789185184144e-5,0.00120414054892518,0.00329065257145623,0.00206560623563427,0.0114681759199438,0.0125473433075301,0.0114074976438533,0.00436927344123038,0.00827786668729224,0.00596618511137272,8.25182440052781e-4,0.00693572376594566,0.00629407395064795,0.00482295602399776,0.00142939467588041,0.00274788516394316,0.00340965630325987,0,0,0,1.31444180698432e-5,1.08424488077699e-4,1.43991246197836e-4,1.92384794916053e-4,8.27044632292079e-5,0.00163148840991872,8.55703518171699e-4,0.00183923090214712,0.00802838093028431,3.12087112161586e-4,0.00602522083094351,3.94897232912542e-4,0.00663919432367989,0.0165694414089157,0.0172163686939285,0.0189580015330051,0.00411629648637388,0.0245436711794835,0.0169324220159424,0.00119628015776958,0.00542454448970095,0.00359354144688951,0.00368921818952076,0.0078804882142124,0,0,1.24901854983706e-7,1.242854750018e-4,0,1.96062358817868e-4,4.28249410891479e-6,4.15264979644378e-4,9.08559254457753e-4,0.00311386672316648,0.00125412230146026,0.00350442267218511,0.0119470108809315,3.9271074909484e-4,0.0165218899916378,0.0118384349467516,0.00841237890338604,0.0187036411824131,0.0208926477099933,0.0316316164608206,0.0217969254788777,0.0131580751291312,0.0260744586451517,0.00751283035402339,0.00251783813014406,0.018181406447714,0.0201235268762918,0,0,0,2.60219507531925e-5,3.57025327925309e-6,3.65257499693183e-5,0.00609635350549118,0.00147046986486861,0.00649089960263479,0.00318635489750932,0.0120837795828248,0.0281247862273949,0.00626609295810505,0.0179502529676383,0.0453124534777645,0.0428121618356606,0.0590918477874231,0.0598995288156473,0.0434846787737267,0.0428371451166026,0.0448470689956356,0.0720325794293788,0.0167748057768972,0.0181596574815667,0.0338907946154029,0.0250545264482979,0.0154014592985732,0,0,0,4.07108640723195e-4,4.04145758826694e-4,0.00374697649294384,0.00178194973110996,0.00469065326204923,0.00690648066702507,0.0120977332486632,0.0295637417934912,0.0480063716581269,0.0539009793943716,0.0930731309365574,0.148513400157771,0.14691986712567,0.169006565546489,0.240354389352708,0.233269933229952,0.262337680503736,0.17012560752419,0.199002532497787,0.12268813167154,0.0899236516836904,0.0746010373817355,0.0333093077479894,0.0556662005540087,0,0,3.77417533460753e-4,1.13381515748565e-5,1.44637567771832e-4,0.00477171588597944,0.0157786602523229,0.0278083958310899,0.15961188953623,0.261932812731934,0.461450050411124,0.882330480980677,1.19759862972053,1.83730472860166,2.07134196398859,2.71672281469057,2.75184206074782,3.16909957905881,3.09555990390865,2.80183099452579,2.41203059750136,1.49755590256238,1.10084158108172,0.683518053346638,0.385932740354322,0.244533041765075,0.211926974026936,0,0,5.51479557156547e-4,0.0091425447300077,0.101535297356649,0.49102377337955,1.81689776450048,5.08285856393054,11.0241598272904,19.8565979998124,31.7335512023966,45.2518026943175,59.2483957898433,69.7423252659678,78.0641504059071,82.1927399189918,79.4785942887294,75.2311012197976,68.6167654463685,55.201092908165,38.127149116552,23.6048428186075,13.0700066500154,6.73621600604661,3.40059709689311,1.70967329175132,0.790564479854704,0,0,5.24930284955677e-5,1.18349623656332e-4,0.0013335312072955,0.00887534026754366,0.0123853759686533,0.0320907229904907,0.142364035818313,0.230004993117125,0.479466508693757,0.799949696183966,1.13450040258522,1.67512516189101,2.3761498636395,2.56566218054691,2.91610865794138,3.38230612712574,3.3092498935636,2.63846420042761,2.37111362259132,1.79595288154312,1.09619747867921,0.695344317731727,0.428115507054672,0.223492190444669,0.288630358538441,0,0,1.29707114077567e-5,3.7719090794793e-5,7.73562573367845e-6,1.21633531716837e-4,0.00452322512842879,0.00222877047706665,0.00869823383679129,0.00821250458264429,0.0273986480370014,0.041281717602205,0.0618186066614963,0.112533919715541,0.102730918822943,0.145960700355456,0.213768321108783,0.279792480297951,0.293929319613155,0.277305158786906,0.199741391858799,0.178756063374888,0.112740683810727,0.0937346946527642,0.0648516076304389,0.0382874710517594,0.049931505276148,0,0,1.12675239167071e-4,0.00120762403276542,0,2.66356427580952e-4,5.29016328823448e-5,0.00113909328396205,6.10685611338355e-4,0.00412576592601899,0.0104676795005121,0.00383052693302317,0.0043202804453845,0.00520371214517023,0.00557493962090019,0.0125974339843323,0.0256054094162,0.0321719832997025,0.0230782330726976,0.022293465661747,0.0296355808134283,0.0330223996502936,0.0302094512489091,0.021023219819128,0.020471520564327,0.00441331273232316,0.0177699892203761,0,0,0,0.00248173964877143,1.060197410091e-5,0.00338023530119932,0.00169029336679644,5.11436470153219e-4,8.93380124981107e-4,0.00278038875817757,0.00286706775000819,2.86642140597614e-4,7.93823342210264e-4,0.00438899286384018,0.00140313459127594,0.00155995144200908,0.0173455498840164,0.00958179495175285,0.00228287240001232,0.0090669712819578,0.00795486838545559,0.0081473182510282,0.00470596879795261,0.0120888340229317,0.006045394873164,0.0133202609050532,0.00554540010768841,0,0,3.1656595352595e-5,0,1.48654871752103e-4,0.00107283499306229,4.67275784118738e-5,5.18793772999147e-5,2.51497052903338e-4,1.94359625729846e-4,6.95710294928986e-9,0.00139438581692678,0.00234721939101114,2.37530660566199e-5,7.8691977879967e-4,0.00375287945704734,0.00289719877513063,0.00128455582554608,0.00315029222080606,0.00497944004791183,0.00179366250895323,0.0112092425633307,0.00516041171461289,1.6221947473657e-4,0.0013390763300692,0.00232122374875,0.00417821602268743,0,0,0,4.62285774400564e-5,0,4.34605978203759e-4,2.83302472765552e-4,0.0014470934363708,0.00333786496280807,0.00100377886136977,9.12004750004344e-5,5.52740932824008e-4,8.59939311203583e-5,8.59643231030521e-6,7.24025660846415e-4,2.31717341725238e-4,0.00182551084660433,0.0059246567482509,7.36364870909886e-4,0.00218318786893647,0.00689322744678601,0.00330831934552149,2.93848089061299e-6,4.01240442707266e-4,0.00112023385995066,0.00134436479286949,0.0063196953660347,0,0,5.00748750719648e-4,0,0,1.89464621283306e-4,6.61624618840759e-4,5.68193121451607e-4,3.24986164661907e-4,1.07308972977851e-5,1.16774478921625e-4,5.69604737687881e-4,1.7217731578751e-4,1.88337661575534e-4,8.9218517125525e-5,7.19808899342395e-4,0.00270430704454599,4.45098420120256e-4,0.00124084689046827,0.00432939188561039,7.31763292524503e-5,0.00141354920330242,8.67158316241287e-4,0.00167016000415741,1.32101947905198e-4,0.00321658659944574,1.89614458356898e-4,0,0,1.89423073462813e-7,4.14570060491611e-4,0.0070450476125269,0.0388100803356175,0.0380075658213321,0.00425269534315108,0.00255794218227239,6.03740139357824e-5,2.10826177029083e-5,0,3.18860198939008e-6,0.00349198299914639,1.83166222065267e-5,1.21023767207795e-6,5.88998980593863e-4,0.00446674172442127,0.00533093611113174,1.43726304078162e-4,0.00243123408099555,1.21924008125739e-4,2.09180574406522e-4,5.3404655156419e-4,0.00123972232317288,3.66709804223986e-8,0.00315264094988072,0,0,0,0,0,4.07152286845958e-5,2.8911430050016e-7,2.66414553357075e-6,0,2.34944166103195e-4,0.0244765102733059,1.90565138954712e-5,7.77059865013641e-5,1.10900695694804e-6,0,0,1.1908460837444e-4,0.00249133174240129,0,0.00144220074118614,0.00214193618980463,1.24040609651016e-6,7.16354756147473e-4,4.56520086793352e-5,2.71974309304646e-5,1.90405185021732e-5,2.15917662183554e-4,0,0,0,0,0,0,0,0,0,2.06681574233467e-5,2.35891291536922e-5,3.08143049105716e-4,5.44097853577563e-8,0,0,9.16135140987512e-4,5.37921268833744e-4,0,0,3.23579775417665e-5,0,5.25040561022011e-5,0.0101210543209426,1.26813823581845e-4,2.11598949570457e-5,0,6.71530089303013e-7,0,0,0.00233194799697154,1.50438962352399e-4,0,0,0,0.00217917823993825,2.90453728460476e-5,0.00238009870961212,3.70361641822844e-4,1.53746222076145e-4,3.70633852697644e-6,0,1.70341132710305e-5,2.30624854540618e-4,1.16993721869074e-4,0.0260435966798445,2.26356788899928e-5,5.03757289042617e-5,3.88615190027863e-9,0.0246229678078144,9.85044801496762e-6,0,0,2.15327696359326e-4,0.0251593405884073,0,0,0.00144144257381235,6.27747471946861e-5,0,3.03579213921379e-5,0,1.22655404255489e-6,9.44393589111072e-4,0.0106906947985059,0.0223623251748354,0.0301159601311624,0.0108980075641199,0.00144322771551932,0.00224710973901651,0.00277490995733401,0.00261928138613866,0.00216072637879401,0.0012574667766347,7.85483433842507e-4,1.28005848421806e-4,4.48398192149032e-4,3.38651959322644e-5,6.11550646584386e-5,6.14035365575916e-6,2.05465192965212e-4,2.91933048047051e-4,0,0,0,0,0,0,0,0,0,0,0,0,0,0,0,0,0,0,0,0,0,0,0,0,0,0,0,0],\"fOption\":\"\",\"fFunctions\":{\"_typename\":\"TList\",\"name\":\"TList\",\"arr\":[{\"_typename\":\"TPaletteAxis\",\"fUniqueID\":0,\"fBits\":50331648,\"fLineColor\":1,\"fLineStyle\":1,\"fLineWidth\":1,\"fFillColor\":1178,\"fFillStyle\":1001,\"fX1\":25.1562500023283,\"fY1\":0,\"fX2\":26.5625000232831,\"fY2\":25,\"fX1NDC\":0.904999994039535,\"fY1NDC\":0.100000005960465,\"fX2NDC\":0.949999994039535,\"fY2NDC\":0.899999994039535,\"fBorderSize\":4,\"fInit\":1,\"fShadowColor\":1,\"fCornerRadius\":0,\"fOption\":\"br\",\"fName\":\"TPave\",\"fAxis\":{\"_typename\":\"TGaxis\",\"fUniqueID\":0,\"fBits\":50331648,\"fLineColor\":1,\"fLineStyle\":1,\"fLineWidth\":1,\"fX1\":0,\"fY1\":0,\"fX2\":0,\"fY2\":0,\"fTextAngle\":0,\"fTextSize\":0.04,\"fTextAlign\":11,\"fTextColor\":1,\"fTextFont\":42,\"fWmin\":0,\"fWmax\":0,\"fGridLength\":0,\"fTickSize\":0.03,\"fLabelOffset\":0.005,\"fLabelSize\":0.035,\"fTitleOffset\":1,\"fTitleSize\":0.035,\"fNdiv\":0,\"fLabelColor\":1,\"fLabelFont\":42,\"fNModLabs\":0,\"fChopt\":\"\",\"fName\":\"\",\"fTitle\":\"\",\"fTimeFormat\":\"\",\"fFunctionName\":\"\",\"fModLabs\":null},\"fName\":\"palette\"},{\"_typename\":\"TPaveStats\",\"fUniqueID\":0,\"fBits\":50331657,\"fLineColor\":1,\"fLineStyle\":1,\"fLineWidth\":1,\"fFillColor\":0,\"fFillStyle\":1001,\"fX1\":21.2500006332994,\"fY1\":18.5937503329478,\"fX2\":27.5000008195639,\"fY2\":26.0937502770685,\"fX1NDC\":0.780000016093254,\"fY1NDC\":0.695000007748604,\"fX2NDC\":0.980000019073486,\"fY2NDC\":0.935000002384186,\"fBorderSize\":1,\"fInit\":1,\"fShadowColor\":1,\"fCornerRadius\":0,\"fOption\":\"brNDC\",\"fName\":\"stats\",\"fTextAngle\":0,\"fTextSize\":0,\"fTextAlign\":12,\"fTextColor\":1,\"fTextFont\":42,\"fLabel\":\"\",\"fLongest\":18,\"fMargin\":0.05,\"fLines\":{\"_typename\":\"TList\",\"name\":\"TList\",\"arr\":[{\"_typename\":\"TLatex\",\"fUniqueID\":0,\"fBits\":50331648,\"fName\":\"\",\"fTitle\":\"htrue\",\"fTextAngle\":0,\"fTextSize\":0.0368,\"fTextAlign\":0,\"fTextColor\":0,\"fTextFont\":0,\"fX\":0,\"fY\":0,\"fLineColor\":1,\"fLineStyle\":1,\"fLineWidth\":2,\"fLimitFactorSize\":3,\"fOriginSize\":0.0368000008165836},{\"_typename\":\"TLatex\",\"fUniqueID\":0,\"fBits\":50331648,\"fName\":\"\",\"fTitle\":\"Entries = 625000 \",\"fTextAngle\":0,\"fTextSize\":0,\"fTextAlign\":0,\"fTextColor\":0,\"fTextFont\":0,\"fX\":0,\"fY\":0,\"fLineColor\":1,\"fLineStyle\":1,\"fLineWidth\":2,\"fLimitFactorSize\":3,\"fOriginSize\":0.04},{\"_typename\":\"TLatex\",\"fUniqueID\":0,\"fBits\":50331648,\"fName\":\"\",\"fTitle\":\"Mean x =  14.36\",\"fTextAngle\":0,\"fTextSize\":0,\"fTextAlign\":0,\"fTextColor\":0,\"fTextFont\":0,\"fX\":0,\"fY\":0,\"fLineColor\":1,\"fLineStyle\":1,\"fLineWidth\":2,\"fLimitFactorSize\":3,\"fOriginSize\":0.04},{\"_typename\":\"TLatex\",\"fUniqueID\":0,\"fBits\":50331648,\"fName\":\"\",\"fTitle\":\"Mean y =  12.45\",\"fTextAngle\":0,\"fTextSize\":0,\"fTextAlign\":0,\"fTextColor\":0,\"fTextFont\":0,\"fX\":0,\"fY\":0,\"fLineColor\":1,\"fLineStyle\":1,\"fLineWidth\":2,\"fLimitFactorSize\":3,\"fOriginSize\":0.04},{\"_typename\":\"TLatex\",\"fUniqueID\":0,\"fBits\":50331648,\"fName\":\"\",\"fTitle\":\"Std Dev x =  4.635\",\"fTextAngle\":0,\"fTextSize\":0,\"fTextAlign\":0,\"fTextColor\":0,\"fTextFont\":0,\"fX\":0,\"fY\":0,\"fLineColor\":1,\"fLineStyle\":1,\"fLineWidth\":2,\"fLimitFactorSize\":3,\"fOriginSize\":0.04},{\"_typename\":\"TLatex\",\"fUniqueID\":0,\"fBits\":50331648,\"fName\":\"\",\"fTitle\":\"Std Dev y =  1.532\",\"fTextAngle\":0,\"fTextSize\":0,\"fTextAlign\":0,\"fTextColor\":0,\"fTextFont\":0,\"fX\":0,\"fY\":0,\"fLineColor\":1,\"fLineStyle\":1,\"fLineWidth\":2,\"fLimitFactorSize\":3,\"fOriginSize\":0.04}],\"opt\":[\"\",\"\",\"\",\"\",\"\",\"\"]},\"fOptFit\":0,\"fOptStat\":1111,\"fFitFormat\":\"5.4g\",\"fStatFormat\":\"6.4g\",\"fParent\":{\"$ref\":27}}],\"opt\":[\"br\",\"brNDC\"]},\"fBufferSize\":0,\"fBuffer\":[],\"fBinStatErrOpt\":0,\"fStatOverflows\":2,\"fScalefactor\":1,\"fTsumwy\":59992.7384968447,\"fTsumwy2\":758333.980640658,\"fTsumwxy\":860766.033387418,\"fArray\":[0,0,0,0,0,0,0,0,0,0,0,0,0,0,0,0,0,0,0,0,0,0,0,0,0,0,0,0,0.0262480014935136,0,0.037822961807251,0,0,0,0,0,0,0,0,0,0,0,0,0,0,0,0,0,0.0019092746078968,0.0289821401238441,0.0136810820549726,0.141955542843789,0.0951837901957333,0,0,0.0258371415548027,0,0.00510184839367867,0,0,0.0419006105512381,0.0649960851296782,0,0.134410913102329,0,0.00602734833955765,0.0624597780406475,0.0447091236710548,0.638365797698498,0.194473039358854,0.473946738988161,0.284893188625574,0.025314599275589,0.014747504144907,0.994230784475803,0.00929879210889339,3.74764204025269e-6,0,0,0.00266191922128201,0,0,0.0522286291234195,0,0,0,0,0.00866683572530746,0,4.63254749774933e-4,0.0227904673665762,0,0,0,0,0.0740291140973568,0.0147646181285381,0.518773026764393,0.202925838530064,0.0132909789681435,0.0110751148313284,0,0.0851882137358189,0.104747654870152,0,0.0131135862320662,0.0021190382540226,0,0,0,7.9735554754734e-4,0.012252701446414,0.0223950110375881,0,0.0111192166805267,0.0154304457828403,9.4980001449585e-4,0.0387229416519403,0,0.0556115312501788,0.00821232795715332,0.0351990200579166,0.0960424058139324,0.0208107903599739,1.3328493796289,0.0771474614739418,0.0847139991819859,0,1.80722319101915,0.530895662494004,0,0.00333118624985218,0.0481379516422749,0.799440931528807,0,0,0,0.00818642042577267,0,0.00392114371061325,0.00923728197813034,0,0.149396434426308,0,0.0386171154677868,0,0.069590400904417,0,1.05863511003554,0.119420658797026,0.0840050037950277,1.984060684219,0.471426134929061,0.108710007742047,0.00555223040282726,1.79924761503935,0,0.294234469532967,0.533638663589954,0.327476270496845,1.30730577465147,0,0,0,0.43497437145561,0,0.0275896638631821,0.0405196622014046,0,0.155367637984455,0.166281891055405,1.30161567870528,0,0.987676815595478,3.40450555086136e-4,0.540677033364773,0.0112529136240482,0.00430634990334511,0.624153951182961,0.117716612294316,2.10609620250762,2.08221186697483,0.0184043608605862,1.8161363825202,0.102439392358065,0.0341936126351357,0.0505428109318018,0.733113151043653,0,0,0.00403237342834473,0.147699814289808,0.00243280827999115,0.356911823153496,0.0240555722266436,0.138249037787318,0.124770687893033,0.315440457314253,0.0363269429653883,0.377135399729013,0.899133482947946,0.599804434925318,1.96900666505098,2.39005025103688,2.09319198876619,1.3174015711993,1.94001777563244,1.36887728329748,0.297361379489303,1.66148560214788,1.67124826367944,1.22867994103581,0.509116303175688,0.97482590470463,0.960444023832679,0,0,0,0.00587255600839853,0.0115267746150494,0.0609359182417393,0.0861553363502026,0.0396722368896008,0.491474043577909,0.316349234431982,0.53377481829375,1.2590721976012,0.166344485245645,1.56379348784685,0.192676439881325,1.05439431592822,2.53258170746267,2.87673898413777,2.70774207543582,1.03279401408508,3.24600178131368,2.96809218684211,0.420291356742382,1.20093843434006,1.09243883844465,0.708315608091652,1.3978433161974,0,0,3.53414565324783e-4,0.0432786624878645,0,0.116382334381342,0.00271350890398026,0.149917986243963,0.271559929475188,0.970683936029673,0.49237659573555,0.966650017537177,2.25436983723193,0.180901990272105,2.54524276778102,2.21908280439675,1.88425228558481,2.69659270904958,2.90027996338904,3.72523531038314,3.17095390101895,2.00607299618423,3.85107931122184,1.78822836838663,0.404169026762247,2.49497375078499,2.93716631922871,0,0,0,0.0134525969624519,0.00365648046135902,0.0196516886353493,1.20318118669093,0.468312602490187,1.29981284029782,0.874804606661201,2.27351333759725,2.91320715285838,1.76073837745935,2.61500693485141,4.65584241040051,4.87292579188943,5.30469811428338,6.32888031471521,5.44313952466473,4.60299551836215,5.227839484578,7.16418970329687,2.28841655817814,2.85861076461151,4.07173072546721,3.92936021555215,2.74949161428958,0,0,0,0.13050490245223,0.0847032647579908,0.791711717844009,0.564688593149185,1.18995242938399,1.52512745559216,2.34808623045683,3.87305061519146,6.09546643309295,5.89273319207132,7.90180542226881,9.88887376897037,9.81258988007903,11.0852355239913,12.5390784619376,12.6594943543896,13.0988343348727,11.0648981053382,11.9521438153461,8.84176469873637,7.0006305668503,6.28862130083144,3.98933623870835,5.50646471278742,0,0,0.0651300884783268,0.00524576753377914,0.0727471401914954,1.20866400375962,2.42555752117187,3.54220387432724,9.94560707733035,14.533351267688,18.6006906814873,24.5876112580299,29.9507894329727,36.8579924860969,39.7768807411194,43.8763149101287,45.8159754127264,48.1543198758736,47.8582465955988,44.6524808518589,40.4750825688243,32.2519073570147,26.9135454632342,21.1939327456057,15.7316753072664,11.9462771108374,9.62833474157378,0,0,0.166101263836026,1.79123412165791,8.31697915494442,19.5482134409249,36.3826493425295,62.7608269490302,91.8089519012719,123.18379669264,157.444697061554,186.681920345873,213.969628311694,232.92772477679,242.928508611396,249.333115259185,243.885439202189,235.610589992255,223.638389595784,195.239709857851,159.460906188935,122.659117687494,89.53995590657,63.4202601350844,44.1786531582475,28.9197524832562,23.2055789949372,0,0,0.0116715170443058,0.0222136825323105,0.423810580745339,1.70954179391265,2.17895888164639,4.30173099972308,9.26645936630666,12.1423647310585,18.7185930460691,24.5704862270504,28.9951130915433,35.3941041044891,40.4774490110576,45.3487637639046,45.998640710488,49.61098186858,48.6798484418541,43.4363433942199,42.0315057709813,34.9629778135568,27.9240682609379,20.3936278373003,16.4069656925276,11.7662128508091,12.4726560367271,0,0,0.00404325313866138,0.0185632584616542,0.00426616705954075,0.0548533741384745,0.81020475178957,0.605948638170958,1.93485620617867,1.7666233307682,3.58509821118787,4.89828043570742,5.6851518494077,8.11481621558778,7.6830722456798,9.62609249632806,11.3433515033685,12.7256143749692,13.6666954522952,13.9747957526706,11.9708382431418,10.7824891731143,8.14906247612089,7.01323538925499,6.46159760188311,4.19348332472146,5.45321028470062,0,0,0.0156596023589373,0.216866999864578,0,0.0933871902525425,0.0327487401664257,0.316774697043002,0.26945866830647,0.737599526531994,1.71447898913175,0.855896174907684,1.15204040938988,1.20475498493761,1.14889240311459,2.51118655642495,3.28720056032762,3.50838515721262,3.61255208263174,3.3942580204457,3.9173221741803,3.91292200889438,3.89418864808977,2.96291448641568,3.04555826960132,1.31351816654205,3.08116914518178,0,0,0,0.420038832351565,0.00366584211587906,0.454494521021843,0.349891409277916,0.170815274119377,0.266619595699012,0.541430655866861,0.543380765244365,0.0704363854601979,0.0791418449953198,0.749913081526756,0.322317976038903,0.36236912291497,2.19214616669342,1.56175609584898,0.712448412086815,1.67102551972494,1.75717203738168,1.6268552695401,0.974035610444844,1.58304342953488,1.30207763053477,2.24007267132401,1.28277427516878,0,0,0.0118535663932562,0,0.0451787281781435,0.360410209745169,0.0299956742674112,0.0110213328152895,0.0674702674150467,0.103442531079054,8.34092497825623e-5,0.417508326470852,0.699776300694793,0.0120963230729103,0.273316810140386,0.764234729111195,0.655689157312736,0.427835636772215,0.749743107240647,1.13195061124861,0.654095866018906,2.39609775552526,1.25437964312732,0.0885889111086726,0.556695383042097,0.754202846437693,1.31914929952472,0,0,0,0.0163046158850193,0,0.0985820181667805,0.0953983161598444,0.3700478579849,0.522108282893896,0.310320530086756,0.0395405180752277,0.0887278243899345,0.0664825392886996,0.00524793937802315,0.247244622558355,0.0344939939677715,0.467771092429757,1.18310498073697,0.240866551175714,0.774146396666765,1.81491504237056,1.01658400520682,0.00171419978141785,0.241895231418312,0.437188166892156,0.509743688162416,1.32021199841984,0,0,0.0705723389983177,0,0,0.0727531407028437,0.163904691115022,0.170945439487696,0.14116376452148,0.0102494359016418,0.0537699731066823,0.234384534880519,0.0574784092605114,0.0533745363354683,0.0639928989112377,0.221698597073555,0.657873107120395,0.130109339952469,0.401468183845282,1.19261635839939,0.0513178119435906,0.585617417469621,0.323728143237531,0.728479947894812,0.100523239001632,0.747541853226721,0.104562264867127,0,0,6.1531737446785e-4,0.0669356565922499,0.404659707099199,1.14809773862362,1.09618296474218,0.227175444364548,0.200928575359285,0.0179606629535556,0.00908536836504936,0,0.00243105739355087,0.626073135994375,0.00427979230880737,0.00110010802745819,0.0887010619044304,0.822622742503881,0.955936390906572,0.0591842010617256,0.690526743419468,0.0641678422689438,0.12470762245357,0.281238252297044,0.252027740702033,1.91496685147285e-4,0.9891840624623,0,0,0,0,0,0.0063808485865593,5.37693500518799e-4,0.00163222104310989,0,0.0571229532361031,1.18450979888439,0.0110564380884171,0.0186249613761902,0.00163811072707176,0,0,0.0307340584695339,0.495607495307922,0,0.251440234482288,0.458871009759605,0.00119889155030251,0.183370586484671,0.0271003618836403,0.0187205523252487,0.0101977381855249,0.0710022337734699,0,0,0,0,0,0,0,0,0,0.00852704793214798,0.00786393508315086,0.0355363227427006,2.33259052038193e-4,0,0,0.0553793609142303,0.0423659272491932,0,0,0.0143568404018879,0,0.0106326006352901,0.982967952266335,0.0243779271841049,0.00859398394823074,0,9.80576500296593e-4,0,0,0.526697647757828,0.0249041756615043,0,0,0,0.197067707777023,0.0123860631138086,0.278340776450932,0.0783022008836269,0.0412999168038368,0.00192518532276154,0,0.00522038340568542,0.0296369194984436,0.0170923098921776,2.50388107448816,0.00951086729764938,0.0124643370509148,6.23390078544617e-5,2.83050655946136,0.00500229559838772,0,0,0.101260583847761,2.17667203210294,0,0,0.143768774345517,0.0127359908074141,0,0.00909305363893509,0,0.00110749900341034,0.0986610865220428,0.544865672010928,0.887002810835838,1.01627077162266,0.496979620307684,0.0698953531682491,0.0854406803846359,0.0815191939473152,0.0890961028635502,0.0741501413285732,0.036514837294817,0.0349897183477879,0.0157986097037792,0.0862167235463858,0.011455126106739,0.00782017037272453,0.0024779736995697,0.0430383067578077,0.0501274364069104,0,0,0,0,0,0,0,0,0,0,0,0,0,0,0,0,0,0,0,0,0,0,0,0,0,0,0,0]},{\"_typename\":\"TPaveText\",\"fUniqueID\":0,\"fBits\":50331657,\"fLineColor\":1,\"fLineStyle\":1,\"fLineWidth\":1,\"fFillColor\":0,\"fFillStyle\":0,\"fX1\":2.87289770658535,\"fY1\":26.0230568197585,\"fX2\":22.1271022934147,\"fY2\":27.968750379514,\"fX1NDC\":0.191932731201292,\"fY1NDC\":0.932737811783975,\"fX2NDC\":0.808067268798708,\"fY2NDC\":0.995000004768372,\"fBorderSize\":0,\"fInit\":1,\"fShadowColor\":1,\"fCornerRadius\":0,\"fOption\":\"blNDC\",\"fName\":\"title\",\"fTextAngle\":0,\"fTextSize\":0,\"fTextAlign\":22,\"fTextColor\":1,\"fTextFont\":42,\"fLabel\":\"\",\"fLongest\":24,\"fMargin\":0.05,\"fLines\":{\"_typename\":\"TList\",\"name\":\"TList\",\"arr\":[{\"_typename\":\"TLatex\",\"fUniqueID\":0,\"fBits\":50331648,\"fName\":\"\",\"fTitle\":\"generated shower profile\",\"fTextAngle\":0,\"fTextSize\":0,\"fTextAlign\":0,\"fTextColor\":0,\"fTextFont\":0,\"fX\":0,\"fY\":0,\"fLineColor\":1,\"fLineStyle\":1,\"fLineWidth\":2,\"fLimitFactorSize\":3,\"fOriginSize\":0.0529228635132313}],\"opt\":[\"\"]}}],\"opt\":[\"\",\"COLZ\",\"blNDC\"]},\"fExecs\":{\"_typename\":\"TList\",\"name\":\"TList\",\"arr\":[],\"opt\":[]},\"fName\":\"c1_2\",\"fTitle\":\"c1_2\",\"fNumPaletteColor\":0,\"fNextPaletteColor\":0}],\"opt\":[\"\",\"\"]},\"fExecs\":null,\"fName\":\"c1\",\"fTitle\":\"\",\"fNumPaletteColor\":0,\"fNextPaletteColor\":0,\"fDISPLAY\":\"$DISPLAY\",\"fDoubleBuffer\":0,\"fRetained\":true,\"fXsizeUser\":0,\"fYsizeUser\":0,\"fXsizeReal\":20,\"fYsizeReal\":10,\"fWindowTopX\":0,\"fWindowTopY\":0,\"fWindowWidth\":0,\"fWindowHeight\":0,\"fCw\":996,\"fCh\":472,\"fCatt\":{\"_typename\":\"TAttCanvas\",\"fXBetween\":2,\"fYBetween\":2,\"fTitleFromTop\":1.2,\"fXdate\":0.2,\"fYdate\":0.3,\"fAdate\":1},\"kMoveOpaque\":true,\"kResizeOpaque\":true,\"fHighLightColor\":2,\"fBatch\":true,\"kShowEventStatus\":false,\"kAutoExec\":true,\"kMenuBar\":true});\n",
       "       Core.draw(\"root_plot_1\", obj, \"\");\n",
       "     }\n",
       " );\n",
       "</script>\n"
      ],
      "text/plain": [
       "<IPython.core.display.HTML object>"
      ]
     },
     "metadata": {},
     "output_type": "display_data"
    }
   ],
   "source": [
    "c = ROOT.TCanvas(\"c1\",\"\",1000,500)\n",
    "c.Divide(2,1)\n",
    "c.cd(1)\n",
    "\n",
    "maxval = max(htrueXY.GetMaximum(), hgenXY.GetMaximum())\n",
    "htrueXY.SetMaximum(maxval)\n",
    "htrueXY.Draw(\"COLZ\")\n",
    "\n",
    "c.cd(2)\n",
    "#set same scale as previous histogram                   \n",
    "hgenXY.SetMaximum(maxval)\n",
    "hgenXY.Draw(\"COLZ\")\n",
    "\n",
    "c.Draw()\n"
   ]
  },
  {
   "cell_type": "markdown",
   "metadata": {},
   "source": [
    "### DIsplay image profile projections in the two coordinates "
   ]
  },
  {
   "cell_type": "code",
   "execution_count": 28,
   "metadata": {},
   "outputs": [
    {
     "data": {
      "text/html": [
       "\n",
       "<div id=\"root_plot_2\"\n",
       "     style=\"width: 996px; height: 472px\">\n",
       "</div>\n",
       "\n",
       "<script>\n",
       " requirejs.config({\n",
       "     paths: {\n",
       "       'JSRootCore' : 'https://root.cern.ch/js/notebook//scripts/JSRootCore',\n",
       "     }\n",
       "   });\n",
       " require(['JSRootCore'],\n",
       "     function(Core) {\n",
       "       var obj = Core.JSONR_unref({\"_typename\":\"TCanvas\",\"fUniqueID\":0,\"fBits\":53673992,\"fLineColor\":1,\"fLineStyle\":1,\"fLineWidth\":1,\"fFillColor\":0,\"fFillStyle\":1001,\"fLeftMargin\":0.1,\"fRightMargin\":0.1,\"fBottomMargin\":0.1,\"fTopMargin\":0.1,\"fXfile\":2,\"fYfile\":2,\"fAfile\":1,\"fXstat\":0.99,\"fYstat\":0.99,\"fAstat\":2,\"fFrameFillColor\":0,\"fFrameLineColor\":1,\"fFrameFillStyle\":1001,\"fFrameLineStyle\":1,\"fFrameLineWidth\":1,\"fFrameBorderSize\":1,\"fFrameBorderMode\":0,\"fX1\":0,\"fY1\":0,\"fX2\":1,\"fY2\":1,\"fXtoAbsPixelk\":5e-5,\"fXtoPixelk\":5e-5,\"fXtoPixel\":996,\"fYtoAbsPixelk\":472.00005,\"fYtoPixelk\":472.00005,\"fYtoPixel\":-472,\"fUtoAbsPixelk\":5e-5,\"fUtoPixelk\":5e-5,\"fUtoPixel\":996,\"fVtoAbsPixelk\":472.00005,\"fVtoPixelk\":472,\"fVtoPixel\":-472,\"fAbsPixeltoXk\":0,\"fPixeltoXk\":0,\"fPixeltoX\":0.00100401606425703,\"fAbsPixeltoYk\":1,\"fPixeltoYk\":0,\"fPixeltoY\":-0.00211864406779661,\"fXlowNDC\":0,\"fYlowNDC\":0,\"fXUpNDC\":0,\"fYUpNDC\":0,\"fWNDC\":1,\"fHNDC\":1,\"fAbsXlowNDC\":0,\"fAbsYlowNDC\":0,\"fAbsWNDC\":1,\"fAbsHNDC\":1,\"fUxmin\":0,\"fUymin\":0,\"fUxmax\":1,\"fUymax\":1,\"fTheta\":30,\"fPhi\":30,\"fAspectRatio\":0,\"fNumber\":0,\"fTickx\":0,\"fTicky\":0,\"fLogx\":0,\"fLogy\":0,\"fLogz\":0,\"fPadPaint\":0,\"fCrosshair\":0,\"fCrosshairPos\":0,\"fBorderSize\":2,\"fBorderMode\":0,\"fModified\":false,\"fGridx\":false,\"fGridy\":false,\"fAbsCoord\":false,\"fEditable\":true,\"fFixedAspectRatio\":false,\"fPrimitives\":{\"_typename\":\"TList\",\"name\":\"TList\",\"arr\":[{\"_typename\":\"TPad\",\"fUniqueID\":0,\"fBits\":50331657,\"fLineColor\":1,\"fLineStyle\":1,\"fLineWidth\":1,\"fFillColor\":0,\"fFillStyle\":1001,\"fLeftMargin\":0.1,\"fRightMargin\":0.1,\"fBottomMargin\":0.1,\"fTopMargin\":0.1,\"fXfile\":2,\"fYfile\":2,\"fAfile\":1,\"fXstat\":0.99,\"fYstat\":0.99,\"fAstat\":2,\"fFrameFillColor\":0,\"fFrameLineColor\":1,\"fFrameFillStyle\":1001,\"fFrameLineStyle\":1,\"fFrameLineWidth\":1,\"fFrameBorderSize\":1,\"fFrameBorderMode\":0,\"fX1\":-3.12500023283066,\"fY1\":-1.57452408383799,\"fX2\":28.1250002328307,\"fY2\":4.33371308591414,\"fXtoAbsPixelk\":57.7680526714803,\"fXtoPixelk\":47.8080528941037,\"fXtoPixel\":15.2985597862816,\"fYtoAbsPixelk\":344.009463697595,\"fYtoPixelk\":339.289463803096,\"fYtoPixel\":-78.2906960098229,\"fUtoAbsPixelk\":9.96004977737665,\"fUtoPixelk\":5e-5,\"fUtoPixel\":478.080000445247,\"fVtoAbsPixelk\":467.2800501055,\"fVtoPixelk\":462.560000211,\"fVtoPixel\":-462.560000211,\"fAbsPixeltoXk\":-3.77604189404036,\"fPixeltoXk\":-3.12500023283066,\"fPixeltoX\":0.0653656300965476,\"fAbsPixeltoYk\":4.39400121892432,\"fPixeltoYk\":-1.57452408383799,\"fPixeltoY\":-0.0127729098215519,\"fXlowNDC\":0.00999999977648258,\"fYlowNDC\":0.00999999977648258,\"fXUpNDC\":0,\"fYUpNDC\":0,\"fWNDC\":0.480000000447035,\"fHNDC\":0.980000000447035,\"fAbsXlowNDC\":0.00999999977648258,\"fAbsYlowNDC\":0.00999999977648258,\"fAbsWNDC\":0.480000000447035,\"fAbsHNDC\":0.980000000447035,\"fUxmin\":0,\"fUymin\":-0.983700331646936,\"fUxmax\":25,\"fUymax\":3.74288933372309,\"fTheta\":30,\"fPhi\":30,\"fAspectRatio\":0,\"fNumber\":1,\"fTickx\":0,\"fTicky\":0,\"fLogx\":0,\"fLogy\":1,\"fLogz\":0,\"fPadPaint\":0,\"fCrosshair\":0,\"fCrosshairPos\":0,\"fBorderSize\":2,\"fBorderMode\":0,\"fModified\":false,\"fGridx\":false,\"fGridy\":false,\"fAbsCoord\":false,\"fEditable\":true,\"fFixedAspectRatio\":false,\"fPrimitives\":{\"_typename\":\"TList\",\"name\":\"TList\",\"arr\":[{\"_typename\":\"TFrame\",\"fUniqueID\":0,\"fBits\":50331656,\"fLineColor\":1,\"fLineStyle\":1,\"fLineWidth\":1,\"fFillColor\":0,\"fFillStyle\":1001,\"fX1\":0,\"fY1\":-0.983700331646936,\"fX2\":25,\"fY2\":3.74288933372309,\"fBorderSize\":1,\"fBorderMode\":0},{\"_typename\":\"THStack\",\"fUniqueID\":0,\"fBits\":50331656,\"fName\":\"hs1\",\"fTitle\":\"Transverse shower profile\",\"fHists\":{\"_typename\":\"TList\",\"name\":\"TList\",\"arr\":[{\"_typename\":\"TH1D\",\"fUniqueID\":0,\"fBits\":50331656,\"fName\":\"htruex\",\"fTitle\":\"real images\",\"fLineColor\":602,\"fLineStyle\":1,\"fLineWidth\":1,\"fFillColor\":0,\"fFillStyle\":1001,\"fMarkerColor\":1,\"fMarkerStyle\":1,\"fMarkerSize\":1,\"fNcells\":27,\"fXaxis\":{\"_typename\":\"TAxis\",\"fUniqueID\":0,\"fBits\":50331648,\"fName\":\"xaxis\",\"fTitle\":\"\",\"fNdivisions\":510,\"fAxisColor\":1,\"fLabelColor\":1,\"fLabelFont\":42,\"fLabelOffset\":0.005,\"fLabelSize\":0.035,\"fTickLength\":0.03,\"fTitleOffset\":1,\"fTitleSize\":0.035,\"fTitleColor\":1,\"fTitleFont\":42,\"fNbins\":25,\"fXmin\":0,\"fXmax\":25,\"fXbins\":[],\"fFirst\":0,\"fLast\":0,\"fBits2\":0,\"fTimeDisplay\":false,\"fTimeFormat\":\"\",\"fLabels\":null,\"fModLabs\":null},\"fYaxis\":{\"_typename\":\"TAxis\",\"fUniqueID\":0,\"fBits\":50331648,\"fName\":\"yaxis\",\"fTitle\":\"\",\"fNdivisions\":510,\"fAxisColor\":1,\"fLabelColor\":1,\"fLabelFont\":42,\"fLabelOffset\":0.005,\"fLabelSize\":0.035,\"fTickLength\":0.03,\"fTitleOffset\":0,\"fTitleSize\":0.035,\"fTitleColor\":1,\"fTitleFont\":42,\"fNbins\":1,\"fXmin\":0,\"fXmax\":1,\"fXbins\":[],\"fFirst\":0,\"fLast\":0,\"fBits2\":0,\"fTimeDisplay\":false,\"fTimeFormat\":\"\",\"fLabels\":null,\"fModLabs\":null},\"fZaxis\":{\"_typename\":\"TAxis\",\"fUniqueID\":0,\"fBits\":50331648,\"fName\":\"zaxis\",\"fTitle\":\"\",\"fNdivisions\":510,\"fAxisColor\":1,\"fLabelColor\":1,\"fLabelFont\":42,\"fLabelOffset\":0.005,\"fLabelSize\":0.035,\"fTickLength\":0.03,\"fTitleOffset\":1,\"fTitleSize\":0.035,\"fTitleColor\":1,\"fTitleFont\":42,\"fNbins\":1,\"fXmin\":0,\"fXmax\":1,\"fXbins\":[],\"fFirst\":0,\"fLast\":0,\"fBits2\":0,\"fTimeDisplay\":false,\"fTimeFormat\":\"\",\"fLabels\":null,\"fModLabs\":null},\"fBarOffset\":0,\"fBarWidth\":1000,\"fEntries\":625000,\"fTsumw\":4943.9154123056,\"fTsumw2\":849.413754992999,\"fTsumwx\":61790.9662708362,\"fTsumwx2\":782730.260805427,\"fMaximum\":-1111,\"fMinimum\":-1111,\"fNormFactor\":0,\"fContour\":[],\"fSumw2\":[0,0.00110842424092352,0.00178897166944663,0.00255135727541003,0.0036710212853156,0.00644172634093821,0.0107891620500928,0.0202854601758672,0.0469605534667864,0.115954708078008,0.4119511570221,2.37411827846883,31.6074922790001,781.231082547743,30.6328984623896,2.32706062339002,0.408768002189531,0.117505195956223,0.0451571027615723,0.0209770914789434,0.0108541180465215,0.00651573721205257,0.00437804536130772,0.00264166025089038,0.00160974838239649,0.0011935587552215,0],\"fOption\":\"\",\"fFunctions\":{\"_typename\":\"TList\",\"name\":\"TList\",\"arr\":[],\"opt\":[]},\"fBufferSize\":0,\"fBuffer\":[],\"fBinStatErrOpt\":0,\"fStatOverflows\":2,\"fArray\":[0,1.46449709167882,1.99242798829255,2.87552109687135,3.88344993166947,5.80059722205215,8.24855564255199,12.5344438331564,20.0451872986913,34.4623053893401,68.0310576477356,167.2625683805,611.143562671398,3075.15362285451,605.980504105917,165.790069097242,67.7568292352316,34.4886708362949,20.0928896575455,12.6351081630944,8.36009054836188,5.64449753198892,3.9374353066612,2.8666245438709,2.01053164097925,1.4543645899621,0]},{\"_typename\":\"TH1D\",\"fUniqueID\":0,\"fBits\":50331656,\"fName\":\"htruex\",\"fTitle\":\"generated images\",\"fLineColor\":632,\"fLineStyle\":1,\"fLineWidth\":1,\"fFillColor\":0,\"fFillStyle\":1001,\"fMarkerColor\":1,\"fMarkerStyle\":1,\"fMarkerSize\":1,\"fNcells\":27,\"fXaxis\":{\"_typename\":\"TAxis\",\"fUniqueID\":0,\"fBits\":50331648,\"fName\":\"xaxis\",\"fTitle\":\"\",\"fNdivisions\":510,\"fAxisColor\":1,\"fLabelColor\":1,\"fLabelFont\":42,\"fLabelOffset\":0.005,\"fLabelSize\":0.035,\"fTickLength\":0.03,\"fTitleOffset\":1,\"fTitleSize\":0.035,\"fTitleColor\":1,\"fTitleFont\":42,\"fNbins\":25,\"fXmin\":0,\"fXmax\":25,\"fXbins\":[],\"fFirst\":0,\"fLast\":0,\"fBits2\":0,\"fTimeDisplay\":false,\"fTimeFormat\":\"\",\"fLabels\":null,\"fModLabs\":null},\"fYaxis\":{\"_typename\":\"TAxis\",\"fUniqueID\":0,\"fBits\":50331648,\"fName\":\"yaxis\",\"fTitle\":\"\",\"fNdivisions\":510,\"fAxisColor\":1,\"fLabelColor\":1,\"fLabelFont\":42,\"fLabelOffset\":0.005,\"fLabelSize\":0.035,\"fTickLength\":0.03,\"fTitleOffset\":0,\"fTitleSize\":0.035,\"fTitleColor\":1,\"fTitleFont\":42,\"fNbins\":1,\"fXmin\":0,\"fXmax\":1,\"fXbins\":[],\"fFirst\":0,\"fLast\":0,\"fBits2\":0,\"fTimeDisplay\":false,\"fTimeFormat\":\"\",\"fLabels\":null,\"fModLabs\":null},\"fZaxis\":{\"_typename\":\"TAxis\",\"fUniqueID\":0,\"fBits\":50331648,\"fName\":\"zaxis\",\"fTitle\":\"\",\"fNdivisions\":510,\"fAxisColor\":1,\"fLabelColor\":1,\"fLabelFont\":42,\"fLabelOffset\":0.005,\"fLabelSize\":0.035,\"fTickLength\":0.03,\"fTitleOffset\":1,\"fTitleSize\":0.035,\"fTitleColor\":1,\"fTitleFont\":42,\"fNbins\":1,\"fXmin\":0,\"fXmax\":1,\"fXbins\":[],\"fFirst\":0,\"fLast\":0,\"fBits2\":0,\"fTimeDisplay\":false,\"fTimeFormat\":\"\",\"fLabels\":null,\"fModLabs\":null},\"fBarOffset\":0,\"fBarWidth\":1000,\"fEntries\":625000,\"fTsumw\":4817.95285708446,\"fTsumw2\":833.836529046446,\"fTsumwx\":59992.7384968447,\"fTsumwx2\":758333.980640658,\"fMaximum\":-1111,\"fMinimum\":-1111,\"fNormFactor\":0,\"fContour\":[],\"fSumw2\":[0,0.00254193743496273,0.034467060137564,0.0140650141818856,0.0430998773687351,0.0429101819105476,0.0587088234448444,0.0899874328586284,0.146387126486446,0.239226383047042,0.601333815413019,2.20029757656119,27.9918569647638,770.582335850791,28.6030538912045,2.31840600164162,0.309204240282162,0.119132921635132,0.0485783137939895,0.0383068891322458,0.0203936608841018,0.112903434150468,0.0320729504995876,0.0121610727585041,0.0840872746882133,0.0910103513372857,0],\"fOption\":\"\",\"fFunctions\":{\"_typename\":\"TList\",\"name\":\"TList\",\"arr\":[],\"opt\":[]},\"fBufferSize\":0,\"fBuffer\":[],\"fBinStatErrOpt\":0,\"fStatOverflows\":2,\"fArray\":[0,0.345782793127,3.02337896032259,1.12417637137696,5.00128331081942,8.37266142014414,11.3556108116172,21.4076997879893,25.9658201480052,38.072517727036,72.9434585452545,154.1257960191,570.07056428073,3057.00270043593,577.245089475065,150.526244009845,46.1997336619534,21.2379224249162,12.7848164259922,9.90264041209593,6.33812542725354,8.13401368586347,2.82974618766457,1.19181573390961,8.85223337542266,3.89902565302327,0]}],\"opt\":[\"\",\"\"]},\"fHistogram\":{\"_typename\":\"TH1F\",\"fUniqueID\":0,\"fBits\":50332160,\"fName\":\"hs1\",\"fTitle\":\"Transverse shower profile\",\"fLineColor\":602,\"fLineStyle\":1,\"fLineWidth\":1,\"fFillColor\":0,\"fFillStyle\":1001,\"fMarkerColor\":1,\"fMarkerStyle\":1,\"fMarkerSize\":1,\"fNcells\":27,\"fXaxis\":{\"_typename\":\"TAxis\",\"fUniqueID\":0,\"fBits\":50331648,\"fName\":\"xaxis\",\"fTitle\":\"\",\"fNdivisions\":510,\"fAxisColor\":1,\"fLabelColor\":1,\"fLabelFont\":42,\"fLabelOffset\":0.005,\"fLabelSize\":0.035,\"fTickLength\":0.03,\"fTitleOffset\":1,\"fTitleSize\":0.035,\"fTitleColor\":1,\"fTitleFont\":42,\"fNbins\":25,\"fXmin\":0,\"fXmax\":25,\"fXbins\":[],\"fFirst\":0,\"fLast\":0,\"fBits2\":0,\"fTimeDisplay\":false,\"fTimeFormat\":\"\",\"fLabels\":null,\"fModLabs\":null},\"fYaxis\":{\"_typename\":\"TAxis\",\"fUniqueID\":0,\"fBits\":50331648,\"fName\":\"yaxis\",\"fTitle\":\"\",\"fNdivisions\":510,\"fAxisColor\":1,\"fLabelColor\":1,\"fLabelFont\":42,\"fLabelOffset\":0.005,\"fLabelSize\":0.035,\"fTickLength\":0.03,\"fTitleOffset\":0,\"fTitleSize\":0.035,\"fTitleColor\":1,\"fTitleFont\":42,\"fNbins\":1,\"fXmin\":0,\"fXmax\":1,\"fXbins\":[],\"fFirst\":0,\"fLast\":0,\"fBits2\":0,\"fTimeDisplay\":false,\"fTimeFormat\":\"\",\"fLabels\":null,\"fModLabs\":null},\"fZaxis\":{\"_typename\":\"TAxis\",\"fUniqueID\":0,\"fBits\":50331648,\"fName\":\"zaxis\",\"fTitle\":\"\",\"fNdivisions\":510,\"fAxisColor\":1,\"fLabelColor\":1,\"fLabelFont\":42,\"fLabelOffset\":0.005,\"fLabelSize\":0.035,\"fTickLength\":0.03,\"fTitleOffset\":1,\"fTitleSize\":0.035,\"fTitleColor\":1,\"fTitleFont\":42,\"fNbins\":1,\"fXmin\":0,\"fXmax\":1,\"fXbins\":[],\"fFirst\":0,\"fLast\":0,\"fBits2\":0,\"fTimeDisplay\":false,\"fTimeFormat\":\"\",\"fLabels\":null,\"fModLabs\":null},\"fBarOffset\":0,\"fBarWidth\":1000,\"fEntries\":0,\"fTsumw\":0,\"fTsumw2\":0,\"fTsumwx\":0,\"fTsumwx2\":0,\"fMaximum\":5532.09123323806,\"fMinimum\":0.103824456980243,\"fNormFactor\":0,\"fContour\":[],\"fSumw2\":[],\"fOption\":\"\",\"fFunctions\":{\"_typename\":\"TList\",\"name\":\"TList\",\"arr\":[],\"opt\":[]},\"fBufferSize\":0,\"fBuffer\":[],\"fBinStatErrOpt\":0,\"fStatOverflows\":2,\"fArray\":[0,0,0,0,0,0,0,0,0,0,0,0,0,0,0,0,0,0,0,0,0,0,0,0,0,0,0]},\"fMaximum\":-1111,\"fMinimum\":-1111},{\"_typename\":\"TLegend\",\"fUniqueID\":0,\"fBits\":50331656,\"fLineColor\":1,\"fLineStyle\":1,\"fLineWidth\":1,\"fFillColor\":0,\"fFillStyle\":1001,\"fX1\":0.0315654707714956,\"fY1\":-0.945988214715422,\"fX2\":9.40656561046989,\"fY2\":0.294741590932526,\"fX1NDC\":0.101010101010101,\"fY1NDC\":0.106382978723404,\"fX2NDC\":0.401010101010101,\"fY2NDC\":0.316382978723404,\"fBorderSize\":1,\"fInit\":1,\"fShadowColor\":1,\"fCornerRadius\":0,\"fOption\":\"brNDC\",\"fName\":\"TPave\",\"fTextAngle\":0,\"fTextSize\":0,\"fTextAlign\":12,\"fTextColor\":1,\"fTextFont\":42,\"fPrimitives\":{\"_typename\":\"TList\",\"name\":\"TList\",\"arr\":[{\"_typename\":\"TLegendEntry\",\"fUniqueID\":0,\"fBits\":50331648,\"fTextAngle\":0,\"fTextSize\":0,\"fTextAlign\":0,\"fTextColor\":0,\"fTextFont\":42,\"fLineColor\":602,\"fLineStyle\":1,\"fLineWidth\":1,\"fFillColor\":0,\"fFillStyle\":1001,\"fMarkerColor\":1,\"fMarkerStyle\":1,\"fMarkerSize\":1,\"fObject\":{\"$ref\":7},\"fLabel\":\"real images\",\"fOption\":\"lpf\"},{\"_typename\":\"TLegendEntry\",\"fUniqueID\":0,\"fBits\":50331648,\"fTextAngle\":0,\"fTextSize\":0,\"fTextAlign\":0,\"fTextColor\":0,\"fTextFont\":42,\"fLineColor\":632,\"fLineStyle\":1,\"fLineWidth\":1,\"fFillColor\":0,\"fFillStyle\":1001,\"fMarkerColor\":1,\"fMarkerStyle\":1,\"fMarkerSize\":1,\"fObject\":{\"$ref\":12},\"fLabel\":\"generated images\",\"fOption\":\"lpf\"}],\"opt\":[\"lpf\",\"lpf\"]},\"fEntrySeparation\":0.1,\"fMargin\":0.25,\"fNColumns\":1,\"fColumnSeparation\":0},{\"_typename\":\"TPaveText\",\"fUniqueID\":0,\"fBits\":50331657,\"fLineColor\":1,\"fLineStyle\":1,\"fLineWidth\":1,\"fFillColor\":0,\"fFillStyle\":0,\"fX1\":2.41533829590952,\"fY1\":3.93631212537736,\"fX2\":22.5846617040905,\"fY2\":4.30417192823805,\"fX1NDC\":0.177290830277846,\"fY1NDC\":0.932737811783975,\"fX2NDC\":0.822709169722154,\"fY2NDC\":0.995000004768372,\"fBorderSize\":0,\"fInit\":1,\"fShadowColor\":1,\"fCornerRadius\":0,\"fOption\":\"blNDC\",\"fName\":\"title\",\"fTextAngle\":0,\"fTextSize\":0,\"fTextAlign\":22,\"fTextColor\":1,\"fTextFont\":42,\"fLabel\":\"\",\"fLongest\":25,\"fMargin\":0.05,\"fLines\":{\"_typename\":\"TList\",\"name\":\"TList\",\"arr\":[{\"_typename\":\"TLatex\",\"fUniqueID\":0,\"fBits\":50331648,\"fName\":\"\",\"fTitle\":\"Transverse shower profile\",\"fTextAngle\":0,\"fTextSize\":0,\"fTextAlign\":0,\"fTextColor\":0,\"fTextFont\":0,\"fX\":0,\"fY\":0,\"fLineColor\":1,\"fLineStyle\":1,\"fLineWidth\":2,\"fLimitFactorSize\":3,\"fOriginSize\":0.0529228635132313}],\"opt\":[\"\"]}}],\"opt\":[\"\",\"hist nostack\",\"\",\"blNDC\"]},\"fExecs\":{\"_typename\":\"TList\",\"name\":\"TList\",\"arr\":[],\"opt\":[]},\"fName\":\"c2_1\",\"fTitle\":\"c2_1\",\"fNumPaletteColor\":0,\"fNextPaletteColor\":0},{\"_typename\":\"TPad\",\"fUniqueID\":0,\"fBits\":50331657,\"fLineColor\":1,\"fLineStyle\":1,\"fLineWidth\":1,\"fFillColor\":0,\"fFillStyle\":1001,\"fLeftMargin\":0.1,\"fRightMargin\":0.1,\"fBottomMargin\":0.1,\"fTopMargin\":0.1,\"fXfile\":2,\"fYfile\":2,\"fAfile\":1,\"fXstat\":0.99,\"fYstat\":0.99,\"fAstat\":2,\"fFrameFillColor\":0,\"fFrameLineColor\":1,\"fFrameFillStyle\":1001,\"fFrameLineStyle\":1,\"fFrameLineWidth\":1,\"fFrameBorderSize\":1,\"fFrameBorderMode\":0,\"fX1\":-3.12500023283066,\"fY1\":-0.746215548387518,\"fX2\":28.1250002328307,\"fY2\":3.16432026336558,\"fXtoAbsPixelk\":555.76805267148,\"fXtoPixelk\":47.8080528941037,\"fXtoPixel\":15.2985597862816,\"fYtoAbsPixelk\":379.013510471167,\"fYtoPixelk\":374.293510576668,\"fYtoPixel\":-118.285580922384,\"fUtoAbsPixelk\":507.960049777377,\"fUtoPixelk\":5e-5,\"fUtoPixel\":478.080000445247,\"fVtoAbsPixelk\":467.2800501055,\"fVtoPixelk\":462.560000211,\"fVtoPixel\":-462.560000211,\"fAbsPixeltoXk\":-36.3281256821211,\"fPixeltoXk\":-3.12500023283066,\"fPixeltoX\":0.0653656300965476,\"fAbsPixeltoYk\":3.20422368910601,\"fPixeltoYk\":-0.746215548387518,\"fPixeltoY\":-0.00845411581193634,\"fXlowNDC\":0.509999999776483,\"fYlowNDC\":0.00999999977648258,\"fXUpNDC\":0,\"fYUpNDC\":0,\"fWNDC\":0.480000000447035,\"fHNDC\":0.980000000447035,\"fAbsXlowNDC\":0.509999999776483,\"fAbsYlowNDC\":0.00999999977648258,\"fAbsWNDC\":0.480000000447035,\"fAbsHNDC\":0.980000000447035,\"fUxmin\":0,\"fUymin\":-0.355161943903598,\"fUxmax\":25,\"fUymax\":2.77326665888166,\"fTheta\":30,\"fPhi\":30,\"fAspectRatio\":0,\"fNumber\":2,\"fTickx\":0,\"fTicky\":0,\"fLogx\":0,\"fLogy\":1,\"fLogz\":0,\"fPadPaint\":0,\"fCrosshair\":0,\"fCrosshairPos\":0,\"fBorderSize\":2,\"fBorderMode\":0,\"fModified\":false,\"fGridx\":false,\"fGridy\":false,\"fAbsCoord\":false,\"fEditable\":true,\"fFixedAspectRatio\":false,\"fPrimitives\":{\"_typename\":\"TList\",\"name\":\"TList\",\"arr\":[{\"_typename\":\"TFrame\",\"fUniqueID\":0,\"fBits\":50331656,\"fLineColor\":1,\"fLineStyle\":1,\"fLineWidth\":1,\"fFillColor\":0,\"fFillStyle\":1001,\"fX1\":0,\"fY1\":-0.355161943903598,\"fX2\":25,\"fY2\":2.77326665888166,\"fBorderSize\":1,\"fBorderMode\":0},{\"_typename\":\"THStack\",\"fUniqueID\":0,\"fBits\":50331656,\"fName\":\"hs2\",\"fTitle\":\"Longitudinal shower profile\",\"fHists\":{\"_typename\":\"TList\",\"name\":\"TList\",\"arr\":[{\"_typename\":\"TH1D\",\"fUniqueID\":0,\"fBits\":50331656,\"fName\":\"htruey\",\"fTitle\":\"real images\",\"fLineColor\":602,\"fLineStyle\":1,\"fLineWidth\":1,\"fFillColor\":0,\"fFillStyle\":1001,\"fMarkerColor\":1,\"fMarkerStyle\":1,\"fMarkerSize\":1,\"fNcells\":27,\"fXaxis\":{\"_typename\":\"TAxis\",\"fUniqueID\":0,\"fBits\":50331648,\"fName\":\"xaxis\",\"fTitle\":\"\",\"fNdivisions\":510,\"fAxisColor\":1,\"fLabelColor\":1,\"fLabelFont\":42,\"fLabelOffset\":0.005,\"fLabelSize\":0.035,\"fTickLength\":0.03,\"fTitleOffset\":1,\"fTitleSize\":0.035,\"fTitleColor\":1,\"fTitleFont\":42,\"fNbins\":25,\"fXmin\":0,\"fXmax\":25,\"fXbins\":[],\"fFirst\":0,\"fLast\":0,\"fBits2\":0,\"fTimeDisplay\":false,\"fTimeFormat\":\"\",\"fLabels\":null,\"fModLabs\":null},\"fYaxis\":{\"_typename\":\"TAxis\",\"fUniqueID\":0,\"fBits\":50331648,\"fName\":\"yaxis\",\"fTitle\":\"\",\"fNdivisions\":510,\"fAxisColor\":1,\"fLabelColor\":1,\"fLabelFont\":42,\"fLabelOffset\":0.005,\"fLabelSize\":0.035,\"fTickLength\":0.03,\"fTitleOffset\":0,\"fTitleSize\":0.035,\"fTitleColor\":1,\"fTitleFont\":42,\"fNbins\":1,\"fXmin\":0,\"fXmax\":1,\"fXbins\":[],\"fFirst\":0,\"fLast\":0,\"fBits2\":0,\"fTimeDisplay\":false,\"fTimeFormat\":\"\",\"fLabels\":null,\"fModLabs\":null},\"fZaxis\":{\"_typename\":\"TAxis\",\"fUniqueID\":0,\"fBits\":50331648,\"fName\":\"zaxis\",\"fTitle\":\"\",\"fNdivisions\":510,\"fAxisColor\":1,\"fLabelColor\":1,\"fLabelFont\":42,\"fLabelOffset\":0.005,\"fLabelSize\":0.035,\"fTickLength\":0.03,\"fTitleOffset\":1,\"fTitleSize\":0.035,\"fTitleColor\":1,\"fTitleFont\":42,\"fNbins\":1,\"fXmin\":0,\"fXmax\":1,\"fXbins\":[],\"fFirst\":0,\"fLast\":0,\"fBits2\":0,\"fTimeDisplay\":false,\"fTimeFormat\":\"\",\"fLabels\":null,\"fModLabs\":null},\"fBarOffset\":0,\"fBarWidth\":1000,\"fEntries\":625000,\"fTsumw\":4943.9154123056,\"fTsumw2\":849.413754992999,\"fTsumwx\":70619.5833989839,\"fTsumwx2\":1115742.02997168,\"fMaximum\":-1111,\"fMinimum\":-1111,\"fNormFactor\":0,\"fContour\":[],\"fSumw2\":[0,0.00305092187773736,0.0181373038257124,0.128730573860871,0.594275529685847,2.01690804096825,5.35628892476462,11.5777301998832,21.2458062824735,34.1532850443385,48.5982731369668,62.9143577675109,75.5122482310879,84.2754532107109,88.7788842593338,88.4196011160508,83.6376421714385,76.3423619491876,61.9195778753976,42.8171755457322,27.3643006728423,16.1545290497332,8.87132309826657,4.66946745196992,2.36808884929228,1.67625778577759,0],\"fOption\":\"\",\"fFunctions\":{\"_typename\":\"TList\",\"name\":\"TList\",\"arr\":[],\"opt\":[]},\"fBufferSize\":0,\"fBuffer\":[],\"fBinStatErrOpt\":0,\"fStatOverflows\":2,\"fArray\":[0,2.01482398312851,4.99227598278469,12.4506525765654,26.5594823022794,49.2958362399224,81.3386129512025,121.664934160042,168.14918608876,216.715117925252,264.512777686177,306.495484615934,341.331962805711,367.897757850816,384.619409986928,390.998451975524,386.79827936914,375.219391772043,339.24932804832,288.767059989392,235.202869008377,185.014982598014,140.670939448895,104.155388173192,76.0050930951959,73.7953136720005,0]},{\"_typename\":\"TH1D\",\"fUniqueID\":0,\"fBits\":50331656,\"fName\":\"htruey\",\"fTitle\":\"generated images\",\"fLineColor\":632,\"fLineStyle\":1,\"fLineWidth\":1,\"fFillColor\":0,\"fFillStyle\":1001,\"fMarkerColor\":1,\"fMarkerStyle\":1,\"fMarkerSize\":1,\"fNcells\":27,\"fXaxis\":{\"_typename\":\"TAxis\",\"fUniqueID\":0,\"fBits\":50331648,\"fName\":\"xaxis\",\"fTitle\":\"\",\"fNdivisions\":510,\"fAxisColor\":1,\"fLabelColor\":1,\"fLabelFont\":42,\"fLabelOffset\":0.005,\"fLabelSize\":0.035,\"fTickLength\":0.03,\"fTitleOffset\":1,\"fTitleSize\":0.035,\"fTitleColor\":1,\"fTitleFont\":42,\"fNbins\":25,\"fXmin\":0,\"fXmax\":25,\"fXbins\":[],\"fFirst\":0,\"fLast\":0,\"fBits2\":0,\"fTimeDisplay\":false,\"fTimeFormat\":\"\",\"fLabels\":null,\"fModLabs\":null},\"fYaxis\":{\"_typename\":\"TAxis\",\"fUniqueID\":0,\"fBits\":50331648,\"fName\":\"yaxis\",\"fTitle\":\"\",\"fNdivisions\":510,\"fAxisColor\":1,\"fLabelColor\":1,\"fLabelFont\":42,\"fLabelOffset\":0.005,\"fLabelSize\":0.035,\"fTickLength\":0.03,\"fTitleOffset\":0,\"fTitleSize\":0.035,\"fTitleColor\":1,\"fTitleFont\":42,\"fNbins\":1,\"fXmin\":0,\"fXmax\":1,\"fXbins\":[],\"fFirst\":0,\"fLast\":0,\"fBits2\":0,\"fTimeDisplay\":false,\"fTimeFormat\":\"\",\"fLabels\":null,\"fModLabs\":null},\"fZaxis\":{\"_typename\":\"TAxis\",\"fUniqueID\":0,\"fBits\":50331648,\"fName\":\"zaxis\",\"fTitle\":\"\",\"fNdivisions\":510,\"fAxisColor\":1,\"fLabelColor\":1,\"fLabelFont\":42,\"fLabelOffset\":0.005,\"fLabelSize\":0.035,\"fTickLength\":0.03,\"fTitleOffset\":1,\"fTitleSize\":0.035,\"fTitleColor\":1,\"fTitleFont\":42,\"fNbins\":1,\"fXmin\":0,\"fXmax\":1,\"fXbins\":[],\"fFirst\":0,\"fLast\":0,\"fBits2\":0,\"fTimeDisplay\":false,\"fTimeFormat\":\"\",\"fLabels\":null,\"fModLabs\":null},\"fBarOffset\":0,\"fBarWidth\":1000,\"fEntries\":625000,\"fTsumw\":4817.95285708446,\"fTsumw2\":833.836529046446,\"fTsumwx\":69183.5385064042,\"fTsumwx2\":1096966.98579863,\"fMaximum\":-1111,\"fMinimum\":-1111,\"fNormFactor\":0,\"fContour\":[],\"fSumw2\":[0,0.00622992764853117,0.0187892412612227,0.111487214991457,0.554158567599586,1.89859567904872,5.16253298912751,11.3616186519563,20.3987319396346,32.815342964448,47.1014634975989,61.741945763157,73.5022924845796,82.857047877298,87.8767673070117,85.6817251077507,82.5411758147692,75.6862782008842,61.3245558076788,43.4353202035951,27.4975955739101,15.6163128090606,8.37237725638249,4.42789788821853,2.32586095074276,1.52042532803011,0],\"fOption\":\"\",\"fFunctions\":{\"_typename\":\"TList\",\"name\":\"TList\",\"arr\":[],\"opt\":[]},\"fBufferSize\":0,\"fBuffer\":[],\"fBinStatErrOpt\":0,\"fStatOverflows\":2,\"fArray\":[0,1.12481292989105,3.37980978097767,9.42880416009575,26.1639706343412,45.4965811278671,74.7250888906419,118.632606415078,159.229055224918,211.612296195235,255.120946162846,293.268021743745,328.949955874821,353.947478515329,373.534058944788,377.790395794669,387.501434597652,367.367003447376,332.006624343107,288.41905577376,243.55838136049,179.798410448479,132.574010305107,101.453675438883,75.2235310007818,77.6468479735777,0]}],\"opt\":[\"\",\"\"]},\"fHistogram\":{\"_typename\":\"TH1F\",\"fUniqueID\":0,\"fBits\":50332160,\"fName\":\"hs2\",\"fTitle\":\"Longitudinal shower profile\",\"fLineColor\":602,\"fLineStyle\":1,\"fLineWidth\":1,\"fFillColor\":0,\"fFillStyle\":1001,\"fMarkerColor\":1,\"fMarkerStyle\":1,\"fMarkerSize\":1,\"fNcells\":27,\"fXaxis\":{\"_typename\":\"TAxis\",\"fUniqueID\":0,\"fBits\":50331648,\"fName\":\"xaxis\",\"fTitle\":\"\",\"fNdivisions\":510,\"fAxisColor\":1,\"fLabelColor\":1,\"fLabelFont\":42,\"fLabelOffset\":0.005,\"fLabelSize\":0.035,\"fTickLength\":0.03,\"fTitleOffset\":1,\"fTitleSize\":0.035,\"fTitleColor\":1,\"fTitleFont\":42,\"fNbins\":25,\"fXmin\":0,\"fXmax\":25,\"fXbins\":[],\"fFirst\":0,\"fLast\":0,\"fBits2\":0,\"fTimeDisplay\":false,\"fTimeFormat\":\"\",\"fLabels\":null,\"fModLabs\":null},\"fYaxis\":{\"_typename\":\"TAxis\",\"fUniqueID\":0,\"fBits\":50331648,\"fName\":\"yaxis\",\"fTitle\":\"\",\"fNdivisions\":510,\"fAxisColor\":1,\"fLabelColor\":1,\"fLabelFont\":42,\"fLabelOffset\":0.005,\"fLabelSize\":0.035,\"fTickLength\":0.03,\"fTitleOffset\":0,\"fTitleSize\":0.035,\"fTitleColor\":1,\"fTitleFont\":42,\"fNbins\":1,\"fXmin\":0,\"fXmax\":1,\"fXbins\":[],\"fFirst\":0,\"fLast\":0,\"fBits2\":0,\"fTimeDisplay\":false,\"fTimeFormat\":\"\",\"fLabels\":null,\"fModLabs\":null},\"fZaxis\":{\"_typename\":\"TAxis\",\"fUniqueID\":0,\"fBits\":50331648,\"fName\":\"zaxis\",\"fTitle\":\"\",\"fNdivisions\":510,\"fAxisColor\":1,\"fLabelColor\":1,\"fLabelFont\":42,\"fLabelOffset\":0.005,\"fLabelSize\":0.035,\"fTickLength\":0.03,\"fTitleOffset\":1,\"fTitleSize\":0.035,\"fTitleColor\":1,\"fTitleFont\":42,\"fNbins\":1,\"fXmin\":0,\"fXmax\":1,\"fXbins\":[],\"fFirst\":0,\"fLast\":0,\"fBits2\":0,\"fTimeDisplay\":false,\"fTimeFormat\":\"\",\"fLabels\":null,\"fModLabs\":null},\"fBarOffset\":0,\"fBarWidth\":1000,\"fEntries\":0,\"fTsumw\":0,\"fTsumw2\":0,\"fTsumwx\":0,\"fTsumwx2\":0,\"fMaximum\":593.289495344918,\"fMinimum\":0.441405821013369,\"fNormFactor\":0,\"fContour\":[],\"fSumw2\":[],\"fOption\":\"\",\"fFunctions\":{\"_typename\":\"TList\",\"name\":\"TList\",\"arr\":[],\"opt\":[]},\"fBufferSize\":0,\"fBuffer\":[],\"fBinStatErrOpt\":0,\"fStatOverflows\":2,\"fArray\":[0,0,0,0,0,0,0,0,0,0,0,0,0,0,0,0,0,0,0,0,0,0,0,0,0,0,0]},\"fMaximum\":-1111,\"fMinimum\":-1111},{\"_typename\":\"TLegend\",\"fUniqueID\":0,\"fBits\":50331656,\"fLineColor\":1,\"fLineStyle\":1,\"fLineWidth\":1,\"fFillColor\":0,\"fFillStyle\":1001,\"fX1\":0.0315654707714956,\"fY1\":-0.330201100328678,\"fX2\":9.40656561046989,\"fY2\":0.491011420139472,\"fX1NDC\":0.101010101010101,\"fY1NDC\":0.106382978723404,\"fX2NDC\":0.401010101010101,\"fY2NDC\":0.316382978723404,\"fBorderSize\":1,\"fInit\":1,\"fShadowColor\":1,\"fCornerRadius\":0,\"fOption\":\"brNDC\",\"fName\":\"TPave\",\"fTextAngle\":0,\"fTextSize\":0,\"fTextAlign\":12,\"fTextColor\":1,\"fTextFont\":42,\"fPrimitives\":{\"_typename\":\"TList\",\"name\":\"TList\",\"arr\":[{\"_typename\":\"TLegendEntry\",\"fUniqueID\":0,\"fBits\":50331648,\"fTextAngle\":0,\"fTextSize\":0,\"fTextAlign\":0,\"fTextColor\":0,\"fTextFont\":42,\"fLineColor\":602,\"fLineStyle\":1,\"fLineWidth\":1,\"fFillColor\":0,\"fFillStyle\":1001,\"fMarkerColor\":1,\"fMarkerStyle\":1,\"fMarkerSize\":1,\"fObject\":{\"$ref\":35},\"fLabel\":\"real images\",\"fOption\":\"lpf\"},{\"_typename\":\"TLegendEntry\",\"fUniqueID\":0,\"fBits\":50331648,\"fTextAngle\":0,\"fTextSize\":0,\"fTextAlign\":0,\"fTextColor\":0,\"fTextFont\":42,\"fLineColor\":632,\"fLineStyle\":1,\"fLineWidth\":1,\"fFillColor\":0,\"fFillStyle\":1001,\"fMarkerColor\":1,\"fMarkerStyle\":1,\"fMarkerSize\":1,\"fObject\":{\"$ref\":40},\"fLabel\":\"generated images\",\"fOption\":\"lpf\"}],\"opt\":[\"lpf\",\"lpf\"]},\"fEntrySeparation\":0.1,\"fMargin\":0.25,\"fNColumns\":1,\"fColumnSeparation\":0},{\"_typename\":\"TPaveText\",\"fUniqueID\":0,\"fBits\":50331657,\"fLineColor\":1,\"fLineStyle\":1,\"fLineWidth\":1,\"fFillColor\":0,\"fFillStyle\":0,\"fX1\":1.89241325513714,\"fY1\":2.90128906756993,\"fX2\":23.1075867448629,\"fY2\":3.1447676029537,\"fX1NDC\":0.16055722922248,\"fY1NDC\":0.932737811783975,\"fX2NDC\":0.83944277077752,\"fY2NDC\":0.995000004768372,\"fBorderSize\":0,\"fInit\":1,\"fShadowColor\":1,\"fCornerRadius\":0,\"fOption\":\"blNDC\",\"fName\":\"title\",\"fTextAngle\":0,\"fTextSize\":0,\"fTextAlign\":22,\"fTextColor\":1,\"fTextFont\":42,\"fLabel\":\"\",\"fLongest\":27,\"fMargin\":0.05,\"fLines\":{\"_typename\":\"TList\",\"name\":\"TList\",\"arr\":[{\"_typename\":\"TLatex\",\"fUniqueID\":0,\"fBits\":50331648,\"fName\":\"\",\"fTitle\":\"Longitudinal shower profile\",\"fTextAngle\":0,\"fTextSize\":0,\"fTextAlign\":0,\"fTextColor\":0,\"fTextFont\":0,\"fX\":0,\"fY\":0,\"fLineColor\":1,\"fLineStyle\":1,\"fLineWidth\":2,\"fLimitFactorSize\":3,\"fOriginSize\":0.0529228635132313}],\"opt\":[\"\"]}}],\"opt\":[\"\",\"hist nostack\",\"\",\"blNDC\"]},\"fExecs\":{\"_typename\":\"TList\",\"name\":\"TList\",\"arr\":[],\"opt\":[]},\"fName\":\"c2_2\",\"fTitle\":\"c2_2\",\"fNumPaletteColor\":0,\"fNextPaletteColor\":0}],\"opt\":[\"\",\"\"]},\"fExecs\":null,\"fName\":\"c2\",\"fTitle\":\"\",\"fNumPaletteColor\":0,\"fNextPaletteColor\":0,\"fDISPLAY\":\"$DISPLAY\",\"fDoubleBuffer\":0,\"fRetained\":true,\"fXsizeUser\":0,\"fYsizeUser\":0,\"fXsizeReal\":20,\"fYsizeReal\":10,\"fWindowTopX\":0,\"fWindowTopY\":0,\"fWindowWidth\":0,\"fWindowHeight\":0,\"fCw\":996,\"fCh\":472,\"fCatt\":{\"_typename\":\"TAttCanvas\",\"fXBetween\":2,\"fYBetween\":2,\"fTitleFromTop\":1.2,\"fXdate\":0.2,\"fYdate\":0.3,\"fAdate\":1},\"kMoveOpaque\":true,\"kResizeOpaque\":true,\"fHighLightColor\":2,\"fBatch\":true,\"kShowEventStatus\":false,\"kAutoExec\":true,\"kMenuBar\":true});\n",
       "       Core.draw(\"root_plot_2\", obj, \"\");\n",
       "     }\n",
       " );\n",
       "</script>\n"
      ],
      "text/plain": [
       "<IPython.core.display.HTML object>"
      ]
     },
     "metadata": {},
     "output_type": "display_data"
    }
   ],
   "source": [
    "cname = \"c2\"\n",
    "c = ROOT.TCanvas(\"c2\",\"\",1000,500)\n",
    "c.Divide(2,1)\n",
    "c1 = c.cd(1)\n",
    "\n",
    "hs1 = ROOT.THStack(\"hs1\",\"Transverse shower profile\")\n",
    "hs1.Add(htrueX)\n",
    "hs1.Add(hgenX)\n",
    "hgenX.SetLineColor(ROOT.kRed)\n",
    "hs1.Draw(\"hist nostack\")\n",
    "\n",
    "c1.BuildLegend()\n",
    "c1.SetLogy(1)\n",
    "\n",
    "c2 = c.cd(2)\n",
    "hs2 = ROOT.THStack(\"hs2\",\"Longitudinal shower profile\")\n",
    "hs2.Add(htrueY)\n",
    "hs2.Add(hgenY)\n",
    "hgenY.SetLineColor(ROOT.kRed)\n",
    "hs2.Draw(\"hist nostack\")\n",
    "\n",
    "c2.BuildLegend()\n",
    "c2.SetLogy(1)\n",
    "c.Draw()\n",
    "            \n"
   ]
  },
  {
   "cell_type": "markdown",
   "metadata": {},
   "source": [
    "### Display total energy "
   ]
  },
  {
   "cell_type": "code",
   "execution_count": 29,
   "metadata": {},
   "outputs": [
    {
     "data": {
      "text/html": [
       "\n",
       "<div id=\"root_plot_3\"\n",
       "     style=\"width: 696px; height: 472px\">\n",
       "</div>\n",
       "\n",
       "<script>\n",
       " requirejs.config({\n",
       "     paths: {\n",
       "       'JSRootCore' : 'https://root.cern.ch/js/notebook//scripts/JSRootCore',\n",
       "     }\n",
       "   });\n",
       " require(['JSRootCore'],\n",
       "     function(Core) {\n",
       "       var obj = Core.JSONR_unref({\"_typename\":\"TCanvas\",\"fUniqueID\":0,\"fBits\":53673992,\"fLineColor\":1,\"fLineStyle\":1,\"fLineWidth\":1,\"fFillColor\":0,\"fFillStyle\":1001,\"fLeftMargin\":0.1,\"fRightMargin\":0.1,\"fBottomMargin\":0.1,\"fTopMargin\":0.1,\"fXfile\":2,\"fYfile\":2,\"fAfile\":1,\"fXstat\":0.99,\"fYstat\":0.99,\"fAstat\":2,\"fFrameFillColor\":0,\"fFrameLineColor\":1,\"fFrameFillStyle\":1001,\"fFrameLineStyle\":1,\"fFrameLineWidth\":1,\"fFrameBorderSize\":1,\"fFrameBorderMode\":0,\"fX1\":-1.50000011175872,\"fY1\":-5.38125040093439,\"fX2\":13.5000001117587,\"fY2\":48.4312504009344,\"fXtoAbsPixelk\":69.6000541484835,\"fXtoPixelk\":69.6000541484835,\"fXtoPixel\":46.3999993085861,\"fYtoAbsPixelk\":424.800047186661,\"fYtoPixelk\":424.800047186661,\"fYtoPixel\":-8.77119615269039,\"fUtoAbsPixelk\":5e-5,\"fUtoPixelk\":5e-5,\"fUtoPixel\":696,\"fVtoAbsPixelk\":472.00005,\"fVtoPixelk\":472,\"fVtoPixel\":-472,\"fAbsPixeltoXk\":-1.50000011175872,\"fPixeltoXk\":-1.50000011175872,\"fPixeltoX\":0.0215517244590768,\"fAbsPixeltoYk\":48.4312504009344,\"fPixeltoYk\":-5.38125040093439,\"fPixeltoY\":-0.11400953559718,\"fXlowNDC\":0,\"fYlowNDC\":0,\"fXUpNDC\":0,\"fYUpNDC\":0,\"fWNDC\":1,\"fHNDC\":1,\"fAbsXlowNDC\":0,\"fAbsYlowNDC\":0,\"fAbsWNDC\":1,\"fAbsHNDC\":1,\"fUxmin\":0,\"fUymin\":0,\"fUxmax\":12,\"fUymax\":43.05,\"fTheta\":30,\"fPhi\":30,\"fAspectRatio\":0,\"fNumber\":0,\"fTickx\":0,\"fTicky\":0,\"fLogx\":0,\"fLogy\":0,\"fLogz\":0,\"fPadPaint\":0,\"fCrosshair\":0,\"fCrosshairPos\":0,\"fBorderSize\":2,\"fBorderMode\":0,\"fModified\":false,\"fGridx\":false,\"fGridy\":false,\"fAbsCoord\":false,\"fEditable\":true,\"fFixedAspectRatio\":false,\"fPrimitives\":{\"_typename\":\"TList\",\"name\":\"TList\",\"arr\":[{\"_typename\":\"TFrame\",\"fUniqueID\":0,\"fBits\":50331656,\"fLineColor\":1,\"fLineStyle\":1,\"fLineWidth\":1,\"fFillColor\":0,\"fFillStyle\":1001,\"fX1\":0,\"fY1\":0,\"fX2\":12,\"fY2\":43.05,\"fBorderSize\":1,\"fBorderMode\":0},{\"_typename\":\"THStack\",\"fUniqueID\":0,\"fBits\":50331656,\"fName\":\"hs\",\"fTitle\":\"Total Deposited Energy\",\"fHists\":{\"_typename\":\"TList\",\"name\":\"TList\",\"arr\":[{\"_typename\":\"TH1D\",\"fUniqueID\":0,\"fBits\":50331656,\"fName\":\"htrueE\",\"fTitle\":\"real energy\",\"fLineColor\":602,\"fLineStyle\":1,\"fLineWidth\":1,\"fFillColor\":0,\"fFillStyle\":1001,\"fMarkerColor\":1,\"fMarkerStyle\":1,\"fMarkerSize\":1,\"fNcells\":52,\"fXaxis\":{\"_typename\":\"TAxis\",\"fUniqueID\":0,\"fBits\":50331648,\"fName\":\"xaxis\",\"fTitle\":\"\",\"fNdivisions\":510,\"fAxisColor\":1,\"fLabelColor\":1,\"fLabelFont\":42,\"fLabelOffset\":0.005,\"fLabelSize\":0.035,\"fTickLength\":0.03,\"fTitleOffset\":1,\"fTitleSize\":0.035,\"fTitleColor\":1,\"fTitleFont\":42,\"fNbins\":50,\"fXmin\":0,\"fXmax\":12,\"fXbins\":[],\"fFirst\":0,\"fLast\":0,\"fBits2\":0,\"fTimeDisplay\":false,\"fTimeFormat\":\"\",\"fLabels\":null,\"fModLabs\":null},\"fYaxis\":{\"_typename\":\"TAxis\",\"fUniqueID\":0,\"fBits\":50331648,\"fName\":\"yaxis\",\"fTitle\":\"\",\"fNdivisions\":510,\"fAxisColor\":1,\"fLabelColor\":1,\"fLabelFont\":42,\"fLabelOffset\":0.005,\"fLabelSize\":0.035,\"fTickLength\":0.03,\"fTitleOffset\":0,\"fTitleSize\":0.035,\"fTitleColor\":1,\"fTitleFont\":42,\"fNbins\":1,\"fXmin\":0,\"fXmax\":1,\"fXbins\":[],\"fFirst\":0,\"fLast\":0,\"fBits2\":0,\"fTimeDisplay\":false,\"fTimeFormat\":\"\",\"fLabels\":null,\"fModLabs\":null},\"fZaxis\":{\"_typename\":\"TAxis\",\"fUniqueID\":0,\"fBits\":50331648,\"fName\":\"zaxis\",\"fTitle\":\"\",\"fNdivisions\":510,\"fAxisColor\":1,\"fLabelColor\":1,\"fLabelFont\":42,\"fLabelOffset\":0.005,\"fLabelSize\":0.035,\"fTickLength\":0.03,\"fTitleOffset\":1,\"fTitleSize\":0.035,\"fTitleColor\":1,\"fTitleFont\":42,\"fNbins\":1,\"fXmin\":0,\"fXmax\":1,\"fXbins\":[],\"fFirst\":0,\"fLast\":0,\"fBits2\":0,\"fTimeDisplay\":false,\"fTimeFormat\":\"\",\"fLabels\":null,\"fModLabs\":null},\"fBarOffset\":0,\"fBarWidth\":1000,\"fEntries\":1000,\"fTsumw\":1000,\"fTsumw2\":1000,\"fTsumwx\":4943.91540384293,\"fTsumwx2\":31495.5565681349,\"fMaximum\":-1111,\"fMinimum\":-1111,\"fNormFactor\":0,\"fContour\":[],\"fSumw2\":[],\"fOption\":\"\",\"fFunctions\":{\"_typename\":\"TList\",\"name\":\"TList\",\"arr\":[],\"opt\":[]},\"fBufferSize\":0,\"fBuffer\":[],\"fBinStatErrOpt\":0,\"fStatOverflows\":2,\"fArray\":[0,3,21,27,21,27,24,20,22,26,33,24,28,27,28,28,29,23,23,20,19,24,29,32,24,22,20,23,32,34,27,32,29,31,30,26,26,30,31,9,7,5,3,1,0,0,0,0,0,0,0,0]},{\"_typename\":\"TH1D\",\"fUniqueID\":0,\"fBits\":50331656,\"fName\":\"htrueE\",\"fTitle\":\"generated energy\",\"fLineColor\":632,\"fLineStyle\":1,\"fLineWidth\":1,\"fFillColor\":0,\"fFillStyle\":1001,\"fMarkerColor\":1,\"fMarkerStyle\":1,\"fMarkerSize\":1,\"fNcells\":52,\"fXaxis\":{\"_typename\":\"TAxis\",\"fUniqueID\":0,\"fBits\":50331648,\"fName\":\"xaxis\",\"fTitle\":\"\",\"fNdivisions\":510,\"fAxisColor\":1,\"fLabelColor\":1,\"fLabelFont\":42,\"fLabelOffset\":0.005,\"fLabelSize\":0.035,\"fTickLength\":0.03,\"fTitleOffset\":1,\"fTitleSize\":0.035,\"fTitleColor\":1,\"fTitleFont\":42,\"fNbins\":50,\"fXmin\":0,\"fXmax\":12,\"fXbins\":[],\"fFirst\":0,\"fLast\":0,\"fBits2\":0,\"fTimeDisplay\":false,\"fTimeFormat\":\"\",\"fLabels\":null,\"fModLabs\":null},\"fYaxis\":{\"_typename\":\"TAxis\",\"fUniqueID\":0,\"fBits\":50331648,\"fName\":\"yaxis\",\"fTitle\":\"\",\"fNdivisions\":510,\"fAxisColor\":1,\"fLabelColor\":1,\"fLabelFont\":42,\"fLabelOffset\":0.005,\"fLabelSize\":0.035,\"fTickLength\":0.03,\"fTitleOffset\":0,\"fTitleSize\":0.035,\"fTitleColor\":1,\"fTitleFont\":42,\"fNbins\":1,\"fXmin\":0,\"fXmax\":1,\"fXbins\":[],\"fFirst\":0,\"fLast\":0,\"fBits2\":0,\"fTimeDisplay\":false,\"fTimeFormat\":\"\",\"fLabels\":null,\"fModLabs\":null},\"fZaxis\":{\"_typename\":\"TAxis\",\"fUniqueID\":0,\"fBits\":50331648,\"fName\":\"zaxis\",\"fTitle\":\"\",\"fNdivisions\":510,\"fAxisColor\":1,\"fLabelColor\":1,\"fLabelFont\":42,\"fLabelOffset\":0.005,\"fLabelSize\":0.035,\"fTickLength\":0.03,\"fTitleOffset\":1,\"fTitleSize\":0.035,\"fTitleColor\":1,\"fTitleFont\":42,\"fNbins\":1,\"fXmin\":0,\"fXmax\":1,\"fXbins\":[],\"fFirst\":0,\"fLast\":0,\"fBits2\":0,\"fTimeDisplay\":false,\"fTimeFormat\":\"\",\"fLabels\":null,\"fModLabs\":null},\"fBarOffset\":0,\"fBarWidth\":1000,\"fEntries\":1000,\"fTsumw\":1000,\"fTsumw2\":1000,\"fTsumwx\":4817.95286741108,\"fTsumwx2\":30128.3519052483,\"fMaximum\":-1111,\"fMinimum\":-1111,\"fNormFactor\":0,\"fContour\":[],\"fSumw2\":[],\"fOption\":\"\",\"fFunctions\":{\"_typename\":\"TList\",\"name\":\"TList\",\"arr\":[],\"opt\":[]},\"fBufferSize\":0,\"fBuffer\":[],\"fBinStatErrOpt\":0,\"fStatOverflows\":2,\"fArray\":[0,9,37,30,14,23,22,22,26,19,22,20,20,28,27,26,31,31,29,28,19,41,27,33,26,24,24,25,33,31,29,34,27,21,27,23,17,20,15,11,11,13,5,0,0,0,0,0,0,0,0,0]}],\"opt\":[\"\",\"\"]},\"fHistogram\":{\"_typename\":\"TH1F\",\"fUniqueID\":0,\"fBits\":50332160,\"fName\":\"hs\",\"fTitle\":\"Total Deposited Energy\",\"fLineColor\":602,\"fLineStyle\":1,\"fLineWidth\":1,\"fFillColor\":0,\"fFillStyle\":1001,\"fMarkerColor\":1,\"fMarkerStyle\":1,\"fMarkerSize\":1,\"fNcells\":52,\"fXaxis\":{\"_typename\":\"TAxis\",\"fUniqueID\":0,\"fBits\":50331648,\"fName\":\"xaxis\",\"fTitle\":\"\",\"fNdivisions\":510,\"fAxisColor\":1,\"fLabelColor\":1,\"fLabelFont\":42,\"fLabelOffset\":0.005,\"fLabelSize\":0.035,\"fTickLength\":0.03,\"fTitleOffset\":1,\"fTitleSize\":0.035,\"fTitleColor\":1,\"fTitleFont\":42,\"fNbins\":50,\"fXmin\":0,\"fXmax\":12,\"fXbins\":[],\"fFirst\":0,\"fLast\":0,\"fBits2\":0,\"fTimeDisplay\":false,\"fTimeFormat\":\"\",\"fLabels\":null,\"fModLabs\":null},\"fYaxis\":{\"_typename\":\"TAxis\",\"fUniqueID\":0,\"fBits\":50331648,\"fName\":\"yaxis\",\"fTitle\":\"\",\"fNdivisions\":510,\"fAxisColor\":1,\"fLabelColor\":1,\"fLabelFont\":42,\"fLabelOffset\":0.005,\"fLabelSize\":0.035,\"fTickLength\":0.03,\"fTitleOffset\":0,\"fTitleSize\":0.035,\"fTitleColor\":1,\"fTitleFont\":42,\"fNbins\":1,\"fXmin\":0,\"fXmax\":1,\"fXbins\":[],\"fFirst\":0,\"fLast\":0,\"fBits2\":0,\"fTimeDisplay\":false,\"fTimeFormat\":\"\",\"fLabels\":null,\"fModLabs\":null},\"fZaxis\":{\"_typename\":\"TAxis\",\"fUniqueID\":0,\"fBits\":50331648,\"fName\":\"zaxis\",\"fTitle\":\"\",\"fNdivisions\":510,\"fAxisColor\":1,\"fLabelColor\":1,\"fLabelFont\":42,\"fLabelOffset\":0.005,\"fLabelSize\":0.035,\"fTickLength\":0.03,\"fTitleOffset\":1,\"fTitleSize\":0.035,\"fTitleColor\":1,\"fTitleFont\":42,\"fNbins\":1,\"fXmin\":0,\"fXmax\":1,\"fXbins\":[],\"fFirst\":0,\"fLast\":0,\"fBits2\":0,\"fTimeDisplay\":false,\"fTimeFormat\":\"\",\"fLabels\":null,\"fModLabs\":null},\"fBarOffset\":0,\"fBarWidth\":1000,\"fEntries\":0,\"fTsumw\":0,\"fTsumw2\":0,\"fTsumwx\":0,\"fTsumwx2\":0,\"fMaximum\":43.05,\"fMinimum\":0,\"fNormFactor\":0,\"fContour\":[],\"fSumw2\":[],\"fOption\":\"\",\"fFunctions\":{\"_typename\":\"TList\",\"name\":\"TList\",\"arr\":[],\"opt\":[]},\"fBufferSize\":0,\"fBuffer\":[],\"fBinStatErrOpt\":0,\"fStatOverflows\":2,\"fArray\":[0,0,0,0,0,0,0,0,0,0,0,0,0,0,0,0,0,0,0,0,0,0,0,0,0,0,0,0,0,0,0,0,0,0,0,0,0,0,0,0,0,0,0,0,0,0,0,0,0,0,0,0]},\"fMaximum\":-1111,\"fMinimum\":-1111},{\"_typename\":\"TLegend\",\"fUniqueID\":0,\"fBits\":50331656,\"fLineColor\":1,\"fLineStyle\":1,\"fLineWidth\":1,\"fFillColor\":0,\"fFillStyle\":1001,\"fX1\":0.0217390413517486,\"fY1\":0.343483726923989,\"fX2\":4.52173910840698,\"fY2\":11.6441088953164,\"fX1NDC\":0.101449275362319,\"fY1NDC\":0.106382978723404,\"fX2NDC\":0.401449275362319,\"fY2NDC\":0.316382978723404,\"fBorderSize\":1,\"fInit\":1,\"fShadowColor\":1,\"fCornerRadius\":0,\"fOption\":\"brNDC\",\"fName\":\"TPave\",\"fTextAngle\":0,\"fTextSize\":0,\"fTextAlign\":12,\"fTextColor\":1,\"fTextFont\":42,\"fPrimitives\":{\"_typename\":\"TList\",\"name\":\"TList\",\"arr\":[{\"_typename\":\"TLegendEntry\",\"fUniqueID\":0,\"fBits\":50331648,\"fTextAngle\":0,\"fTextSize\":0,\"fTextAlign\":0,\"fTextColor\":0,\"fTextFont\":42,\"fLineColor\":602,\"fLineStyle\":1,\"fLineWidth\":1,\"fFillColor\":0,\"fFillStyle\":1001,\"fMarkerColor\":1,\"fMarkerStyle\":1,\"fMarkerSize\":1,\"fObject\":{\"$ref\":5},\"fLabel\":\"real energy\",\"fOption\":\"lpf\"},{\"_typename\":\"TLegendEntry\",\"fUniqueID\":0,\"fBits\":50331648,\"fTextAngle\":0,\"fTextSize\":0,\"fTextAlign\":0,\"fTextColor\":0,\"fTextFont\":42,\"fLineColor\":632,\"fLineStyle\":1,\"fLineWidth\":1,\"fFillColor\":0,\"fFillStyle\":1001,\"fMarkerColor\":1,\"fMarkerStyle\":1,\"fMarkerSize\":1,\"fObject\":{\"$ref\":10},\"fLabel\":\"generated energy\",\"fOption\":\"lpf\"}],\"opt\":[\"lpf\",\"lpf\"]},\"fEntrySeparation\":0.1,\"fMargin\":0.25,\"fNColumns\":1,\"fColumnSeparation\":0},{\"_typename\":\"TPaveText\",\"fUniqueID\":0,\"fBits\":50331657,\"fLineColor\":1,\"fLineStyle\":1,\"fLineWidth\":1,\"fFillColor\":0,\"fFillStyle\":0,\"fX1\":2.96206892024854,\"fY1\":44.8787135283243,\"fX2\":9.03793107975146,\"fY2\":48.1621881535231,\"fX1NDC\":0.297471264367816,\"fY1NDC\":0.933983055615829,\"fX2NDC\":0.702528735632184,\"fY2NDC\":0.995000004768372,\"fBorderSize\":0,\"fInit\":1,\"fShadowColor\":1,\"fCornerRadius\":0,\"fOption\":\"blNDC\",\"fName\":\"title\",\"fTextAngle\":0,\"fTextSize\":0,\"fTextAlign\":22,\"fTextColor\":1,\"fTextFont\":42,\"fLabel\":\"\",\"fLongest\":22,\"fMargin\":0.05,\"fLines\":{\"_typename\":\"TList\",\"name\":\"TList\",\"arr\":[{\"_typename\":\"TLatex\",\"fUniqueID\":0,\"fBits\":50331648,\"fName\":\"\",\"fTitle\":\"Total Deposited Energy\",\"fTextAngle\":0,\"fTextSize\":0,\"fTextAlign\":0,\"fTextColor\":0,\"fTextFont\":0,\"fX\":0,\"fY\":0,\"fLineColor\":1,\"fLineStyle\":1,\"fLineWidth\":2,\"fLimitFactorSize\":3,\"fOriginSize\":0.0518644079566002}],\"opt\":[\"\"]}}],\"opt\":[\"\",\"hist nostack\",\"\",\"blNDC\"]},\"fExecs\":null,\"fName\":\"c1\",\"fTitle\":\"c1\",\"fNumPaletteColor\":0,\"fNextPaletteColor\":0,\"fDISPLAY\":\"$DISPLAY\",\"fDoubleBuffer\":0,\"fRetained\":true,\"fXsizeUser\":0,\"fYsizeUser\":0,\"fXsizeReal\":20,\"fYsizeReal\":14.28571,\"fWindowTopX\":0,\"fWindowTopY\":0,\"fWindowWidth\":0,\"fWindowHeight\":0,\"fCw\":696,\"fCh\":472,\"fCatt\":{\"_typename\":\"TAttCanvas\",\"fXBetween\":2,\"fYBetween\":2,\"fTitleFromTop\":1.2,\"fXdate\":0.2,\"fYdate\":0.3,\"fAdate\":1},\"kMoveOpaque\":true,\"kResizeOpaque\":true,\"fHighLightColor\":2,\"fBatch\":true,\"kShowEventStatus\":false,\"kAutoExec\":true,\"kMenuBar\":true});\n",
       "       Core.draw(\"root_plot_3\", obj, \"\");\n",
       "     }\n",
       " );\n",
       "</script>\n"
      ],
      "text/plain": [
       "<IPython.core.display.HTML object>"
      ]
     },
     "metadata": {},
     "output_type": "display_data"
    }
   ],
   "source": [
    "c = ROOT.TCanvas()\n",
    "hs = ROOT.THStack(\"hs\",\"Total Deposited Energy\")\n",
    "hs.Add(htrueE)\n",
    "hgenE.SetLineColor(ROOT.kRed)\n",
    "hs.Add(hgenE)\n",
    "hs.Draw(\"hist nostack\")\n",
    "c.BuildLegend()\n",
    "c.Draw()"
   ]
  },
  {
   "cell_type": "markdown",
   "metadata": {},
   "source": [
    "We can perform a Chi2 test between the two generated histgogram to get a numerical value stating the quality of the agreement"
   ]
  },
  {
   "cell_type": "code",
   "execution_count": 30,
   "metadata": {},
   "outputs": [
    {
     "name": "stdout",
     "output_type": "stream",
     "text": [
      "Chi2/NDF =  0.9891246540157967\n"
     ]
    },
    {
     "name": "stderr",
     "output_type": "stream",
     "text": [
      "Info in <TH1D::Chi2TestX>: There is a bin in h2 with less than 1 event.\n",
      "\n"
     ]
    }
   ],
   "source": [
    "chi2_value = htrueE.Chi2Test(hgenE,'CHI2/NDF')\n",
    "print('Chi2/NDF = ',chi2_value)"
   ]
  },
  {
   "cell_type": "markdown",
   "metadata": {},
   "source": [
    "## More image analysis: Compute some statistics \n",
    "\n",
    "We compute for each image the mean position in the transverse and longitudial coordinates and the corresponding spread (standard deviation)\n",
    "\n",
    "We plot the distribution of these quantities in the real generated events and in the simulated ones with the GAN"
   ]
  },
  {
   "cell_type": "code",
   "execution_count": 38,
   "metadata": {},
   "outputs": [],
   "source": [
    "#function to compute the statistics (weighted mean and weighted standard deviation)  \n",
    "def calculate_stats(values):\n",
    "    xpos = np.array(range(-12,13))\n",
    "    #make a vector of (nevt x 25) for positions \n",
    "    vpos = np.tile(xpos,(values.shape[0],1))\n",
    "    #compute average \n",
    "    mean = np.average(vpos, weights=values, axis = 1)\n",
    "    #compute varince - need to make an array of means same shape as vpos (next x 25)\n",
    "    marray = np.tile(mean,(25,1)).transpose()\n",
    "    variance = np.average((vpos-marray)**2, weights=values, axis=1)\n",
    "    stddev = np.sqrt(variance)\n",
    "    return mean,stddev"
   ]
  },
  {
   "cell_type": "code",
   "execution_count": 39,
   "metadata": {},
   "outputs": [
    {
     "data": {
      "image/png": "[encoded data removed]",
      "text/plain": [
       "<Figure size 1008x720 with 4 Axes>"
      ]
     },
     "metadata": {},
     "output_type": "display_data"
    }
   ],
   "source": [
    "## compute also mean and standard deviation in the two directions\n",
    "\n",
    "meanx_true, stdx_true = calculate_stats(px_true)\n",
    "meany_true, stdy_true = calculate_stats(py_true)\n",
    "\n",
    "\n",
    "meanx_gen, stdx_gen = calculate_stats(px_gen)\n",
    "meany_gen, stdy_gen = calculate_stats(py_gen)\n",
    "\n",
    "\n",
    "\n",
    "plt.figure(7,figsize=(14,10))\n",
    "plt.subplot(221)\n",
    "\n",
    "plt.hist(meanx_true,50,range=(-1,1),label='trans. mean (real)')\n",
    "#plt.title('mean X (true)')\n",
    "\n",
    "#plt.subplot(222)\n",
    "plt.hist(meanx_gen,50, range=(-1,1),label='trans. mean (gen)')\n",
    "plt.legend()\n",
    "#plt.title('mean X (gen)')\n",
    "\n",
    "\n",
    "\n",
    "plt.subplot(223)\n",
    "plt.hist(stdx_true,50,range=(0,3),label='trans. std (real)')\n",
    "#plt.title('std X (true)')         \n",
    "\n",
    "#plt.subplot(224)          \n",
    "plt.hist(stdx_gen,50, range=(0,3),label='trans. std (gen)')\n",
    "#plt.title('std X (gen)')\n",
    "plt.legend()\n",
    "#plt.show()\n",
    "\n",
    "#plt.figure(0)\n",
    "plt.subplot(222)\n",
    "plt.hist(meany_true,50, range=(-5,5),label='long. mean (real)')\n",
    "#plt.title('mean Y (true)')          \n",
    "#plt.subplot(222)          \n",
    "plt.hist(meany_gen,50, range=(-5,5),label='long. mean (gen)')\n",
    "#plt.title('mean Y (gen)')\n",
    "plt.legend()\n",
    "\n",
    "plt.subplot(224)\n",
    "plt.hist(stdy_true,50,range=(0,8),label='long. std (real)')\n",
    "#plt.title('std Y (true)')         \n",
    "\n",
    "#plt.subplot(224)          \n",
    "plt.hist(stdy_gen,50,range=(0,8),label='long. std (gen)')\n",
    "#plt.title('std Y (gen)')\n",
    "plt.legend()\n",
    "          \n",
    "plt.show()"
   ]
  },
  {
   "cell_type": "code",
   "execution_count": null,
   "metadata": {},
   "outputs": [],
   "source": []
  }
 ],
 "metadata": {
  "kernelspec": {
   "display_name": "Python 3",
   "language": "python",
   "name": "python3"
  },
  "language_info": {
   "codemirror_mode": {
    "name": "ipython",
    "version": 3
   },
   "file_extension": ".py",
   "mimetype": "text/x-python",
   "name": "python",
   "nbconvert_exporter": "python",
   "pygments_lexer": "ipython3",
   "version": "3.6.5"
  }
 },
 "nbformat": 4,
 "nbformat_minor": 2
}
