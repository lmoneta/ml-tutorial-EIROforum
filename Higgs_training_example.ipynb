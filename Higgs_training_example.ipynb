{
 "cells": [
  {
   "cell_type": "markdown",
   "metadata": {},
   "source": [
    "# Event Classification with Deep Learning\n",
    "\n",
    "\n",
    "We provide here an example on how deep neural networks can be used for identifying interesting events in High Energy Physics data analysis. \n",
    "The data orifinate from collisions at high-energy particle colliders and they can reveal exotic particle discoveries. Finding these rare particles requires solving difficult signal-versus-background classification problems.  \n",
    "Machine-learning approaches can be then extreamly useful for solving these problems. \n",
    "\n",
    "In this notebook we reproduce the results of the paper *Searching for Exotic Particles in High-Energy Physics with Deep Learning* by Baldi et al.,  presenting the successful usage of deep neural networks in high-energy particle physics applications.\n",
    "\n",
    "The classification task is to distinguish between a signal process where new theoretical Higgs bosons (HIGGS) are produced, and a background process with the identical decay products but distinct kinematic features. \n",
    "\n",
    "Using the benchmark data set used in the paper we give an example on how to build first a shallow neural network with only one hidden layer  and then a deep neural network with 5 hidden layers and show that the superior classification results. \n",
    "One also can show that one cal rely only on low level features and still obtain very good classification performances. \n",
    "\n",
    "\n",
    "This example reproduces this important result with only about 100 lines of code using Keras. \n",
    "We aim to show all the working procedure: \n",
    "-  read input data\n",
    "-  define the model\n",
    "-  split input data in training, validation and test data sets\n",
    "-  perform some simple preprocessing of the input\n",
    "-  train (fit) the model to the training data and used validation for early stopping\n",
    "-  test the trained model on an independet data set (the test data) to measure the performances\n"
   ]
  },
  {
   "cell_type": "markdown",
   "metadata": {},
   "source": [
    "we start importing all the needed python modules. \n",
    "Wee will use Keras with the tensorflow implementation"
   ]
  },
  {
   "cell_type": "code",
   "execution_count": 1,
   "metadata": {},
   "outputs": [
    {
     "name": "stderr",
     "output_type": "stream",
     "text": [
      "Using TensorFlow backend.\n"
     ]
    }
   ],
   "source": [
    "import numpy as np\n",
    "np.random.seed(1234)\n",
    "import os\n",
    "os.environ[\"KERAS_BACKEND\"] = \"tensorflow\"\n",
    "import subprocess\n",
    "import h5py\n",
    "import pickle\n",
    "\n",
    "from keras.models import Sequential\n",
    "from keras.layers import Dense, advanced_activations, Dropout\n",
    "from keras import callbacks\n",
    "from keras.optimizers import Adam\n",
    "from keras.models import load_model\n",
    "\n",
    "\n",
    "from sklearn.preprocessing import StandardScaler\n",
    "from sklearn.model_selection import train_test_split\n",
    "from sklearn.metrics import roc_curve, auc\n",
    "\n",
    "import matplotlib.pyplot as plt"
   ]
  },
  {
   "cell_type": "markdown",
   "metadata": {},
   "source": [
    "## Download the dataset\n",
    "\n",
    "The full dataset has a size of about 1.2 GB. If you are using a mluserXX account you have access to a shared folder to read directly the file. \n",
    "\n",
    "Otherwise you can download from this [link](https://cernbox.cern.ch/index.php/s/ITX9KsIiqb2xs6M)\n",
    "\n",
    "Uncomment the following lines if you want to use the full data set. "
   ]
  },
  {
   "cell_type": "code",
   "execution_count": 2,
   "metadata": {},
   "outputs": [],
   "source": [
    "# read full dataset file \n",
    "#file_ = h5py.File(\"/eos/user/m/moneta/ml-data/HIGGS_data.h5\",'r')\n",
    "\n",
    "#or download the file from https://cernbox.cern.ch/index.php/s/ITX9KsIiqb2xs6M"
   ]
  },
  {
   "cell_type": "markdown",
   "metadata": {},
   "source": [
    "Otherwise we use as input a reduced data set containing 100k events that it is provided in the current directory. \n",
    "If using the full dataset, comment the following line, or do not execute the cell"
   ]
  },
  {
   "cell_type": "code",
   "execution_count": 3,
   "metadata": {},
   "outputs": [],
   "source": [
    "file_ = h5py.File(\"HIGGS_data.h5\",'r')"
   ]
  },
  {
   "cell_type": "markdown",
   "metadata": {},
   "source": [
    "## Read the input data and the targets (labels)\n",
    "\n",
    "\n",
    "The data consist of 28 input fetures of wich 21 low-level and 7 high-level variables. The variables describe kinematic properties of the event and they have different distributions between signal and background events. \n",
    "The low level features represent the basic measurements done by the particle detector such as the momentum of the observed particles.\n",
    "The high level features consist instead of physically inspired derived quantities, such as invariant mass of the constituents, which reflect the production of intermediate states appearing when signal Higgs bosons are produced. \n",
    "\n",
    "The exact data descriptions are: \n",
    "* low level features (21): \n",
    "   * lepton pT, lepton eta, lepton phi, missing energy magnitude, missing energy phi, jet 1 pt, jet 1 eta, jet 1 phi, jet 1 b-tag, jet 2 pt, jet 2 eta, jet 2 phi, jet 2 b-tag, jet 3 pt, jet 3 eta, jet 3 phi, jet 3 b-tag, jet 4 pt, jet 4 eta, jet 4 phi, jet 4 b-tag\n",
    "* high level features (7): \n",
    "   * m_jj, m_jjj, m_lv, m_jlv, m_bb, m_wbb, m_wwbb\n",
    "   \n",
    "For more detailed information about each feature see the original paper.\n",
    "\n",
    "\n",
    "\n",
    "The data consists also of labels (targets) which are equal to 1 for signal events and 0 for background events. \n",
    "\n",
    "\n",
    "We want to reproduce the result of the paper using first all features (low + high level)."
   ]
  },
  {
   "cell_type": "code",
   "execution_count": 4,
   "metadata": {},
   "outputs": [],
   "source": [
    "#file_ = h5py.File(\"HIGGS_data_small.h5\")\n",
    "inputs = np.array(file_[\"features\"][:,:])\n",
    "targets = np.array(file_[\"targets\"])"
   ]
  },
  {
   "cell_type": "code",
   "execution_count": 5,
   "metadata": {},
   "outputs": [
    {
     "name": "stdout",
     "output_type": "stream",
     "text": [
      "input data features (number of events, number of features) :  (100000, 28)\n",
      "Scan 5 input examples: \n",
      "[[ 9.0754211e-01  3.2914728e-01  3.5941187e-01  1.4979699e+00\n",
      "  -3.1300953e-01  1.0955306e+00 -5.5752492e-01 -1.5882298e+00\n",
      "   2.1730762e+00  8.1258118e-01 -2.1364193e-01  1.2710146e+00\n",
      "   2.2148721e+00  4.9999395e-01 -1.2614318e+00  7.3215616e-01\n",
      "   0.0000000e+00  3.9870089e-01 -1.1389301e+00 -8.1911020e-04\n",
      "   0.0000000e+00  3.0221990e-01  8.3304816e-01  9.8569965e-01\n",
      "   9.7809839e-01  7.7973217e-01  9.9235576e-01  7.9834259e-01]\n",
      " [ 7.9883474e-01  1.4706388e+00 -1.6359748e+00  4.5377317e-01\n",
      "   4.2562917e-01  1.1048746e+00  1.2823223e+00  1.3816643e+00\n",
      "   0.0000000e+00  8.5173720e-01  1.5406590e+00 -8.1968951e-01\n",
      "   2.2148721e+00  9.9348992e-01  3.5608011e-01 -2.0877755e-01\n",
      "   2.5482244e+00  1.2569546e+00  1.1288476e+00  9.0046084e-01\n",
      "   0.0000000e+00  9.0975326e-01  1.1083305e+00  9.8569220e-01\n",
      "   9.5133126e-01  8.0325150e-01  8.6592442e-01  7.8011757e-01]\n",
      " [ 1.3443848e+00 -8.7662601e-01  9.3591273e-01  1.9920501e+00\n",
      "   8.8245440e-01  1.7860659e+00 -1.6467777e+00 -9.4238251e-01\n",
      "   0.0000000e+00  2.4232647e+00 -6.7601579e-01  7.3615867e-01\n",
      "   2.2148721e+00  1.2987198e+00 -1.4307381e+00 -3.6465818e-01\n",
      "   0.0000000e+00  7.4531269e-01 -6.7837882e-01 -1.3603563e+00\n",
      "   0.0000000e+00  9.4665247e-01  1.0287037e+00  9.9865609e-01\n",
      "   7.2828060e-01  8.6920023e-01  1.0267365e+00  9.5790398e-01]\n",
      " [ 1.1050090e+00  3.2135555e-01  1.5224012e+00  8.8280761e-01\n",
      "  -1.2053493e+00  6.8146610e-01 -1.0704639e+00 -9.2187065e-01\n",
      "   0.0000000e+00  8.0087215e-01  1.0209740e+00  9.7140652e-01\n",
      "   2.2148721e+00  5.9676129e-01 -3.5027286e-01  6.3119429e-01\n",
      "   0.0000000e+00  4.7999889e-01 -3.7356552e-01  1.1304061e-01\n",
      "   0.0000000e+00  7.5585645e-01  1.3610570e+00  9.8660970e-01\n",
      "   8.3808464e-01  1.1332952e+00  8.7224489e-01  8.0848652e-01]]\n",
      "Input labels (number of events, number of labels)  (100000, 1)\n",
      "[[1.]\n",
      " [1.]\n",
      " [0.]\n",
      " [1.]]\n"
     ]
    }
   ],
   "source": [
    "#examine input data \n",
    "print(\"input data features (number of events, number of features) : \",inputs.shape)\n",
    "print(\"Scan 5 input examples: \")\n",
    "print(inputs[1:5])\n",
    "print(\"Input labels (number of events, number of labels) \",targets.shape)\n",
    "print(targets[1:5])"
   ]
  },
  {
   "cell_type": "markdown",
   "metadata": {},
   "source": [
    "### Examine some input features for the two classes\n",
    "\n",
    "we plot now some of input features for both signal and background events. For doing this we create two separates arrays for the input features, one for the signal events (`sig_features`) and one for the background events (`bkg_features`) "
   ]
  },
  {
   "cell_type": "code",
   "execution_count": 6,
   "metadata": {},
   "outputs": [
    {
     "name": "stdout",
     "output_type": "stream",
     "text": [
      "number of signal and background  52834 47166\n"
     ]
    }
   ],
   "source": [
    "#separate features \n",
    "sfeatures = []\n",
    "bfeatures = []\n",
    "for i in range(inputs.shape[0]): \n",
    "    if (targets[i,0] == 1): \n",
    "       sfeatures.append(inputs[i,:])\n",
    "    else:\n",
    "       bfeatures.append(inputs[i,:])\n",
    "        \n",
    "sig_features = np.array(sfeatures)\n",
    "bkg_features = np.array(bfeatures)\n",
    "print('number of signal and background ',sig_features.shape[0],bkg_features.shape[0])"
   ]
  },
  {
   "cell_type": "markdown",
   "metadata": {},
   "source": [
    "As example we plot the lepton PT and lepton Eta for the low level features and two high level features, the bb and WWbb invariant masses. \n",
    "You can notice that the two samople have slightly different distributions"
   ]
  },
  {
   "cell_type": "code",
   "execution_count": 7,
   "metadata": {},
   "outputs": [
    {
     "data": {
      "image/png": "[encoded data removed]",
      "text/plain": [
       "<Figure size 432x288 with 4 Axes>"
      ]
     },
     "metadata": {
      "needs_background": "light"
     },
     "output_type": "display_data"
    }
   ],
   "source": [
    "plt.figure(1)\n",
    "plt.subplot(221)\n",
    "n, bins, patches = plt.hist(bkg_features[:20000,0],30)\n",
    "n, bins, patches = plt.hist(sig_features[:20000,0],30)\n",
    "#n, bins, patches = plt.hist(inputs[:,0],30)\n",
    "plt.title('lepton PT')\n",
    "plt.subplot(222)\n",
    "n, bins, patches = plt.hist(bkg_features[:20000,1],30)\n",
    "n, bins, patches = plt.hist(sig_features[:20000,1],30)\n",
    "#n, bins, patches = plt.hist(inputs[:,1],30)\n",
    "plt.title('lepton ETA')\n",
    "plt.subplot(223)\n",
    "n, bins, patches = plt.hist(bkg_features[:20000,25],30)\n",
    "n, bins, patches = plt.hist(sig_features[:20000,25],30)\n",
    "plt.title('mass bb')\n",
    "plt.subplot(224)\n",
    "#n, bins, patches = plt.hist(inputs[:,27],30)\n",
    "n, bins, patches = plt.hist(bkg_features[:20000,27],30)\n",
    "n, bins, patches = plt.hist(sig_features[:20000,27],30)\n",
    "plt.title('mass WWbb')\n",
    "plt.show()"
   ]
  },
  {
   "cell_type": "markdown",
   "metadata": {},
   "source": [
    "## Set up the models\n",
    "\n",
    "We define now the neural network models. We create first a shallow neural network with a single hidden layer and then a deep neural network with 5 hidden layers.\n",
    "\n",
    "#### Shallow network\n",
    "  \n",
    "we create a network with one hidden layer with 200 units and `tanh` activation function  "
   ]
  },
  {
   "cell_type": "code",
   "execution_count": 8,
   "metadata": {},
   "outputs": [
    {
     "name": "stdout",
     "output_type": "stream",
     "text": [
      "_________________________________________________________________\n",
      "Layer (type)                 Output Shape              Param #   \n",
      "=================================================================\n",
      "dense_1 (Dense)              (None, 200)               5800      \n",
      "_________________________________________________________________\n",
      "dense_2 (Dense)              (None, 1)                 201       \n",
      "=================================================================\n",
      "Total params: 6,001\n",
      "Trainable params: 6,001\n",
      "Non-trainable params: 0\n",
      "_________________________________________________________________\n"
     ]
    }
   ],
   "source": [
    "model_shallow = Sequential()\n",
    "model_shallow.add(Dense(200, kernel_initializer=\"glorot_normal\", activation=\"tanh\", input_dim=inputs.shape[1]))\n",
    "model_shallow.add(Dense(1, kernel_initializer=\"glorot_uniform\", activation=\"sigmoid\"))\n",
    "model_shallow.summary()"
   ]
  },
  {
   "cell_type": "markdown",
   "metadata": {},
   "source": [
    "We compile then model by defining the loss function and the type of optimizer we are going to use. \n",
    "In this case we use *Nadam*, the Nesterov Adam optimizer.\n",
    "We specify also the type of loss function (`binary crossentropy`) and the training metric"
   ]
  },
  {
   "cell_type": "code",
   "execution_count": 9,
   "metadata": {},
   "outputs": [],
   "source": [
    "model_shallow.compile( loss=\"binary_crossentropy\", optimizer=\"nadam\", metrics=[\"accuracy\"])"
   ]
  },
  {
   "cell_type": "markdown",
   "metadata": {},
   "source": [
    "### Deep network\n",
    "\n",
    "We create a network with 5 hidden layers with 200 units and `RELU` activation functions "
   ]
  },
  {
   "cell_type": "code",
   "execution_count": 10,
   "metadata": {},
   "outputs": [
    {
     "name": "stdout",
     "output_type": "stream",
     "text": [
      "_________________________________________________________________\n",
      "Layer (type)                 Output Shape              Param #   \n",
      "=================================================================\n",
      "dense_3 (Dense)              (None, 200)               5800      \n",
      "_________________________________________________________________\n",
      "dense_4 (Dense)              (None, 200)               40200     \n",
      "_________________________________________________________________\n",
      "dense_5 (Dense)              (None, 200)               40200     \n",
      "_________________________________________________________________\n",
      "dense_6 (Dense)              (None, 200)               40200     \n",
      "_________________________________________________________________\n",
      "dense_7 (Dense)              (None, 200)               40200     \n",
      "_________________________________________________________________\n",
      "dense_8 (Dense)              (None, 1)                 201       \n",
      "=================================================================\n",
      "Total params: 166,801\n",
      "Trainable params: 166,801\n",
      "Non-trainable params: 0\n",
      "_________________________________________________________________\n"
     ]
    }
   ],
   "source": [
    "model_deep = Sequential()\n",
    "\n",
    "model_deep.add(Dense(200, kernel_initializer=\"glorot_normal\", activation=\"relu\" ,input_dim=inputs.shape[1]))\n",
    "model_deep.add(Dense(200, kernel_initializer=\"glorot_normal\", activation=\"relu\"))\n",
    "model_deep.add(Dense(200, kernel_initializer=\"glorot_normal\", activation=\"relu\"))\n",
    "model_deep.add(Dense(200, kernel_initializer=\"glorot_normal\", activation=\"relu\"))\n",
    "model_deep.add(Dense(200, kernel_initializer=\"glorot_normal\", activation=\"relu\"))\n",
    "\n",
    "model_deep.add(Dense(1, kernel_initializer=\"glorot_uniform\", activation=\"sigmoid\"))\n",
    "\n",
    "model_deep.summary()"
   ]
  },
  {
   "cell_type": "code",
   "execution_count": 11,
   "metadata": {},
   "outputs": [],
   "source": [
    "model_deep.compile( loss=\"binary_crossentropy\", optimizer=\"nadam\", metrics=[\"accuracy\"])"
   ]
  },
  {
   "cell_type": "markdown",
   "metadata": {},
   "source": [
    "## Define training and test data\n",
    "\n",
    "We split then the data in traiing and test data, using 20% for testing and the remaining 80% for training.\n",
    "The splitting is random. "
   ]
  },
  {
   "cell_type": "code",
   "execution_count": 12,
   "metadata": {},
   "outputs": [
    {
     "name": "stdout",
     "output_type": "stream",
     "text": [
      "splitting the total number of 100000 events in 80000 train and 20000 test events\n"
     ]
    }
   ],
   "source": [
    "# total number of events \n",
    "ntotal_evts = inputs.shape[0]\n",
    "\n",
    "inputs_train, inputs_test, targets_train, targets_test = train_test_split(\n",
    "                                            inputs, targets, test_size=0.20, random_state=1234 )\n",
    "\n",
    "print ('splitting the total number of',ntotal_evts,\n",
    "       'events in',inputs_train.shape[0],'train and',inputs_test.shape[0],'test events')"
   ]
  },
  {
   "cell_type": "markdown",
   "metadata": {},
   "source": [
    "## Prepare pre-processing\n",
    "\n",
    "As preprocessing, we use a standard scaler provided by the `sklearn` package. This preprocessing method takes each input and subtracts the mean and then divides by the standard-deviation so that the final distribution is centered around 0 with a width of 1."
   ]
  },
  {
   "cell_type": "code",
   "execution_count": 13,
   "metadata": {},
   "outputs": [],
   "source": [
    "preprocessing_input = StandardScaler()\n",
    "preprocessing_input.fit(inputs_train)\n",
    "pickle.dump(preprocessing_input, open(\"HIGGS_preprocessing.pickle\", \"wb\"))"
   ]
  },
  {
   "cell_type": "markdown",
   "metadata": {},
   "source": [
    "For example we plot the leptonPT and m_bb invariant mass after pre-processing"
   ]
  },
  {
   "cell_type": "code",
   "execution_count": 14,
   "metadata": {},
   "outputs": [
    {
     "data": {
      "image/png": "[encoded data removed]",
      "text/plain": [
       "<Figure size 432x288 with 2 Axes>"
      ]
     },
     "metadata": {
      "needs_background": "light"
     },
     "output_type": "display_data"
    }
   ],
   "source": [
    "preprocessed_input  = preprocessing_input.transform(inputs_train)\n",
    "plt.figure(1)\n",
    "plt.subplot(211)\n",
    "n, bins, patches = plt.hist(preprocessed_input[:,0],30)\n",
    "plt.title('lepton PT')\n",
    "plt.subplot(212)\n",
    "n, bins, patches = plt.hist(preprocessed_input[:,25],30)\n",
    "plt.title('mass bb')\n",
    "plt.show()"
   ]
  },
  {
   "cell_type": "markdown",
   "metadata": {},
   "source": [
    "## Model Training\n",
    "\n",
    "The following code trains the neural network model.\n",
    "During training we use 25% of the data for the validation and 75% for the actual training.\n",
    "The validation data is used to compute the loss function and use it for early stopping and for saving the best \n",
    "model weights. \n",
    "When the validation loss function does not decreare after s certain number of epochs (i.e. a full data iteration) the trainig will stop. We save also the model weights for the best value optained of the validation loss. \n",
    "\n",
    "Other parameters we can define are the batch size (e.g. 512) and the maximum number of epochs (e.g. 50)\n",
    "At the end we save the model in case we need to reuse later for predictions\n"
   ]
  },
  {
   "cell_type": "code",
   "execution_count": 15,
   "metadata": {},
   "outputs": [
    {
     "name": "stdout",
     "output_type": "stream",
     "text": [
      "Train now the shallow model \n",
      "Train on 60000 samples, validate on 20000 samples\n",
      "Epoch 1/20\n",
      "60000/60000 [==============================] - 1s 16us/step - loss: 0.6466 - acc: 0.6220 - val_loss: 0.6406 - val_acc: 0.6287\n",
      "\n",
      "Epoch 00001: val_loss improved from inf to 0.64055, saving model to model_shallow.h5\n",
      "Epoch 2/20\n",
      "60000/60000 [==============================] - 0s 6us/step - loss: 0.6368 - acc: 0.6400 - val_loss: 0.6337 - val_acc: 0.6425\n",
      "\n",
      "Epoch 00002: val_loss improved from 0.64055 to 0.63370, saving model to model_shallow.h5\n",
      "Epoch 3/20\n",
      "60000/60000 [==============================] - 0s 5us/step - loss: 0.6318 - acc: 0.6454 - val_loss: 0.6321 - val_acc: 0.6410\n",
      "\n",
      "Epoch 00003: val_loss improved from 0.63370 to 0.63211, saving model to model_shallow.h5\n",
      "Epoch 4/20\n",
      "60000/60000 [==============================] - 0s 4us/step - loss: 0.6263 - acc: 0.6519 - val_loss: 0.6322 - val_acc: 0.6424\n",
      "\n",
      "Epoch 00004: val_loss did not improve from 0.63211\n",
      "Epoch 5/20\n",
      "60000/60000 [==============================] - 0s 4us/step - loss: 0.6192 - acc: 0.6603 - val_loss: 0.6195 - val_acc: 0.6536\n",
      "\n",
      "Epoch 00005: val_loss improved from 0.63211 to 0.61950, saving model to model_shallow.h5\n",
      "Epoch 6/20\n",
      "60000/60000 [==============================] - 0s 5us/step - loss: 0.6103 - acc: 0.6688 - val_loss: 0.6074 - val_acc: 0.6664\n",
      "\n",
      "Epoch 00006: val_loss improved from 0.61950 to 0.60738, saving model to model_shallow.h5\n",
      "Epoch 7/20\n",
      "60000/60000 [==============================] - 0s 3us/step - loss: 0.6016 - acc: 0.6783 - val_loss: 0.6026 - val_acc: 0.6721\n",
      "\n",
      "Epoch 00007: val_loss improved from 0.60738 to 0.60257, saving model to model_shallow.h5\n",
      "Epoch 8/20\n",
      "60000/60000 [==============================] - 0s 4us/step - loss: 0.5943 - acc: 0.6839 - val_loss: 0.5990 - val_acc: 0.6747\n",
      "\n",
      "Epoch 00008: val_loss improved from 0.60257 to 0.59900, saving model to model_shallow.h5\n",
      "Epoch 9/20\n",
      "60000/60000 [==============================] - 0s 3us/step - loss: 0.5876 - acc: 0.6900 - val_loss: 0.5862 - val_acc: 0.6841\n",
      "\n",
      "Epoch 00009: val_loss improved from 0.59900 to 0.58624, saving model to model_shallow.h5\n",
      "Epoch 10/20\n",
      "60000/60000 [==============================] - 0s 3us/step - loss: 0.5811 - acc: 0.6956 - val_loss: 0.5809 - val_acc: 0.6894\n",
      "\n",
      "Epoch 00010: val_loss improved from 0.58624 to 0.58090, saving model to model_shallow.h5\n",
      "Epoch 11/20\n",
      "60000/60000 [==============================] - 0s 5us/step - loss: 0.5752 - acc: 0.7015 - val_loss: 0.5772 - val_acc: 0.6927\n",
      "\n",
      "Epoch 00011: val_loss improved from 0.58090 to 0.57716, saving model to model_shallow.h5\n",
      "Epoch 12/20\n",
      "60000/60000 [==============================] - 0s 4us/step - loss: 0.5702 - acc: 0.7049 - val_loss: 0.5732 - val_acc: 0.6982\n",
      "\n",
      "Epoch 00012: val_loss improved from 0.57716 to 0.57317, saving model to model_shallow.h5\n",
      "Epoch 13/20\n",
      "60000/60000 [==============================] - 0s 5us/step - loss: 0.5656 - acc: 0.7089 - val_loss: 0.5691 - val_acc: 0.7037\n",
      "\n",
      "Epoch 00013: val_loss improved from 0.57317 to 0.56906, saving model to model_shallow.h5\n",
      "Epoch 14/20\n",
      "60000/60000 [==============================] - 0s 3us/step - loss: 0.5614 - acc: 0.7113 - val_loss: 0.5679 - val_acc: 0.7056\n",
      "\n",
      "Epoch 00014: val_loss improved from 0.56906 to 0.56790, saving model to model_shallow.h5\n",
      "Epoch 15/20\n",
      "60000/60000 [==============================] - 0s 4us/step - loss: 0.5569 - acc: 0.7153 - val_loss: 0.5681 - val_acc: 0.7037\n",
      "\n",
      "Epoch 00015: val_loss did not improve from 0.56790\n",
      "Epoch 16/20\n",
      "60000/60000 [==============================] - 0s 7us/step - loss: 0.5533 - acc: 0.7157 - val_loss: 0.5672 - val_acc: 0.7028\n",
      "\n",
      "Epoch 00016: val_loss improved from 0.56790 to 0.56718, saving model to model_shallow.h5\n",
      "Epoch 17/20\n",
      "60000/60000 [==============================] - 0s 3us/step - loss: 0.5504 - acc: 0.7196 - val_loss: 0.5911 - val_acc: 0.6917\n",
      "\n",
      "Epoch 00017: val_loss did not improve from 0.56718\n",
      "Epoch 18/20\n",
      "60000/60000 [==============================] - 0s 4us/step - loss: 0.5469 - acc: 0.7218 - val_loss: 0.5622 - val_acc: 0.7097\n",
      "\n",
      "Epoch 00018: val_loss improved from 0.56718 to 0.56218, saving model to model_shallow.h5\n",
      "Epoch 19/20\n",
      "60000/60000 [==============================] - 0s 4us/step - loss: 0.5441 - acc: 0.7241 - val_loss: 0.5613 - val_acc: 0.7079\n",
      "\n",
      "Epoch 00019: val_loss improved from 0.56218 to 0.56131, saving model to model_shallow.h5\n",
      "Epoch 20/20\n",
      "60000/60000 [==============================] - 0s 3us/step - loss: 0.5412 - acc: 0.7254 - val_loss: 0.5696 - val_acc: 0.6996\n",
      "\n",
      "Epoch 00020: val_loss did not improve from 0.56131\n"
     ]
    }
   ],
   "source": [
    "early_stopper = callbacks.EarlyStopping(monitor=\"val_loss\", patience=5, mode=\"auto\")\n",
    "model_check_point = callbacks.ModelCheckpoint(\"model_shallow.h5\", monitor = 'val_loss', verbose=True, \n",
    "                                              save_best_only=True, mode='auto')\n",
    "\n",
    "    \n",
    "print(\"Train now the shallow model \")\n",
    "    \n",
    "history_s = model_shallow.fit(\n",
    "                preprocessing_input.transform(inputs_train),\n",
    "                targets_train,\n",
    "                batch_size=512,\n",
    "                epochs=20,\n",
    "                validation_split=0.25,\n",
    "                callbacks=[early_stopper, model_check_point] )\n"
   ]
  },
  {
   "cell_type": "markdown",
   "metadata": {},
   "source": [
    "We can plot the obtained values of the training and validation loss function"
   ]
  },
  {
   "cell_type": "code",
   "execution_count": 16,
   "metadata": {},
   "outputs": [
    {
     "data": {
      "image/png": "[encoded data removed]",
      "text/plain": [
       "<Figure size 432x288 with 1 Axes>"
      ]
     },
     "metadata": {
      "needs_background": "light"
     },
     "output_type": "display_data"
    }
   ],
   "source": [
    "plt.plot(history_s.history[\"loss\"], label=\"training loss\")\n",
    "plt.plot(history_s.history[\"val_loss\"], label=\"validation loss\")\n",
    "plt.legend()\n",
    "plt.show()"
   ]
  },
  {
   "cell_type": "markdown",
   "metadata": {},
   "source": [
    "### Train  the Deep model\n",
    "\n",
    "We repeat the training now, using the same parameters for the deep model. \n",
    "Being the model more complex, it will take longer...\n",
    "\n",
    "If you have a GPU in your computer, here, you can experience quickly why deep-learning is heavily dependent on GPUs to speed up the training!"
   ]
  },
  {
   "cell_type": "code",
   "execution_count": 17,
   "metadata": {},
   "outputs": [
    {
     "name": "stdout",
     "output_type": "stream",
     "text": [
      "Train now the deep model \n",
      "Train on 60000 samples, validate on 20000 samples\n",
      "Epoch 1/20\n",
      "60000/60000 [==============================] - 1s 12us/step - loss: 0.6285 - acc: 0.6409 - val_loss: 0.6126 - val_acc: 0.6555\n",
      "\n",
      "Epoch 00001: val_loss improved from inf to 0.61257, saving model to model_deep.h5\n",
      "Epoch 2/20\n",
      "60000/60000 [==============================] - 0s 8us/step - loss: 0.5820 - acc: 0.6936 - val_loss: 0.6089 - val_acc: 0.6708\n",
      "\n",
      "Epoch 00002: val_loss improved from 0.61257 to 0.60887, saving model to model_deep.h5\n",
      "Epoch 3/20\n",
      "60000/60000 [==============================] - 1s 9us/step - loss: 0.5608 - acc: 0.7096 - val_loss: 0.5690 - val_acc: 0.6969\n",
      "\n",
      "Epoch 00003: val_loss improved from 0.60887 to 0.56897, saving model to model_deep.h5\n",
      "Epoch 4/20\n",
      "60000/60000 [==============================] - 1s 9us/step - loss: 0.5447 - acc: 0.7220 - val_loss: 0.5574 - val_acc: 0.7053\n",
      "\n",
      "Epoch 00004: val_loss improved from 0.56897 to 0.55736, saving model to model_deep.h5\n",
      "Epoch 5/20\n",
      "60000/60000 [==============================] - 1s 16us/step - loss: 0.5289 - acc: 0.7326 - val_loss: 0.5702 - val_acc: 0.6976\n",
      "\n",
      "Epoch 00005: val_loss did not improve from 0.55736\n",
      "Epoch 6/20\n",
      "60000/60000 [==============================] - 0s 7us/step - loss: 0.5176 - acc: 0.7392 - val_loss: 0.5772 - val_acc: 0.7030\n",
      "\n",
      "Epoch 00006: val_loss did not improve from 0.55736\n",
      "Epoch 7/20\n",
      "60000/60000 [==============================] - 1s 11us/step - loss: 0.5037 - acc: 0.7480 - val_loss: 0.5996 - val_acc: 0.6883\n",
      "\n",
      "Epoch 00007: val_loss did not improve from 0.55736\n",
      "Epoch 8/20\n",
      "60000/60000 [==============================] - 0s 7us/step - loss: 0.4894 - acc: 0.7583 - val_loss: 0.5938 - val_acc: 0.6899\n",
      "\n",
      "Epoch 00008: val_loss did not improve from 0.55736\n",
      "Epoch 9/20\n",
      "60000/60000 [==============================] - 1s 10us/step - loss: 0.4746 - acc: 0.7662 - val_loss: 0.5815 - val_acc: 0.7084\n",
      "\n",
      "Epoch 00009: val_loss did not improve from 0.55736\n",
      "Epoch 00009: early stopping\n"
     ]
    }
   ],
   "source": [
    "print(\"Train now the deep model \")\n",
    "\n",
    "\n",
    "early_stopper = callbacks.EarlyStopping(monitor=\"val_loss\", patience=5, mode=\"auto\", verbose=True)\n",
    "model_check_point = callbacks.ModelCheckpoint(\"model_deep.h5\", monitor = 'val_loss', verbose=True, \n",
    "                                              save_best_only=True, mode='auto')\n",
    "\n",
    "\n",
    "history_d = model_deep.fit(\n",
    "                preprocessing_input.transform(inputs_train),\n",
    "                targets_train,\n",
    "                batch_size=512,\n",
    "                epochs=20,\n",
    "                validation_split=0.25,\n",
    "                callbacks=[early_stopper, model_check_point] )\n"
   ]
  },
  {
   "cell_type": "code",
   "execution_count": 18,
   "metadata": {},
   "outputs": [
    {
     "data": {
      "image/png": "[encoded data removed]",
      "text/plain": [
       "<Figure size 432x288 with 1 Axes>"
      ]
     },
     "metadata": {
      "needs_background": "light"
     },
     "output_type": "display_data"
    }
   ],
   "source": [
    "plt.plot(history_d.history[\"loss\"], label=\"training loss\")\n",
    "plt.plot(history_d.history[\"val_loss\"], label=\"validation loss\")\n",
    "plt.legend()\n",
    "plt.show()"
   ]
  },
  {
   "cell_type": "markdown",
   "metadata": {},
   "source": [
    "## Test the models\n",
    "\n",
    "Now we want to test the trained models on the indipendent test data set, which we have previously defined, and we measure the model  classification performances. \n",
    "\n",
    "We load the model best weights (saved previously in a file) and the pre-processing parameters\n"
   ]
  },
  {
   "cell_type": "code",
   "execution_count": 19,
   "metadata": {},
   "outputs": [],
   "source": [
    "model_shallow = load_model(\"model_shallow.h5\")\n",
    "model_deep = load_model(\"model_deep.h5\")\n",
    "preprocessing_input = pickle.load(open(\"HIGGS_preprocessing.pickle\", \"rb\"))"
   ]
  },
  {
   "cell_type": "markdown",
   "metadata": {},
   "source": [
    "### Model prediction using the test data \n",
    "\n",
    "Here we peform the model prediction on the test data set "
   ]
  },
  {
   "cell_type": "code",
   "execution_count": 20,
   "metadata": {},
   "outputs": [
    {
     "name": "stdout",
     "output_type": "stream",
     "text": [
      "testing models using 20000 events\n"
     ]
    }
   ],
   "source": [
    "print('testing models using',inputs_test.shape[0],'events')\n",
    "\n",
    "ntest_evts = inputs_test.shape[0]\n",
    "#in case we want to use a smaller set of test data \n",
    "#num_events = 200000\n",
    "predictions_shallow = model_shallow.predict(\n",
    "        preprocessing_input.transform(inputs_test[:ntest_evts]))\n",
    "predictions_deep = model_deep.predict(\n",
    "        preprocessing_input.transform(inputs_test[:ntest_evts]))"
   ]
  },
  {
   "cell_type": "markdown",
   "metadata": {},
   "source": [
    "### Compute ROC curve and AUC\n",
    "\n",
    "We measure the model classification performances by calculating the AUC (Area Under the ROC curve)"
   ]
  },
  {
   "cell_type": "code",
   "execution_count": 21,
   "metadata": {},
   "outputs": [
    {
     "name": "stdout",
     "output_type": "stream",
     "text": [
      "AUC shallow model =  0.7720126051725067\n",
      "AUC  deep model   =  0.7851046606156611\n"
     ]
    }
   ],
   "source": [
    "fpr_shallow, tpr_shallow, _ = roc_curve(targets_test[:ntest_evts], predictions_shallow)\n",
    "fpr_deep, tpr_deep, _ = roc_curve(targets_test[:ntest_evts], predictions_deep)\n",
    "\n",
    "auc_shallow = auc(fpr_shallow, tpr_shallow)\n",
    "auc_deep = auc(fpr_deep, tpr_deep)\n",
    "\n",
    "print(\"AUC shallow model = \",auc_shallow)\n",
    "print(\"AUC  deep model   = \",auc_deep)"
   ]
  },
  {
   "cell_type": "markdown",
   "metadata": {},
   "source": [
    "### Plot Result \n",
    "\n",
    "We plot also the resulting ROC curve for the model we have tested"
   ]
  },
  {
   "cell_type": "code",
   "execution_count": 22,
   "metadata": {},
   "outputs": [
    {
     "data": {
      "image/png": "[encoded data removed]",
      "text/plain": [
       "<Figure size 432x432 with 1 Axes>"
      ]
     },
     "metadata": {
      "needs_background": "light"
     },
     "output_type": "display_data"
    }
   ],
   "source": [
    "plt.figure(figsize=(6,6))\n",
    "plt.plot(tpr_deep, 1.0-fpr_deep, lw=3, alpha=0.8,\n",
    "        label=\"Deep (AUC={:.2f})\".format(auc_deep))\n",
    "plt.plot(tpr_shallow, 1.0-fpr_shallow, lw=3, alpha=0.8,\n",
    "        label=\"Shallow (AUC={:.2f})\".format(auc_shallow))\n",
    "plt.xlabel(\"Signal efficiency\")\n",
    "plt.ylabel(\"Background rejection\")\n",
    "plt.legend(loc=3)\n",
    "plt.xlim((0.0, 1.0))\n",
    "plt.ylim((0.0, 1.0))\n",
    "plt.savefig(\"HIGGS_roc.png\", bbox_inches=\"tight\")"
   ]
  }
 ],
 "metadata": {
  "kernelspec": {
   "display_name": "Python 3",
   "language": "python",
   "name": "python3"
  },
  "language_info": {
   "codemirror_mode": {
    "name": "ipython",
    "version": 3
   },
   "file_extension": ".py",
   "mimetype": "text/x-python",
   "name": "python",
   "nbconvert_exporter": "python",
   "pygments_lexer": "ipython3",
   "version": "3.6.7"
  }
 },
 "nbformat": 4,
 "nbformat_minor": 2
}
